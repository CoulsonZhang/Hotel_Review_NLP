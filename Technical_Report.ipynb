{
 "cells": [
  {
   "cell_type": "markdown",
   "metadata": {
    "Collapsed": "false"
   },
   "source": [
    "## Business Understanding"
   ]
  },
  {
   "cell_type": "markdown",
   "metadata": {
    "Collapsed": "false"
   },
   "source": [
    "## Imports"
   ]
  },
  {
   "cell_type": "code",
   "execution_count": 1,
   "metadata": {
    "Collapsed": "false"
   },
   "outputs": [],
   "source": [
    "import pandas as pd\n",
    "import re\n",
    "import webbrowser\n",
    "import scrapy"
   ]
  },
  {
   "cell_type": "code",
   "execution_count": 2,
   "metadata": {
    "Collapsed": "false"
   },
   "outputs": [],
   "source": [
    "df =  pd.read_csv('Datafiniti_Hotel_Reviews.csv')"
   ]
  },
  {
   "cell_type": "code",
   "execution_count": 3,
   "metadata": {
    "Collapsed": "false"
   },
   "outputs": [],
   "source": [
    "pd.set_option('display.max_rows', 0)\n",
    "pd.set_option('display.max_columns', 0)"
   ]
  },
  {
   "cell_type": "markdown",
   "metadata": {
    "Collapsed": "false"
   },
   "source": [
    "## Data Exploration"
   ]
  },
  {
   "cell_type": "code",
   "execution_count": 4,
   "metadata": {
    "Collapsed": "false"
   },
   "outputs": [
    {
     "data": {
      "text/plain": [
       "(10000, 25)"
      ]
     },
     "execution_count": 4,
     "metadata": {},
     "output_type": "execute_result"
    }
   ],
   "source": [
    "df.shape"
   ]
  },
  {
   "cell_type": "code",
   "execution_count": 5,
   "metadata": {
    "Collapsed": "false"
   },
   "outputs": [
    {
     "name": "stdout",
     "output_type": "stream",
     "text": [
      "<class 'pandas.core.frame.DataFrame'>\n",
      "RangeIndex: 10000 entries, 0 to 9999\n",
      "Data columns (total 25 columns):\n",
      "id                      10000 non-null object\n",
      "dateAdded               10000 non-null object\n",
      "dateUpdated             10000 non-null object\n",
      "address                 10000 non-null object\n",
      "categories              10000 non-null object\n",
      "primaryCategories       10000 non-null object\n",
      "city                    10000 non-null object\n",
      "country                 10000 non-null object\n",
      "keys                    10000 non-null object\n",
      "latitude                10000 non-null float64\n",
      "longitude               10000 non-null float64\n",
      "name                    10000 non-null object\n",
      "postalCode              10000 non-null object\n",
      "province                10000 non-null object\n",
      "reviews.date            10000 non-null object\n",
      "reviews.dateSeen        10000 non-null object\n",
      "reviews.rating          10000 non-null float64\n",
      "reviews.sourceURLs      10000 non-null object\n",
      "reviews.text            9999 non-null object\n",
      "reviews.title           9999 non-null object\n",
      "reviews.userCity        4164 non-null object\n",
      "reviews.userProvince    2705 non-null object\n",
      "reviews.username        10000 non-null object\n",
      "sourceURLs              10000 non-null object\n",
      "websites                10000 non-null object\n",
      "dtypes: float64(3), object(22)\n",
      "memory usage: 1.9+ MB\n"
     ]
    }
   ],
   "source": [
    "df.info()"
   ]
  },
  {
   "cell_type": "markdown",
   "metadata": {
    "Collapsed": "false"
   },
   "source": [
    "#### Initial Dataset Feature Descriptions"
   ]
  },
  {
   "cell_type": "markdown",
   "metadata": {
    "Collapsed": "false"
   },
   "source": [
    "- 'id' = id of review <br>\n",
    "- 'dateAdded' = date added string (month and year) <br>\n",
    "- 'dateUpdated' = date updated string (month and year)  <br>\n",
    "- 'address' = address of hotel <br>\n",
    "- 'categories' = type of service provided <br>\n",
    "- 'primaryCategories' = primary service <br>\n",
    "- 'city' = city of hotel <br>\n",
    "- 'country' = country of hotel (only US) <br>\n",
    "- 'keys' = ????looks like URL extension / API key???? <br>\n",
    "- 'latitude' = hotel location latitude <br>\n",
    "- 'longitude' = hotel location longitude <br>\n",
    "- 'name' =  name of hotel <br>\n",
    "- 'postalCode' = postcode of hotel <br> \n",
    "- 'province' = state that hotel is located <br>\n",
    "- 'reviews.date' = ??? <br>\n",
    "- 'reviews.dateSeen' = ??? <br>\n",
    "- 'reviews.rating' = score rating 1-5 <br>\n",
    "- 'reviews.sourceURLs' = tripadvisor description of hotel <br>\n",
    "- 'reviews.text' = written review <br>\n",
    "- 'reviews.title' = title of review <br>\n",
    "- 'reviews.userCity' = city of user who gave a review <br>\n",
    "- 'reviews.userProvince' = state the user is located <br>\n",
    "- 'reviews.username' =  username of reviewer <br>\n",
    "- 'sourceURLs' = URL of the review <br>\n",
    "- 'websites' = website of the hotel <br>"
   ]
  },
  {
   "cell_type": "code",
   "execution_count": 6,
   "metadata": {
    "Collapsed": "false"
   },
   "outputs": [
    {
     "data": {
      "text/html": [
       "<div>\n",
       "<style scoped>\n",
       "    .dataframe tbody tr th:only-of-type {\n",
       "        vertical-align: middle;\n",
       "    }\n",
       "\n",
       "    .dataframe tbody tr th {\n",
       "        vertical-align: top;\n",
       "    }\n",
       "\n",
       "    .dataframe thead th {\n",
       "        text-align: right;\n",
       "    }\n",
       "</style>\n",
       "<table border=\"1\" class=\"dataframe\">\n",
       "  <thead>\n",
       "    <tr style=\"text-align: right;\">\n",
       "      <th></th>\n",
       "      <th>id</th>\n",
       "      <th>dateAdded</th>\n",
       "      <th>dateUpdated</th>\n",
       "      <th>address</th>\n",
       "      <th>categories</th>\n",
       "      <th>primaryCategories</th>\n",
       "      <th>city</th>\n",
       "      <th>country</th>\n",
       "      <th>keys</th>\n",
       "      <th>latitude</th>\n",
       "      <th>longitude</th>\n",
       "      <th>name</th>\n",
       "      <th>postalCode</th>\n",
       "      <th>province</th>\n",
       "      <th>reviews.date</th>\n",
       "      <th>reviews.dateSeen</th>\n",
       "      <th>reviews.rating</th>\n",
       "      <th>reviews.sourceURLs</th>\n",
       "      <th>reviews.text</th>\n",
       "      <th>reviews.title</th>\n",
       "      <th>reviews.userCity</th>\n",
       "      <th>reviews.userProvince</th>\n",
       "      <th>reviews.username</th>\n",
       "      <th>sourceURLs</th>\n",
       "      <th>websites</th>\n",
       "    </tr>\n",
       "  </thead>\n",
       "  <tbody>\n",
       "    <tr>\n",
       "      <td>0</td>\n",
       "      <td>AVwc252WIN2L1WUfpqLP</td>\n",
       "      <td>2016-10-30T21:42:42Z</td>\n",
       "      <td>2018-09-10T21:06:27Z</td>\n",
       "      <td>5921 Valencia Cir</td>\n",
       "      <td>Hotels,Hotels and motels,Hotel and motel reser...</td>\n",
       "      <td>Accommodation &amp; Food Services</td>\n",
       "      <td>Rancho Santa Fe</td>\n",
       "      <td>US</td>\n",
       "      <td>us/ca/ranchosantafe/5921valenciacir/359754519</td>\n",
       "      <td>32.990959</td>\n",
       "      <td>-117.186136</td>\n",
       "      <td>Rancho Valencia Resort Spa</td>\n",
       "      <td>92067</td>\n",
       "      <td>CA</td>\n",
       "      <td>2013-11-14T00:00:00Z</td>\n",
       "      <td>2016-08-03T00:00:00Z,2016-07-26T00:00:00Z,2016...</td>\n",
       "      <td>5.0</td>\n",
       "      <td>https://www.hotels.com/hotel/125419/reviews%20/</td>\n",
       "      <td>Our experience at Rancho Valencia was absolute...</td>\n",
       "      <td>Best romantic vacation ever!!!!</td>\n",
       "      <td>NaN</td>\n",
       "      <td>NaN</td>\n",
       "      <td>Paula</td>\n",
       "      <td>http://www.hotels.com/ho125419/%25252525253Flo...</td>\n",
       "      <td>http://www.ranchovalencia.com</td>\n",
       "    </tr>\n",
       "    <tr>\n",
       "      <td>1</td>\n",
       "      <td>AVwc252WIN2L1WUfpqLP</td>\n",
       "      <td>2016-10-30T21:42:42Z</td>\n",
       "      <td>2018-09-10T21:06:27Z</td>\n",
       "      <td>5921 Valencia Cir</td>\n",
       "      <td>Hotels,Hotels and motels,Hotel and motel reser...</td>\n",
       "      <td>Accommodation &amp; Food Services</td>\n",
       "      <td>Rancho Santa Fe</td>\n",
       "      <td>US</td>\n",
       "      <td>us/ca/ranchosantafe/5921valenciacir/359754519</td>\n",
       "      <td>32.990959</td>\n",
       "      <td>-117.186136</td>\n",
       "      <td>Rancho Valencia Resort Spa</td>\n",
       "      <td>92067</td>\n",
       "      <td>CA</td>\n",
       "      <td>2014-07-06T00:00:00Z</td>\n",
       "      <td>2016-08-02T00:00:00Z,2016-08-26T00:00:00Z,2016...</td>\n",
       "      <td>5.0</td>\n",
       "      <td>https://www.hotels.com/hotel/125419/reviews%20/</td>\n",
       "      <td>Amazing place. Everyone was extremely warm and...</td>\n",
       "      <td>Sweet sweet serenity</td>\n",
       "      <td>NaN</td>\n",
       "      <td>NaN</td>\n",
       "      <td>D</td>\n",
       "      <td>http://www.hotels.com/ho125419/%25252525253Flo...</td>\n",
       "      <td>http://www.ranchovalencia.com</td>\n",
       "    </tr>\n",
       "    <tr>\n",
       "      <td>2</td>\n",
       "      <td>AVwc252WIN2L1WUfpqLP</td>\n",
       "      <td>2016-10-30T21:42:42Z</td>\n",
       "      <td>2018-09-10T21:06:27Z</td>\n",
       "      <td>5921 Valencia Cir</td>\n",
       "      <td>Hotels,Hotels and motels,Hotel and motel reser...</td>\n",
       "      <td>Accommodation &amp; Food Services</td>\n",
       "      <td>Rancho Santa Fe</td>\n",
       "      <td>US</td>\n",
       "      <td>us/ca/ranchosantafe/5921valenciacir/359754519</td>\n",
       "      <td>32.990959</td>\n",
       "      <td>-117.186136</td>\n",
       "      <td>Rancho Valencia Resort Spa</td>\n",
       "      <td>92067</td>\n",
       "      <td>CA</td>\n",
       "      <td>2015-01-02T00:00:00Z</td>\n",
       "      <td>2016-11-15T00:00:00Z,2016-08-23T00:00:00Z,2016...</td>\n",
       "      <td>5.0</td>\n",
       "      <td>https://www.hotels.com/hotel/125419/reviews%20/</td>\n",
       "      <td>We booked a 3 night stay at Rancho Valencia to...</td>\n",
       "      <td>Amazing Property and Experience</td>\n",
       "      <td>NaN</td>\n",
       "      <td>NaN</td>\n",
       "      <td>Ron</td>\n",
       "      <td>http://www.hotels.com/ho125419/%25252525253Flo...</td>\n",
       "      <td>http://www.ranchovalencia.com</td>\n",
       "    </tr>\n",
       "    <tr>\n",
       "      <td>3</td>\n",
       "      <td>AVwdOclqIN2L1WUfti38</td>\n",
       "      <td>2015-11-28T19:19:35Z</td>\n",
       "      <td>2018-09-10T21:06:16Z</td>\n",
       "      <td>7520 Teague Rd</td>\n",
       "      <td>Hotels,Hotels and motels,Travel agencies and b...</td>\n",
       "      <td>Accommodation &amp; Food Services</td>\n",
       "      <td>Hanover</td>\n",
       "      <td>US</td>\n",
       "      <td>us/md/hanover/7520teaguerd/-2043779672</td>\n",
       "      <td>39.155929</td>\n",
       "      <td>-76.716341</td>\n",
       "      <td>Aloft Arundel Mills</td>\n",
       "      <td>21076</td>\n",
       "      <td>MD</td>\n",
       "      <td>2016-05-15T00:00:00Z</td>\n",
       "      <td>2016-05-21T00:00:00Z,2016-07-31T00:00:00Z</td>\n",
       "      <td>2.0</td>\n",
       "      <td>https://www.tripadvisor.com/Hotel_Review-g4118...</td>\n",
       "      <td>Currently in bed writing this for the past hr ...</td>\n",
       "      <td>Never again...beware, if you want sleep.</td>\n",
       "      <td>Richmond</td>\n",
       "      <td>VA</td>\n",
       "      <td>jaeem2016</td>\n",
       "      <td>http://www.yellowbook.com/profile/aloft-arunde...</td>\n",
       "      <td>http://www.starwoodhotels.com/alofthotels/prop...</td>\n",
       "    </tr>\n",
       "    <tr>\n",
       "      <td>4</td>\n",
       "      <td>AVwdOclqIN2L1WUfti38</td>\n",
       "      <td>2015-11-28T19:19:35Z</td>\n",
       "      <td>2018-09-10T21:06:16Z</td>\n",
       "      <td>7520 Teague Rd</td>\n",
       "      <td>Hotels,Hotels and motels,Travel agencies and b...</td>\n",
       "      <td>Accommodation &amp; Food Services</td>\n",
       "      <td>Hanover</td>\n",
       "      <td>US</td>\n",
       "      <td>us/md/hanover/7520teaguerd/-2043779672</td>\n",
       "      <td>39.155929</td>\n",
       "      <td>-76.716341</td>\n",
       "      <td>Aloft Arundel Mills</td>\n",
       "      <td>21076</td>\n",
       "      <td>MD</td>\n",
       "      <td>2016-07-09T00:00:00Z</td>\n",
       "      <td>2016-07-31T00:00:00Z</td>\n",
       "      <td>5.0</td>\n",
       "      <td>https://www.tripadvisor.com/Hotel_Review-g4118...</td>\n",
       "      <td>I live in Md and the Aloft is my Home away fro...</td>\n",
       "      <td>ALWAYS GREAT STAY...</td>\n",
       "      <td>Laurel</td>\n",
       "      <td>MD</td>\n",
       "      <td>MamaNiaOne</td>\n",
       "      <td>http://www.yellowbook.com/profile/aloft-arunde...</td>\n",
       "      <td>http://www.starwoodhotels.com/alofthotels/prop...</td>\n",
       "    </tr>\n",
       "  </tbody>\n",
       "</table>\n",
       "</div>"
      ],
      "text/plain": [
       "                     id             dateAdded           dateUpdated            address                                         categories  ... reviews.userCity reviews.userProvince reviews.username                                         sourceURLs                                           websites\n",
       "0  AVwc252WIN2L1WUfpqLP  2016-10-30T21:42:42Z  2018-09-10T21:06:27Z  5921 Valencia Cir  Hotels,Hotels and motels,Hotel and motel reser...  ...              NaN                  NaN            Paula  http://www.hotels.com/ho125419/%25252525253Flo...                      http://www.ranchovalencia.com\n",
       "1  AVwc252WIN2L1WUfpqLP  2016-10-30T21:42:42Z  2018-09-10T21:06:27Z  5921 Valencia Cir  Hotels,Hotels and motels,Hotel and motel reser...  ...              NaN                  NaN                D  http://www.hotels.com/ho125419/%25252525253Flo...                      http://www.ranchovalencia.com\n",
       "2  AVwc252WIN2L1WUfpqLP  2016-10-30T21:42:42Z  2018-09-10T21:06:27Z  5921 Valencia Cir  Hotels,Hotels and motels,Hotel and motel reser...  ...              NaN                  NaN              Ron  http://www.hotels.com/ho125419/%25252525253Flo...                      http://www.ranchovalencia.com\n",
       "3  AVwdOclqIN2L1WUfti38  2015-11-28T19:19:35Z  2018-09-10T21:06:16Z     7520 Teague Rd  Hotels,Hotels and motels,Travel agencies and b...  ...         Richmond                   VA        jaeem2016  http://www.yellowbook.com/profile/aloft-arunde...  http://www.starwoodhotels.com/alofthotels/prop...\n",
       "4  AVwdOclqIN2L1WUfti38  2015-11-28T19:19:35Z  2018-09-10T21:06:16Z     7520 Teague Rd  Hotels,Hotels and motels,Travel agencies and b...  ...           Laurel                   MD       MamaNiaOne  http://www.yellowbook.com/profile/aloft-arunde...  http://www.starwoodhotels.com/alofthotels/prop...\n",
       "\n",
       "[5 rows x 25 columns]"
      ]
     },
     "execution_count": 6,
     "metadata": {},
     "output_type": "execute_result"
    }
   ],
   "source": [
    "df.head()"
   ]
  },
  {
   "cell_type": "markdown",
   "metadata": {
    "Collapsed": "false"
   },
   "source": [
    "#### Removing Nulls"
   ]
  },
  {
   "cell_type": "code",
   "execution_count": 7,
   "metadata": {
    "Collapsed": "false"
   },
   "outputs": [],
   "source": [
    "df.dropna(axis=0,subset=['reviews.text'],inplace=True)"
   ]
  },
  {
   "cell_type": "code",
   "execution_count": 8,
   "metadata": {
    "Collapsed": "false"
   },
   "outputs": [
    {
     "data": {
      "text/plain": [
       "(9999, 25)"
      ]
     },
     "execution_count": 8,
     "metadata": {},
     "output_type": "execute_result"
    }
   ],
   "source": [
    "df.shape"
   ]
  },
  {
   "cell_type": "markdown",
   "metadata": {
    "Collapsed": "false"
   },
   "source": [
    "#### Removing Unnecessary Columns"
   ]
  },
  {
   "cell_type": "code",
   "execution_count": 9,
   "metadata": {
    "Collapsed": "false"
   },
   "outputs": [],
   "source": [
    "df.drop(axis=1,columns=['id','country','reviews.date','reviews.dateSeen','reviews.title','reviews.userCity','reviews.userProvince','reviews.username'],inplace=True)"
   ]
  },
  {
   "cell_type": "code",
   "execution_count": 10,
   "metadata": {
    "Collapsed": "false"
   },
   "outputs": [
    {
     "data": {
      "text/plain": [
       "(9999, 17)"
      ]
     },
     "execution_count": 10,
     "metadata": {},
     "output_type": "execute_result"
    }
   ],
   "source": [
    "df.shape"
   ]
  },
  {
   "cell_type": "markdown",
   "metadata": {
    "Collapsed": "false"
   },
   "source": [
    "## Feature Engineering"
   ]
  },
  {
   "cell_type": "markdown",
   "metadata": {
    "Collapsed": "false"
   },
   "source": [
    "### Extract Features Via Webscraping Using URLs From Dataset"
   ]
  },
  {
   "cell_type": "markdown",
   "metadata": {
    "Collapsed": "false"
   },
   "source": [
    "#### Change Reviews With Multiple Review Source URLs to a Singular Source"
   ]
  },
  {
   "cell_type": "code",
   "execution_count": 11,
   "metadata": {
    "Collapsed": "false"
   },
   "outputs": [],
   "source": [
    "pd.set_option('display.max_colwidth', 280)"
   ]
  },
  {
   "cell_type": "code",
   "execution_count": 12,
   "metadata": {
    "Collapsed": "false"
   },
   "outputs": [
    {
     "data": {
      "text/plain": [
       "0                                                                                                                                                                                                                                             https://www.hotels.com/hotel/125419/reviews%20/\n",
       "1                                                                                                                                                                                                                                             https://www.hotels.com/hotel/125419/reviews%20/\n",
       "2                                                                                                                                                                                                                                             https://www.hotels.com/hotel/125419/reviews%20/\n",
       "3                                                https://www.tripadvisor.com/Hotel_Review-g41185-d1239660-Reviews-Aloft_Arundel_Mills-Hanover_Maryland.html,https://www.tripadvisor.com/Hotel_Review-g41185-d1239660-Reviews-or40-Aloft_Arundel_Mills-Hanover_Maryland.html%2525252523REVIEWS\n",
       "4                                                                                                                                                           https://www.tripadvisor.com/Hotel_Review-g41185-d1239660-Reviews-or10-Aloft_Arundel_Mills-Hanover_Maryland.html%2525252523REVIEWS\n",
       "5                                                                                                                                                           https://www.tripadvisor.com/Hotel_Review-g41185-d1239660-Reviews-or20-Aloft_Arundel_Mills-Hanover_Maryland.html%2525252523REVIEWS\n",
       "6                                                                                                                                                                                  https://www.tripadvisor.com/Hotel_Review-g41185-d1239660-Reviews-Aloft_Arundel_Mills-Hanover_Maryland.html\n",
       "7                                                https://www.tripadvisor.com/Hotel_Review-g41185-d1239660-Reviews-Aloft_Arundel_Mills-Hanover_Maryland.html,https://www.tripadvisor.com/Hotel_Review-g41185-d1239660-Reviews-or10-Aloft_Arundel_Mills-Hanover_Maryland.html%2525252523REVIEWS\n",
       "8                                                                                                                                                           https://www.tripadvisor.com/Hotel_Review-g41185-d1239660-Reviews-or30-Aloft_Arundel_Mills-Hanover_Maryland.html%2525252523REVIEWS\n",
       "9                                                                                                                                     https://www.tripadvisor.com/Hotel_Review-g60820-d6594530-Reviews-or20-Hampton_Inn_Suites_Portland_Vancouver-Vancouver_Washington.html%2525252523REVIEWS\n",
       "10                                                                                                                                                           https://www.tripadvisor.com/Hotel_Review-g60820-d6594530-Reviews-Hampton_Inn_Suites_Portland_Vancouver-Vancouver_Washington.html\n",
       "11                                                                                                                                    https://www.tripadvisor.com/Hotel_Review-g60820-d6594530-Reviews-or20-Hampton_Inn_Suites_Portland_Vancouver-Vancouver_Washington.html%2525252523REVIEWS\n",
       "12    http://www.tripadvisor.com/Hotel_Review-g60820-d6594530-Reviews-Hampton_Inn_Suites_Portland_Vancouver-Vancouver_Washington.html,https://www.tripadvisor.com/Hotel_Review-g60820-d6594530-Reviews-or10-Hampton_Inn_Suites_Portland_Vancouver-Vancouver_Washington.html%2525252523REVIEWS\n",
       "13                                                                                                                                    https://www.tripadvisor.com/Hotel_Review-g60820-d6594530-Reviews-or20-Hampton_Inn_Suites_Portland_Vancouver-Vancouver_Washington.html%2525252523REVIEWS\n",
       "14                                                                                                                                    https://www.tripadvisor.com/Hotel_Review-g60820-d6594530-Reviews-or20-Hampton_Inn_Suites_Portland_Vancouver-Vancouver_Washington.html%2525252523REVIEWS\n",
       "15                                                                                                                                                                  http://www.tripadvisor.com/Hotel_Review-g44535-d97005-Reviews-or60-Hotel_Phillips-Kansas_City_Missouri.html%252523REVIEWS\n",
       "16                                                                                                                                                                  http://www.tripadvisor.com/Hotel_Review-g44535-d97005-Reviews-or40-Hotel_Phillips-Kansas_City_Missouri.html%252523REVIEWS\n",
       "17                                                                                                                                                                  http://www.tripadvisor.com/Hotel_Review-g44535-d97005-Reviews-or20-Hotel_Phillips-Kansas_City_Missouri.html%252523REVIEWS\n",
       "18                                                                                                                                                                  http://www.tripadvisor.com/Hotel_Review-g44535-d97005-Reviews-or30-Hotel_Phillips-Kansas_City_Missouri.html%252523REVIEWS\n",
       "19                                                                                                                                                                  http://www.tripadvisor.com/Hotel_Review-g44535-d97005-Reviews-or60-Hotel_Phillips-Kansas_City_Missouri.html%252523REVIEWS\n",
       "Name: reviews.sourceURLs, dtype: object"
      ]
     },
     "execution_count": 12,
     "metadata": {},
     "output_type": "execute_result"
    }
   ],
   "source": [
    "df['reviews.sourceURLs'].head(20)"
   ]
  },
  {
   "cell_type": "code",
   "execution_count": 13,
   "metadata": {
    "Collapsed": "false"
   },
   "outputs": [
    {
     "data": {
      "text/plain": [
       "(1398, 17)"
      ]
     },
     "execution_count": 13,
     "metadata": {},
     "output_type": "execute_result"
    }
   ],
   "source": [
    "df[df['reviews.sourceURLs'].str.contains(',')].shape"
   ]
  },
  {
   "cell_type": "code",
   "execution_count": 14,
   "metadata": {
    "Collapsed": "false"
   },
   "outputs": [
    {
     "data": {
      "text/plain": [
       "(9999, 17)"
      ]
     },
     "execution_count": 14,
     "metadata": {},
     "output_type": "execute_result"
    }
   ],
   "source": [
    "df[df['sourceURLs'].str.contains(',')].shape"
   ]
  },
  {
   "cell_type": "code",
   "execution_count": 15,
   "metadata": {
    "Collapsed": "false"
   },
   "outputs": [],
   "source": [
    "df['reviews.sourceURLs'] = df['reviews.sourceURLs'].apply(lambda x: x.split(',')[0])"
   ]
  },
  {
   "cell_type": "code",
   "execution_count": 16,
   "metadata": {
    "Collapsed": "false"
   },
   "outputs": [],
   "source": [
    "df['sourceURLs'] = df['sourceURLs'].apply(lambda x: x.split(',')[0])"
   ]
  },
  {
   "cell_type": "code",
   "execution_count": 17,
   "metadata": {
    "Collapsed": "false"
   },
   "outputs": [
    {
     "data": {
      "text/plain": [
       "0                                                                                                             https://www.hotels.com/hotel/125419/reviews%20/\n",
       "1                                                                                                             https://www.hotels.com/hotel/125419/reviews%20/\n",
       "2                                                                                                             https://www.hotels.com/hotel/125419/reviews%20/\n",
       "3                                                  https://www.tripadvisor.com/Hotel_Review-g41185-d1239660-Reviews-Aloft_Arundel_Mills-Hanover_Maryland.html\n",
       "4                           https://www.tripadvisor.com/Hotel_Review-g41185-d1239660-Reviews-or10-Aloft_Arundel_Mills-Hanover_Maryland.html%2525252523REVIEWS\n",
       "5                           https://www.tripadvisor.com/Hotel_Review-g41185-d1239660-Reviews-or20-Aloft_Arundel_Mills-Hanover_Maryland.html%2525252523REVIEWS\n",
       "6                                                  https://www.tripadvisor.com/Hotel_Review-g41185-d1239660-Reviews-Aloft_Arundel_Mills-Hanover_Maryland.html\n",
       "7                                                  https://www.tripadvisor.com/Hotel_Review-g41185-d1239660-Reviews-Aloft_Arundel_Mills-Hanover_Maryland.html\n",
       "8                           https://www.tripadvisor.com/Hotel_Review-g41185-d1239660-Reviews-or30-Aloft_Arundel_Mills-Hanover_Maryland.html%2525252523REVIEWS\n",
       "9     https://www.tripadvisor.com/Hotel_Review-g60820-d6594530-Reviews-or20-Hampton_Inn_Suites_Portland_Vancouver-Vancouver_Washington.html%2525252523REVIEWS\n",
       "10                           https://www.tripadvisor.com/Hotel_Review-g60820-d6594530-Reviews-Hampton_Inn_Suites_Portland_Vancouver-Vancouver_Washington.html\n",
       "11    https://www.tripadvisor.com/Hotel_Review-g60820-d6594530-Reviews-or20-Hampton_Inn_Suites_Portland_Vancouver-Vancouver_Washington.html%2525252523REVIEWS\n",
       "12                            http://www.tripadvisor.com/Hotel_Review-g60820-d6594530-Reviews-Hampton_Inn_Suites_Portland_Vancouver-Vancouver_Washington.html\n",
       "13    https://www.tripadvisor.com/Hotel_Review-g60820-d6594530-Reviews-or20-Hampton_Inn_Suites_Portland_Vancouver-Vancouver_Washington.html%2525252523REVIEWS\n",
       "14    https://www.tripadvisor.com/Hotel_Review-g60820-d6594530-Reviews-or20-Hampton_Inn_Suites_Portland_Vancouver-Vancouver_Washington.html%2525252523REVIEWS\n",
       "15                                  http://www.tripadvisor.com/Hotel_Review-g44535-d97005-Reviews-or60-Hotel_Phillips-Kansas_City_Missouri.html%252523REVIEWS\n",
       "16                                  http://www.tripadvisor.com/Hotel_Review-g44535-d97005-Reviews-or40-Hotel_Phillips-Kansas_City_Missouri.html%252523REVIEWS\n",
       "17                                  http://www.tripadvisor.com/Hotel_Review-g44535-d97005-Reviews-or20-Hotel_Phillips-Kansas_City_Missouri.html%252523REVIEWS\n",
       "18                                  http://www.tripadvisor.com/Hotel_Review-g44535-d97005-Reviews-or30-Hotel_Phillips-Kansas_City_Missouri.html%252523REVIEWS\n",
       "19                                  http://www.tripadvisor.com/Hotel_Review-g44535-d97005-Reviews-or60-Hotel_Phillips-Kansas_City_Missouri.html%252523REVIEWS\n",
       "Name: reviews.sourceURLs, dtype: object"
      ]
     },
     "execution_count": 17,
     "metadata": {},
     "output_type": "execute_result"
    }
   ],
   "source": [
    "df['reviews.sourceURLs'].head(20)"
   ]
  },
  {
   "cell_type": "code",
   "execution_count": 18,
   "metadata": {
    "Collapsed": "false"
   },
   "outputs": [
    {
     "data": {
      "text/plain": [
       "(0, 17)"
      ]
     },
     "execution_count": 18,
     "metadata": {},
     "output_type": "execute_result"
    }
   ],
   "source": [
    "df[df['reviews.sourceURLs'].str.contains(',')].shape"
   ]
  },
  {
   "cell_type": "code",
   "execution_count": 19,
   "metadata": {
    "Collapsed": "false"
   },
   "outputs": [
    {
     "data": {
      "text/plain": [
       "0                   http://www.hotels.com/ho125419/%25252525253Flocale%25252525253Den_US%252525252526pos%25252525253DHCOM_US\n",
       "1                   http://www.hotels.com/ho125419/%25252525253Flocale%25252525253Den_US%252525252526pos%25252525253DHCOM_US\n",
       "2                   http://www.hotels.com/ho125419/%25252525253Flocale%25252525253Den_US%252525252526pos%25252525253DHCOM_US\n",
       "3                                                      http://www.yellowbook.com/profile/aloft-arundel-mills_1896561264.html\n",
       "4                                                      http://www.yellowbook.com/profile/aloft-arundel-mills_1896561264.html\n",
       "5                                                      http://www.yellowbook.com/profile/aloft-arundel-mills_1896561264.html\n",
       "6                                                      http://www.yellowbook.com/profile/aloft-arundel-mills_1896561264.html\n",
       "7                                                      http://www.yellowbook.com/profile/aloft-arundel-mills_1896561264.html\n",
       "8                                                      http://www.yellowbook.com/profile/aloft-arundel-mills_1896561264.html\n",
       "9                               https://www.yellowpages.com/vancouver-wa/mip/hampton-inn-suites-portland-vancouver-496239125\n",
       "10                              https://www.yellowpages.com/vancouver-wa/mip/hampton-inn-suites-portland-vancouver-496239125\n",
       "11                              https://www.yellowpages.com/vancouver-wa/mip/hampton-inn-suites-portland-vancouver-496239125\n",
       "12                              https://www.yellowpages.com/vancouver-wa/mip/hampton-inn-suites-portland-vancouver-496239125\n",
       "13                              https://www.yellowpages.com/vancouver-wa/mip/hampton-inn-suites-portland-vancouver-496239125\n",
       "14                              https://www.yellowpages.com/vancouver-wa/mip/hampton-inn-suites-portland-vancouver-496239125\n",
       "15    http://www.gayot.com/Hotels/Select-Your-City/United-States/Missouri/Kansas-City/Hotel-Phillips-Kansas-City-KCHOT110702\n",
       "16    http://www.gayot.com/Hotels/Select-Your-City/United-States/Missouri/Kansas-City/Hotel-Phillips-Kansas-City-KCHOT110702\n",
       "17    http://www.gayot.com/Hotels/Select-Your-City/United-States/Missouri/Kansas-City/Hotel-Phillips-Kansas-City-KCHOT110702\n",
       "18    http://www.gayot.com/Hotels/Select-Your-City/United-States/Missouri/Kansas-City/Hotel-Phillips-Kansas-City-KCHOT110702\n",
       "19    http://www.gayot.com/Hotels/Select-Your-City/United-States/Missouri/Kansas-City/Hotel-Phillips-Kansas-City-KCHOT110702\n",
       "Name: sourceURLs, dtype: object"
      ]
     },
     "execution_count": 19,
     "metadata": {},
     "output_type": "execute_result"
    }
   ],
   "source": [
    "df['sourceURLs'].head(20)"
   ]
  },
  {
   "cell_type": "code",
   "execution_count": 20,
   "metadata": {
    "Collapsed": "false"
   },
   "outputs": [
    {
     "data": {
      "text/plain": [
       "(0, 17)"
      ]
     },
     "execution_count": 20,
     "metadata": {},
     "output_type": "execute_result"
    }
   ],
   "source": [
    "df[df['sourceURLs'].str.contains(',')].shape"
   ]
  },
  {
   "cell_type": "markdown",
   "metadata": {
    "Collapsed": "false"
   },
   "source": [
    "#### Creating Columns With URL Roots"
   ]
  },
  {
   "cell_type": "code",
   "execution_count": 21,
   "metadata": {
    "Collapsed": "false"
   },
   "outputs": [],
   "source": [
    "pattern = re.compile(r'https?://(www\\.)?(\\w+)(\\.\\w+)')"
   ]
  },
  {
   "cell_type": "code",
   "execution_count": 22,
   "metadata": {
    "Collapsed": "false"
   },
   "outputs": [],
   "source": [
    "df.loc[:,'review_source_URL_root'] = df['reviews.sourceURLs'].apply(lambda x: pattern.findall(x)[0][1])"
   ]
  },
  {
   "cell_type": "code",
   "execution_count": 23,
   "metadata": {
    "Collapsed": "false"
   },
   "outputs": [],
   "source": [
    "df.loc[:,'URL_root'] = df['sourceURLs'].apply(lambda x: pattern.findall(x)[0][1])"
   ]
  },
  {
   "cell_type": "code",
   "execution_count": 24,
   "metadata": {
    "Collapsed": "false"
   },
   "outputs": [
    {
     "data": {
      "text/html": [
       "<div>\n",
       "<style scoped>\n",
       "    .dataframe tbody tr th:only-of-type {\n",
       "        vertical-align: middle;\n",
       "    }\n",
       "\n",
       "    .dataframe tbody tr th {\n",
       "        vertical-align: top;\n",
       "    }\n",
       "\n",
       "    .dataframe thead th {\n",
       "        text-align: right;\n",
       "    }\n",
       "</style>\n",
       "<table border=\"1\" class=\"dataframe\">\n",
       "  <thead>\n",
       "    <tr style=\"text-align: right;\">\n",
       "      <th></th>\n",
       "      <th>review_source_URL_root</th>\n",
       "      <th>count</th>\n",
       "    </tr>\n",
       "  </thead>\n",
       "  <tbody>\n",
       "    <tr>\n",
       "      <td>8</td>\n",
       "      <td>tripadvisor</td>\n",
       "      <td>5695</td>\n",
       "    </tr>\n",
       "    <tr>\n",
       "      <td>3</td>\n",
       "      <td>expedia</td>\n",
       "      <td>1830</td>\n",
       "    </tr>\n",
       "    <tr>\n",
       "      <td>0</td>\n",
       "      <td>booking</td>\n",
       "      <td>1222</td>\n",
       "    </tr>\n",
       "    <tr>\n",
       "      <td>4</td>\n",
       "      <td>hotels</td>\n",
       "      <td>1190</td>\n",
       "    </tr>\n",
       "    <tr>\n",
       "      <td>1</td>\n",
       "      <td>citysearch</td>\n",
       "      <td>21</td>\n",
       "    </tr>\n",
       "    <tr>\n",
       "      <td>5</td>\n",
       "      <td>insiderpages</td>\n",
       "      <td>15</td>\n",
       "    </tr>\n",
       "    <tr>\n",
       "      <td>10</td>\n",
       "      <td>yellowpages</td>\n",
       "      <td>13</td>\n",
       "    </tr>\n",
       "    <tr>\n",
       "      <td>7</td>\n",
       "      <td>theknot</td>\n",
       "      <td>9</td>\n",
       "    </tr>\n",
       "    <tr>\n",
       "      <td>6</td>\n",
       "      <td>marriott</td>\n",
       "      <td>2</td>\n",
       "    </tr>\n",
       "    <tr>\n",
       "      <td>2</td>\n",
       "      <td>dexknows</td>\n",
       "      <td>1</td>\n",
       "    </tr>\n",
       "    <tr>\n",
       "      <td>9</td>\n",
       "      <td>yellowbook</td>\n",
       "      <td>1</td>\n",
       "    </tr>\n",
       "  </tbody>\n",
       "</table>\n",
       "</div>"
      ],
      "text/plain": [
       "   review_source_URL_root  count\n",
       "8             tripadvisor   5695\n",
       "3                 expedia   1830\n",
       "0                 booking   1222\n",
       "4                  hotels   1190\n",
       "1              citysearch     21\n",
       "5            insiderpages     15\n",
       "10            yellowpages     13\n",
       "7                 theknot      9\n",
       "6                marriott      2\n",
       "2                dexknows      1\n",
       "9              yellowbook      1"
      ]
     },
     "execution_count": 24,
     "metadata": {},
     "output_type": "execute_result"
    }
   ],
   "source": [
    "df.groupby('review_source_URL_root').size().reset_index(name='count').sort_values(by='count',ascending=False)"
   ]
  },
  {
   "cell_type": "code",
   "execution_count": 25,
   "metadata": {
    "Collapsed": "false"
   },
   "outputs": [
    {
     "data": {
      "text/html": [
       "<div>\n",
       "<style scoped>\n",
       "    .dataframe tbody tr th:only-of-type {\n",
       "        vertical-align: middle;\n",
       "    }\n",
       "\n",
       "    .dataframe tbody tr th {\n",
       "        vertical-align: top;\n",
       "    }\n",
       "\n",
       "    .dataframe thead th {\n",
       "        text-align: right;\n",
       "    }\n",
       "</style>\n",
       "<table border=\"1\" class=\"dataframe\">\n",
       "  <thead>\n",
       "    <tr style=\"text-align: right;\">\n",
       "      <th></th>\n",
       "      <th>URL_root</th>\n",
       "      <th>count</th>\n",
       "    </tr>\n",
       "  </thead>\n",
       "  <tbody>\n",
       "    <tr>\n",
       "      <td>4</td>\n",
       "      <td>foursquare</td>\n",
       "      <td>2026</td>\n",
       "    </tr>\n",
       "    <tr>\n",
       "      <td>19</td>\n",
       "      <td>yellowpages</td>\n",
       "      <td>1719</td>\n",
       "    </tr>\n",
       "    <tr>\n",
       "      <td>16</td>\n",
       "      <td>tripadvisor</td>\n",
       "      <td>1680</td>\n",
       "    </tr>\n",
       "    <tr>\n",
       "      <td>3</td>\n",
       "      <td>expedia</td>\n",
       "      <td>1531</td>\n",
       "    </tr>\n",
       "    <tr>\n",
       "      <td>1</td>\n",
       "      <td>booking</td>\n",
       "      <td>1054</td>\n",
       "    </tr>\n",
       "    <tr>\n",
       "      <td>18</td>\n",
       "      <td>yellowbook</td>\n",
       "      <td>1043</td>\n",
       "    </tr>\n",
       "    <tr>\n",
       "      <td>6</td>\n",
       "      <td>hotels</td>\n",
       "      <td>278</td>\n",
       "    </tr>\n",
       "    <tr>\n",
       "      <td>2</td>\n",
       "      <td>citysearch</td>\n",
       "      <td>243</td>\n",
       "    </tr>\n",
       "    <tr>\n",
       "      <td>12</td>\n",
       "      <td>telegraph</td>\n",
       "      <td>93</td>\n",
       "    </tr>\n",
       "    <tr>\n",
       "      <td>17</td>\n",
       "      <td>weddingwire</td>\n",
       "      <td>57</td>\n",
       "    </tr>\n",
       "    <tr>\n",
       "      <td>5</td>\n",
       "      <td>gayot</td>\n",
       "      <td>44</td>\n",
       "    </tr>\n",
       "    <tr>\n",
       "      <td>14</td>\n",
       "      <td>travelandleisure</td>\n",
       "      <td>42</td>\n",
       "    </tr>\n",
       "    <tr>\n",
       "      <td>13</td>\n",
       "      <td>timeout</td>\n",
       "      <td>40</td>\n",
       "    </tr>\n",
       "    <tr>\n",
       "      <td>15</td>\n",
       "      <td>trip</td>\n",
       "      <td>40</td>\n",
       "    </tr>\n",
       "    <tr>\n",
       "      <td>20</td>\n",
       "      <td>zoover</td>\n",
       "      <td>34</td>\n",
       "    </tr>\n",
       "    <tr>\n",
       "      <td>8</td>\n",
       "      <td>kudzu</td>\n",
       "      <td>21</td>\n",
       "    </tr>\n",
       "    <tr>\n",
       "      <td>10</td>\n",
       "      <td>marriott</td>\n",
       "      <td>19</td>\n",
       "    </tr>\n",
       "    <tr>\n",
       "      <td>7</td>\n",
       "      <td>insiderpages</td>\n",
       "      <td>17</td>\n",
       "    </tr>\n",
       "    <tr>\n",
       "      <td>11</td>\n",
       "      <td>superpages</td>\n",
       "      <td>16</td>\n",
       "    </tr>\n",
       "    <tr>\n",
       "      <td>9</td>\n",
       "      <td>local</td>\n",
       "      <td>1</td>\n",
       "    </tr>\n",
       "    <tr>\n",
       "      <td>0</td>\n",
       "      <td>bbb</td>\n",
       "      <td>1</td>\n",
       "    </tr>\n",
       "  </tbody>\n",
       "</table>\n",
       "</div>"
      ],
      "text/plain": [
       "            URL_root  count\n",
       "4         foursquare   2026\n",
       "19       yellowpages   1719\n",
       "16       tripadvisor   1680\n",
       "3            expedia   1531\n",
       "1            booking   1054\n",
       "18        yellowbook   1043\n",
       "6             hotels    278\n",
       "2         citysearch    243\n",
       "12         telegraph     93\n",
       "17       weddingwire     57\n",
       "5              gayot     44\n",
       "14  travelandleisure     42\n",
       "13           timeout     40\n",
       "15              trip     40\n",
       "20            zoover     34\n",
       "8              kudzu     21\n",
       "10          marriott     19\n",
       "7       insiderpages     17\n",
       "11        superpages     16\n",
       "9              local      1\n",
       "0                bbb      1"
      ]
     },
     "execution_count": 25,
     "metadata": {},
     "output_type": "execute_result"
    }
   ],
   "source": [
    "df.groupby('URL_root').size().reset_index(name='count').sort_values(by='count',ascending=False)"
   ]
  },
  {
   "cell_type": "code",
   "execution_count": 26,
   "metadata": {
    "Collapsed": "false"
   },
   "outputs": [
    {
     "data": {
      "text/html": [
       "<div>\n",
       "<style scoped>\n",
       "    .dataframe tbody tr th:only-of-type {\n",
       "        vertical-align: middle;\n",
       "    }\n",
       "\n",
       "    .dataframe tbody tr th {\n",
       "        vertical-align: top;\n",
       "    }\n",
       "\n",
       "    .dataframe thead th {\n",
       "        text-align: right;\n",
       "    }\n",
       "</style>\n",
       "<table border=\"1\" class=\"dataframe\">\n",
       "  <thead>\n",
       "    <tr style=\"text-align: right;\">\n",
       "      <th></th>\n",
       "      <th>reviews.sourceURLs</th>\n",
       "      <th>review_source_URL_root</th>\n",
       "      <th>sourceURLs</th>\n",
       "      <th>URL_root</th>\n",
       "    </tr>\n",
       "  </thead>\n",
       "  <tbody>\n",
       "    <tr>\n",
       "      <td>0</td>\n",
       "      <td>https://www.hotels.com/hotel/125419/reviews%20/</td>\n",
       "      <td>hotels</td>\n",
       "      <td>http://www.hotels.com/ho125419/%25252525253Flocale%25252525253Den_US%252525252526pos%25252525253DHCOM_US</td>\n",
       "      <td>hotels</td>\n",
       "    </tr>\n",
       "    <tr>\n",
       "      <td>1</td>\n",
       "      <td>https://www.hotels.com/hotel/125419/reviews%20/</td>\n",
       "      <td>hotels</td>\n",
       "      <td>http://www.hotels.com/ho125419/%25252525253Flocale%25252525253Den_US%252525252526pos%25252525253DHCOM_US</td>\n",
       "      <td>hotels</td>\n",
       "    </tr>\n",
       "    <tr>\n",
       "      <td>2</td>\n",
       "      <td>https://www.hotels.com/hotel/125419/reviews%20/</td>\n",
       "      <td>hotels</td>\n",
       "      <td>http://www.hotels.com/ho125419/%25252525253Flocale%25252525253Den_US%252525252526pos%25252525253DHCOM_US</td>\n",
       "      <td>hotels</td>\n",
       "    </tr>\n",
       "    <tr>\n",
       "      <td>3</td>\n",
       "      <td>https://www.tripadvisor.com/Hotel_Review-g41185-d1239660-Reviews-Aloft_Arundel_Mills-Hanover_Maryland.html</td>\n",
       "      <td>tripadvisor</td>\n",
       "      <td>http://www.yellowbook.com/profile/aloft-arundel-mills_1896561264.html</td>\n",
       "      <td>yellowbook</td>\n",
       "    </tr>\n",
       "    <tr>\n",
       "      <td>4</td>\n",
       "      <td>https://www.tripadvisor.com/Hotel_Review-g41185-d1239660-Reviews-or10-Aloft_Arundel_Mills-Hanover_Maryland.html%2525252523REVIEWS</td>\n",
       "      <td>tripadvisor</td>\n",
       "      <td>http://www.yellowbook.com/profile/aloft-arundel-mills_1896561264.html</td>\n",
       "      <td>yellowbook</td>\n",
       "    </tr>\n",
       "  </tbody>\n",
       "</table>\n",
       "</div>"
      ],
      "text/plain": [
       "                                                                                                                  reviews.sourceURLs review_source_URL_root                                                                                                sourceURLs    URL_root\n",
       "0                                                                                    https://www.hotels.com/hotel/125419/reviews%20/                 hotels  http://www.hotels.com/ho125419/%25252525253Flocale%25252525253Den_US%252525252526pos%25252525253DHCOM_US      hotels\n",
       "1                                                                                    https://www.hotels.com/hotel/125419/reviews%20/                 hotels  http://www.hotels.com/ho125419/%25252525253Flocale%25252525253Den_US%252525252526pos%25252525253DHCOM_US      hotels\n",
       "2                                                                                    https://www.hotels.com/hotel/125419/reviews%20/                 hotels  http://www.hotels.com/ho125419/%25252525253Flocale%25252525253Den_US%252525252526pos%25252525253DHCOM_US      hotels\n",
       "3                         https://www.tripadvisor.com/Hotel_Review-g41185-d1239660-Reviews-Aloft_Arundel_Mills-Hanover_Maryland.html            tripadvisor                                     http://www.yellowbook.com/profile/aloft-arundel-mills_1896561264.html  yellowbook\n",
       "4  https://www.tripadvisor.com/Hotel_Review-g41185-d1239660-Reviews-or10-Aloft_Arundel_Mills-Hanover_Maryland.html%2525252523REVIEWS            tripadvisor                                     http://www.yellowbook.com/profile/aloft-arundel-mills_1896561264.html  yellowbook"
      ]
     },
     "execution_count": 26,
     "metadata": {},
     "output_type": "execute_result"
    }
   ],
   "source": [
    "df[['reviews.sourceURLs','review_source_URL_root','sourceURLs','URL_root']].head()"
   ]
  },
  {
   "cell_type": "markdown",
   "metadata": {
    "Collapsed": "false"
   },
   "source": [
    "#### Tripadvisor.com"
   ]
  },
  {
   "cell_type": "markdown",
   "metadata": {
    "Collapsed": "false"
   },
   "source": [
    "Should be easy to scrape average scores for subcategories. <br>\n",
    "\n",
    "Review round-ups found in 'reviews.sourceURLs' not 'sourceURLs'.\n",
    "\n",
    "Categories: \n",
    "\n",
    "- Location \n",
    "- Cleanliness \n",
    "- Service  \n",
    "- Value "
   ]
  },
  {
   "cell_type": "code",
   "execution_count": 27,
   "metadata": {
    "Collapsed": "false"
   },
   "outputs": [],
   "source": [
    "tripadvisor_df = df[df['review_source_URL_root']=='tripadvisor']['reviews.sourceURLs'].reset_index(drop=True)"
   ]
  },
  {
   "cell_type": "code",
   "execution_count": 28,
   "metadata": {
    "Collapsed": "false"
   },
   "outputs": [
    {
     "data": {
      "text/plain": [
       "(5695,)"
      ]
     },
     "execution_count": 28,
     "metadata": {},
     "output_type": "execute_result"
    }
   ],
   "source": [
    "tripadvisor_df.shape"
   ]
  },
  {
   "cell_type": "code",
   "execution_count": 29,
   "metadata": {
    "Collapsed": "false"
   },
   "outputs": [],
   "source": [
    "# for i in range(5640,5662):\n",
    "#     webbrowser.open(tripadvisor_df.loc[i], new=2)"
   ]
  },
  {
   "cell_type": "markdown",
   "metadata": {
    "Collapsed": "false"
   },
   "source": [
    "#### Hotels.com"
   ]
  },
  {
   "cell_type": "markdown",
   "metadata": {
    "Collapsed": "false"
   },
   "source": [
    "Not easy to scrape and majority of URLs led to page not found."
   ]
  },
  {
   "cell_type": "code",
   "execution_count": 30,
   "metadata": {
    "Collapsed": "false"
   },
   "outputs": [],
   "source": [
    "hotels_df = df[df['URL_root']=='hotels']['sourceURLs'].reset_index(drop=True)"
   ]
  },
  {
   "cell_type": "code",
   "execution_count": 31,
   "metadata": {
    "Collapsed": "false"
   },
   "outputs": [
    {
     "data": {
      "text/plain": [
       "(278,)"
      ]
     },
     "execution_count": 31,
     "metadata": {},
     "output_type": "execute_result"
    }
   ],
   "source": [
    "hotels_df.shape"
   ]
  },
  {
   "cell_type": "code",
   "execution_count": 32,
   "metadata": {
    "Collapsed": "false"
   },
   "outputs": [],
   "source": [
    "# for i in range(0,20):\n",
    "#     webbrowser.open(hotels_df.loc[i], new=2)"
   ]
  },
  {
   "cell_type": "markdown",
   "metadata": {
    "Collapsed": "false"
   },
   "source": [
    "#### Expedia.com"
   ]
  },
  {
   "cell_type": "markdown",
   "metadata": {
    "Collapsed": "false"
   },
   "source": [
    "Should be easy to scrape average scores for subcategories. <br>\n",
    "\n",
    "Review round-ups found in 'reviews.sourceURLs' not 'sourceURLs'.\n",
    "\n",
    "Categories: \n",
    "\n",
    "- Room cleanliness\n",
    "- Service & staff\n",
    "- Room comfort\n",
    "- Hotel condition"
   ]
  },
  {
   "cell_type": "code",
   "execution_count": 33,
   "metadata": {
    "Collapsed": "false"
   },
   "outputs": [],
   "source": [
    "expedia_df = df[df['URL_root']=='expedia']['reviews.sourceURLs'].reset_index(drop=True)"
   ]
  },
  {
   "cell_type": "code",
   "execution_count": 34,
   "metadata": {
    "Collapsed": "false"
   },
   "outputs": [
    {
     "data": {
      "text/plain": [
       "(1531,)"
      ]
     },
     "execution_count": 34,
     "metadata": {},
     "output_type": "execute_result"
    }
   ],
   "source": [
    "expedia_df.shape"
   ]
  },
  {
   "cell_type": "code",
   "execution_count": 35,
   "metadata": {
    "Collapsed": "false"
   },
   "outputs": [],
   "source": [
    "# for i in range(120,140):\n",
    "#     webbrowser.open(expedia_df.loc[i], new=2)"
   ]
  },
  {
   "cell_type": "markdown",
   "metadata": {
    "Collapsed": "false"
   },
   "source": [
    "#### Booking.com"
   ]
  },
  {
   "cell_type": "markdown",
   "metadata": {
    "Collapsed": "false"
   },
   "source": [
    "Majority of booking.com URLs led to page not found. "
   ]
  },
  {
   "cell_type": "code",
   "execution_count": 36,
   "metadata": {
    "Collapsed": "false"
   },
   "outputs": [],
   "source": [
    "booking_df = df[df['URL_root']=='booking']['sourceURLs'].reset_index(drop=True)"
   ]
  },
  {
   "cell_type": "code",
   "execution_count": 37,
   "metadata": {
    "Collapsed": "false"
   },
   "outputs": [
    {
     "data": {
      "text/plain": [
       "(1054,)"
      ]
     },
     "execution_count": 37,
     "metadata": {},
     "output_type": "execute_result"
    }
   ],
   "source": [
    "booking_df.shape"
   ]
  },
  {
   "cell_type": "code",
   "execution_count": 38,
   "metadata": {
    "Collapsed": "false"
   },
   "outputs": [],
   "source": [
    "# for i in range(86,106):\n",
    "#     webbrowser.open(booking_df.loc[i], new=2)"
   ]
  },
  {
   "cell_type": "markdown",
   "metadata": {
    "Collapsed": "false"
   },
   "source": [
    "#### Foursquare.com"
   ]
  },
  {
   "cell_type": "markdown",
   "metadata": {
    "Collapsed": "false"
   },
   "source": [
    "Foursquare is for bar menus and do not contain reviews. <br> \n",
    "\n",
    "Menus found in 'sourceURLs'."
   ]
  },
  {
   "cell_type": "code",
   "execution_count": 39,
   "metadata": {
    "Collapsed": "false"
   },
   "outputs": [],
   "source": [
    "foursquare_df = df[df['URL_root']=='foursquare']['sourceURLs'].reset_index(drop=True)"
   ]
  },
  {
   "cell_type": "code",
   "execution_count": 40,
   "metadata": {
    "Collapsed": "false"
   },
   "outputs": [
    {
     "data": {
      "text/plain": [
       "(2026,)"
      ]
     },
     "execution_count": 40,
     "metadata": {},
     "output_type": "execute_result"
    }
   ],
   "source": [
    "foursquare_df.shape"
   ]
  },
  {
   "cell_type": "code",
   "execution_count": 41,
   "metadata": {
    "Collapsed": "false"
   },
   "outputs": [],
   "source": [
    "# for i in range(86,106):\n",
    "#     webbrowser.open(foursquare_df.loc[i], new=2)"
   ]
  },
  {
   "cell_type": "markdown",
   "metadata": {
    "Collapsed": "false"
   },
   "source": [
    "#### Yellowpages.com"
   ]
  },
  {
   "cell_type": "markdown",
   "metadata": {
    "Collapsed": "false"
   },
   "source": [
    "The majority of the URLs led to page not found or pages that could not be scraped."
   ]
  },
  {
   "cell_type": "code",
   "execution_count": 42,
   "metadata": {
    "Collapsed": "false"
   },
   "outputs": [],
   "source": [
    "yellowpages_df =  df[df['URL_root']=='yellowpages']['sourceURLs'].reset_index(drop=True)"
   ]
  },
  {
   "cell_type": "code",
   "execution_count": 43,
   "metadata": {
    "Collapsed": "false"
   },
   "outputs": [
    {
     "data": {
      "text/plain": [
       "(1719,)"
      ]
     },
     "execution_count": 43,
     "metadata": {},
     "output_type": "execute_result"
    }
   ],
   "source": [
    "yellowpages_df.shape"
   ]
  },
  {
   "cell_type": "code",
   "execution_count": 44,
   "metadata": {
    "Collapsed": "false"
   },
   "outputs": [],
   "source": [
    "# for i in range(86,106):\n",
    "#     webbrowser.open(yellowpages_df.loc[i], new=2)"
   ]
  },
  {
   "cell_type": "markdown",
   "metadata": {
    "Collapsed": "false"
   },
   "source": [
    "#### Assessment of Websites"
   ]
  },
  {
   "cell_type": "markdown",
   "metadata": {
    "Collapsed": "false"
   },
   "source": [
    "- Tripadvisor and Expedia are the two most reliable sites to scrape more data on hotel review scores\n",
    "\n",
    "- They both have two very similar sub-categories; Cleanliness and service\n",
    "\n",
    "- In total there are 7226 reviews from our original dataset that are from expedia.com and tripadvisor.com"
   ]
  },
  {
   "cell_type": "markdown",
   "metadata": {
    "Collapsed": "false"
   },
   "source": [
    "### Webscraping"
   ]
  },
  {
   "cell_type": "code",
   "execution_count": 46,
   "metadata": {
    "Collapsed": "false"
   },
   "outputs": [
    {
     "data": {
      "text/plain": [
       "array([5.  , 2.  , 4.  , 3.  , 1.  , 4.8 , 4.6 , 3.55, 4.4 , 4.15, 2.5 ,\n",
       "       3.95, 2.9 , 3.35, 3.75, 4.5 , 2.1 , 1.65, 3.15, 2.7 , 1.45, 2.75,\n",
       "       2.3 , 3.5 , 4.25, 1.25, 1.9 , 3.45, 3.25, 4.75])"
      ]
     },
     "execution_count": 46,
     "metadata": {},
     "output_type": "execute_result"
    }
   ],
   "source": [
    "df['reviews.rating'].unique()"
   ]
  },
  {
   "cell_type": "code",
   "execution_count": 47,
   "metadata": {
    "Collapsed": "false"
   },
   "outputs": [
    {
     "data": {
      "text/html": [
       "<div>\n",
       "<style scoped>\n",
       "    .dataframe tbody tr th:only-of-type {\n",
       "        vertical-align: middle;\n",
       "    }\n",
       "\n",
       "    .dataframe tbody tr th {\n",
       "        vertical-align: top;\n",
       "    }\n",
       "\n",
       "    .dataframe thead th {\n",
       "        text-align: right;\n",
       "    }\n",
       "</style>\n",
       "<table border=\"1\" class=\"dataframe\">\n",
       "  <thead>\n",
       "    <tr style=\"text-align: right;\">\n",
       "      <th></th>\n",
       "      <th>reviews.rating</th>\n",
       "      <th>count</th>\n",
       "    </tr>\n",
       "  </thead>\n",
       "  <tbody>\n",
       "    <tr>\n",
       "      <td>29</td>\n",
       "      <td>5.00</td>\n",
       "      <td>4384</td>\n",
       "    </tr>\n",
       "    <tr>\n",
       "      <td>21</td>\n",
       "      <td>4.00</td>\n",
       "      <td>2397</td>\n",
       "    </tr>\n",
       "    <tr>\n",
       "      <td>12</td>\n",
       "      <td>3.00</td>\n",
       "      <td>1186</td>\n",
       "    </tr>\n",
       "    <tr>\n",
       "      <td>0</td>\n",
       "      <td>1.00</td>\n",
       "      <td>572</td>\n",
       "    </tr>\n",
       "    <tr>\n",
       "      <td>5</td>\n",
       "      <td>2.00</td>\n",
       "      <td>561</td>\n",
       "    </tr>\n",
       "    <tr>\n",
       "      <td>28</td>\n",
       "      <td>4.80</td>\n",
       "      <td>162</td>\n",
       "    </tr>\n",
       "    <tr>\n",
       "      <td>26</td>\n",
       "      <td>4.60</td>\n",
       "      <td>155</td>\n",
       "    </tr>\n",
       "    <tr>\n",
       "      <td>24</td>\n",
       "      <td>4.40</td>\n",
       "      <td>102</td>\n",
       "    </tr>\n",
       "    <tr>\n",
       "      <td>19</td>\n",
       "      <td>3.75</td>\n",
       "      <td>91</td>\n",
       "    </tr>\n",
       "    <tr>\n",
       "      <td>22</td>\n",
       "      <td>4.15</td>\n",
       "      <td>78</td>\n",
       "    </tr>\n",
       "    <tr>\n",
       "      <td>20</td>\n",
       "      <td>3.95</td>\n",
       "      <td>52</td>\n",
       "    </tr>\n",
       "    <tr>\n",
       "      <td>18</td>\n",
       "      <td>3.55</td>\n",
       "      <td>50</td>\n",
       "    </tr>\n",
       "    <tr>\n",
       "      <td>15</td>\n",
       "      <td>3.35</td>\n",
       "      <td>40</td>\n",
       "    </tr>\n",
       "    <tr>\n",
       "      <td>13</td>\n",
       "      <td>3.15</td>\n",
       "      <td>37</td>\n",
       "    </tr>\n",
       "    <tr>\n",
       "      <td>11</td>\n",
       "      <td>2.90</td>\n",
       "      <td>34</td>\n",
       "    </tr>\n",
       "    <tr>\n",
       "      <td>9</td>\n",
       "      <td>2.70</td>\n",
       "      <td>23</td>\n",
       "    </tr>\n",
       "    <tr>\n",
       "      <td>8</td>\n",
       "      <td>2.50</td>\n",
       "      <td>19</td>\n",
       "    </tr>\n",
       "    <tr>\n",
       "      <td>7</td>\n",
       "      <td>2.30</td>\n",
       "      <td>12</td>\n",
       "    </tr>\n",
       "    <tr>\n",
       "      <td>6</td>\n",
       "      <td>2.10</td>\n",
       "      <td>11</td>\n",
       "    </tr>\n",
       "    <tr>\n",
       "      <td>3</td>\n",
       "      <td>1.65</td>\n",
       "      <td>8</td>\n",
       "    </tr>\n",
       "    <tr>\n",
       "      <td>2</td>\n",
       "      <td>1.45</td>\n",
       "      <td>6</td>\n",
       "    </tr>\n",
       "    <tr>\n",
       "      <td>25</td>\n",
       "      <td>4.50</td>\n",
       "      <td>4</td>\n",
       "    </tr>\n",
       "    <tr>\n",
       "      <td>4</td>\n",
       "      <td>1.90</td>\n",
       "      <td>4</td>\n",
       "    </tr>\n",
       "    <tr>\n",
       "      <td>23</td>\n",
       "      <td>4.25</td>\n",
       "      <td>2</td>\n",
       "    </tr>\n",
       "    <tr>\n",
       "      <td>1</td>\n",
       "      <td>1.25</td>\n",
       "      <td>2</td>\n",
       "    </tr>\n",
       "    <tr>\n",
       "      <td>14</td>\n",
       "      <td>3.25</td>\n",
       "      <td>2</td>\n",
       "    </tr>\n",
       "    <tr>\n",
       "      <td>17</td>\n",
       "      <td>3.50</td>\n",
       "      <td>2</td>\n",
       "    </tr>\n",
       "    <tr>\n",
       "      <td>16</td>\n",
       "      <td>3.45</td>\n",
       "      <td>1</td>\n",
       "    </tr>\n",
       "    <tr>\n",
       "      <td>27</td>\n",
       "      <td>4.75</td>\n",
       "      <td>1</td>\n",
       "    </tr>\n",
       "    <tr>\n",
       "      <td>10</td>\n",
       "      <td>2.75</td>\n",
       "      <td>1</td>\n",
       "    </tr>\n",
       "  </tbody>\n",
       "</table>\n",
       "</div>"
      ],
      "text/plain": [
       "    reviews.rating  count\n",
       "29            5.00   4384\n",
       "21            4.00   2397\n",
       "12            3.00   1186\n",
       "0             1.00    572\n",
       "5             2.00    561\n",
       "28            4.80    162\n",
       "26            4.60    155\n",
       "24            4.40    102\n",
       "19            3.75     91\n",
       "22            4.15     78\n",
       "20            3.95     52\n",
       "18            3.55     50\n",
       "15            3.35     40\n",
       "13            3.15     37\n",
       "11            2.90     34\n",
       "9             2.70     23\n",
       "8             2.50     19\n",
       "7             2.30     12\n",
       "6             2.10     11\n",
       "3             1.65      8\n",
       "2             1.45      6\n",
       "25            4.50      4\n",
       "4             1.90      4\n",
       "23            4.25      2\n",
       "1             1.25      2\n",
       "14            3.25      2\n",
       "17            3.50      2\n",
       "16            3.45      1\n",
       "27            4.75      1\n",
       "10            2.75      1"
      ]
     },
     "execution_count": 47,
     "metadata": {},
     "output_type": "execute_result"
    }
   ],
   "source": [
    "df.groupby('reviews.rating').size().reset_index(name='count').sort_values(by='count',ascending=False)"
   ]
  },
  {
   "cell_type": "markdown",
   "metadata": {
    "Collapsed": "false"
   },
   "source": [
    "#### Tripadvisor"
   ]
  },
  {
   "cell_type": "code",
   "execution_count": null,
   "metadata": {
    "Collapsed": "false"
   },
   "outputs": [],
   "source": []
  },
  {
   "cell_type": "code",
   "execution_count": null,
   "metadata": {
    "Collapsed": "false"
   },
   "outputs": [],
   "source": []
  }
 ],
 "metadata": {
  "kernelspec": {
   "display_name": "Python 3",
   "language": "python",
   "name": "python3"
  },
  "language_info": {
   "codemirror_mode": {
    "name": "ipython",
    "version": 3
   },
   "file_extension": ".py",
   "mimetype": "text/x-python",
   "name": "python",
   "nbconvert_exporter": "python",
   "pygments_lexer": "ipython3",
   "version": "3.7.4"
  }
 },
 "nbformat": 4,
 "nbformat_minor": 4
}
