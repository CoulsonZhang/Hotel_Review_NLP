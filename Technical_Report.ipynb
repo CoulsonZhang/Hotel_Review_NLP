{
 "cells": [
  {
   "cell_type": "markdown",
   "metadata": {
    "Collapsed": "false"
   },
   "source": [
    "Business Understanding"
   ]
  },
  {
   "cell_type": "markdown",
   "metadata": {
    "Collapsed": "false"
   },
   "source": [
    "Imports"
   ]
  },
  {
   "cell_type": "code",
   "execution_count": 1,
   "metadata": {
    "Collapsed": "false"
   },
   "outputs": [],
   "source": [
    "import pandas as pd\n",
    "import re"
   ]
  },
  {
   "cell_type": "code",
   "execution_count": 2,
   "metadata": {
    "Collapsed": "false"
   },
   "outputs": [],
   "source": [
    "df =  pd.read_csv('Datafiniti_Hotel_Reviews.csv')"
   ]
  },
  {
   "cell_type": "code",
   "execution_count": 3,
   "metadata": {
    "Collapsed": "false"
   },
   "outputs": [],
   "source": [
    "pd.set_option('display.max_rows', 0)\n",
    "pd.set_option('display.max_columns', 0)"
   ]
  },
  {
   "cell_type": "markdown",
   "metadata": {
    "Collapsed": "false"
   },
   "source": [
    "Data Exploration"
   ]
  },
  {
   "cell_type": "code",
   "execution_count": 4,
   "metadata": {
    "Collapsed": "false"
   },
   "outputs": [
    {
     "data": {
      "text/plain": [
       "(10000, 25)"
      ]
     },
     "execution_count": 4,
     "metadata": {},
     "output_type": "execute_result"
    }
   ],
   "source": [
    "df.shape"
   ]
  },
  {
   "cell_type": "code",
   "execution_count": 5,
   "metadata": {
    "Collapsed": "false"
   },
   "outputs": [
    {
     "name": "stdout",
     "output_type": "stream",
     "text": [
      "<class 'pandas.core.frame.DataFrame'>\n",
      "RangeIndex: 10000 entries, 0 to 9999\n",
      "Data columns (total 25 columns):\n",
      "id                      10000 non-null object\n",
      "dateAdded               10000 non-null object\n",
      "dateUpdated             10000 non-null object\n",
      "address                 10000 non-null object\n",
      "categories              10000 non-null object\n",
      "primaryCategories       10000 non-null object\n",
      "city                    10000 non-null object\n",
      "country                 10000 non-null object\n",
      "keys                    10000 non-null object\n",
      "latitude                10000 non-null float64\n",
      "longitude               10000 non-null float64\n",
      "name                    10000 non-null object\n",
      "postalCode              10000 non-null object\n",
      "province                10000 non-null object\n",
      "reviews.date            10000 non-null object\n",
      "reviews.dateSeen        10000 non-null object\n",
      "reviews.rating          10000 non-null float64\n",
      "reviews.sourceURLs      10000 non-null object\n",
      "reviews.text            9999 non-null object\n",
      "reviews.title           9999 non-null object\n",
      "reviews.userCity        4164 non-null object\n",
      "reviews.userProvince    2705 non-null object\n",
      "reviews.username        10000 non-null object\n",
      "sourceURLs              10000 non-null object\n",
      "websites                10000 non-null object\n",
      "dtypes: float64(3), object(22)\n",
      "memory usage: 1.9+ MB\n"
     ]
    }
   ],
   "source": [
    "df.info()"
   ]
  },
  {
   "cell_type": "markdown",
   "metadata": {
    "Collapsed": "false"
   },
   "source": [
    "Initial Dataset Feature Descriptions"
   ]
  },
  {
   "cell_type": "markdown",
   "metadata": {
    "Collapsed": "false"
   },
   "source": [
    "- 'id' = id of review <br>\n",
    "- 'dateAdded' = date added string (month and year) <br>\n",
    "- 'dateUpdated' = date updated string (month and year)  <br>\n",
    "- 'address' = address of hotel <br>\n",
    "- 'categories' = type of service provided <br>\n",
    "- 'primaryCategories' = primary service <br>\n",
    "- 'city' = city of hotel <br>\n",
    "- 'country' = country of hotel (only US) <br>\n",
    "- 'keys' = ????looks like URL extension / API key???? <br>\n",
    "- 'latitude' = hotel location latitude <br>\n",
    "- 'longitude' = hotel location longitude <br>\n",
    "- 'name' =  name of hotel <br>\n",
    "- 'postalCode' = postcode of hotel <br> \n",
    "- 'province' = state that hotel is located <br>\n",
    "- 'reviews.date' = ??? <br>\n",
    "- 'reviews.dateSeen' = ??? <br>\n",
    "- 'reviews.rating' = score rating 1-5 <br>\n",
    "- 'reviews.sourceURLs' = tripadvisor description of hotel <br>\n",
    "- 'reviews.text' = written review <br>\n",
    "- 'reviews.title' = title of review <br>\n",
    "- 'reviews.userCity' = city of user who gave a review <br>\n",
    "- 'reviews.userProvince' = state the user is located <br>\n",
    "- 'reviews.username' =  username of reviewer <br>\n",
    "- 'sourceURLs' = URL of the review <br>\n",
    "- 'websites' = website of the hotel <br>"
   ]
  },
  {
   "cell_type": "code",
   "execution_count": 6,
   "metadata": {
    "Collapsed": "false"
   },
   "outputs": [
    {
     "data": {
      "text/html": [
       "<div>\n",
       "<style scoped>\n",
       "    .dataframe tbody tr th:only-of-type {\n",
       "        vertical-align: middle;\n",
       "    }\n",
       "\n",
       "    .dataframe tbody tr th {\n",
       "        vertical-align: top;\n",
       "    }\n",
       "\n",
       "    .dataframe thead th {\n",
       "        text-align: right;\n",
       "    }\n",
       "</style>\n",
       "<table border=\"1\" class=\"dataframe\">\n",
       "  <thead>\n",
       "    <tr style=\"text-align: right;\">\n",
       "      <th></th>\n",
       "      <th>id</th>\n",
       "      <th>dateAdded</th>\n",
       "      <th>dateUpdated</th>\n",
       "      <th>address</th>\n",
       "      <th>categories</th>\n",
       "      <th>primaryCategories</th>\n",
       "      <th>city</th>\n",
       "      <th>country</th>\n",
       "      <th>keys</th>\n",
       "      <th>latitude</th>\n",
       "      <th>longitude</th>\n",
       "      <th>name</th>\n",
       "      <th>postalCode</th>\n",
       "      <th>province</th>\n",
       "      <th>reviews.date</th>\n",
       "      <th>reviews.dateSeen</th>\n",
       "      <th>reviews.rating</th>\n",
       "      <th>reviews.sourceURLs</th>\n",
       "      <th>reviews.text</th>\n",
       "      <th>reviews.title</th>\n",
       "      <th>reviews.userCity</th>\n",
       "      <th>reviews.userProvince</th>\n",
       "      <th>reviews.username</th>\n",
       "      <th>sourceURLs</th>\n",
       "      <th>websites</th>\n",
       "    </tr>\n",
       "  </thead>\n",
       "  <tbody>\n",
       "    <tr>\n",
       "      <td>0</td>\n",
       "      <td>AVwc252WIN2L1WUfpqLP</td>\n",
       "      <td>2016-10-30T21:42:42Z</td>\n",
       "      <td>2018-09-10T21:06:27Z</td>\n",
       "      <td>5921 Valencia Cir</td>\n",
       "      <td>Hotels,Hotels and motels,Hotel and motel reser...</td>\n",
       "      <td>Accommodation &amp; Food Services</td>\n",
       "      <td>Rancho Santa Fe</td>\n",
       "      <td>US</td>\n",
       "      <td>us/ca/ranchosantafe/5921valenciacir/359754519</td>\n",
       "      <td>32.990959</td>\n",
       "      <td>-117.186136</td>\n",
       "      <td>Rancho Valencia Resort Spa</td>\n",
       "      <td>92067</td>\n",
       "      <td>CA</td>\n",
       "      <td>2013-11-14T00:00:00Z</td>\n",
       "      <td>2016-08-03T00:00:00Z,2016-07-26T00:00:00Z,2016...</td>\n",
       "      <td>5.0</td>\n",
       "      <td>https://www.hotels.com/hotel/125419/reviews%20/</td>\n",
       "      <td>Our experience at Rancho Valencia was absolute...</td>\n",
       "      <td>Best romantic vacation ever!!!!</td>\n",
       "      <td>NaN</td>\n",
       "      <td>NaN</td>\n",
       "      <td>Paula</td>\n",
       "      <td>http://www.hotels.com/ho125419/%25252525253Flo...</td>\n",
       "      <td>http://www.ranchovalencia.com</td>\n",
       "    </tr>\n",
       "    <tr>\n",
       "      <td>1</td>\n",
       "      <td>AVwc252WIN2L1WUfpqLP</td>\n",
       "      <td>2016-10-30T21:42:42Z</td>\n",
       "      <td>2018-09-10T21:06:27Z</td>\n",
       "      <td>5921 Valencia Cir</td>\n",
       "      <td>Hotels,Hotels and motels,Hotel and motel reser...</td>\n",
       "      <td>Accommodation &amp; Food Services</td>\n",
       "      <td>Rancho Santa Fe</td>\n",
       "      <td>US</td>\n",
       "      <td>us/ca/ranchosantafe/5921valenciacir/359754519</td>\n",
       "      <td>32.990959</td>\n",
       "      <td>-117.186136</td>\n",
       "      <td>Rancho Valencia Resort Spa</td>\n",
       "      <td>92067</td>\n",
       "      <td>CA</td>\n",
       "      <td>2014-07-06T00:00:00Z</td>\n",
       "      <td>2016-08-02T00:00:00Z,2016-08-26T00:00:00Z,2016...</td>\n",
       "      <td>5.0</td>\n",
       "      <td>https://www.hotels.com/hotel/125419/reviews%20/</td>\n",
       "      <td>Amazing place. Everyone was extremely warm and...</td>\n",
       "      <td>Sweet sweet serenity</td>\n",
       "      <td>NaN</td>\n",
       "      <td>NaN</td>\n",
       "      <td>D</td>\n",
       "      <td>http://www.hotels.com/ho125419/%25252525253Flo...</td>\n",
       "      <td>http://www.ranchovalencia.com</td>\n",
       "    </tr>\n",
       "    <tr>\n",
       "      <td>2</td>\n",
       "      <td>AVwc252WIN2L1WUfpqLP</td>\n",
       "      <td>2016-10-30T21:42:42Z</td>\n",
       "      <td>2018-09-10T21:06:27Z</td>\n",
       "      <td>5921 Valencia Cir</td>\n",
       "      <td>Hotels,Hotels and motels,Hotel and motel reser...</td>\n",
       "      <td>Accommodation &amp; Food Services</td>\n",
       "      <td>Rancho Santa Fe</td>\n",
       "      <td>US</td>\n",
       "      <td>us/ca/ranchosantafe/5921valenciacir/359754519</td>\n",
       "      <td>32.990959</td>\n",
       "      <td>-117.186136</td>\n",
       "      <td>Rancho Valencia Resort Spa</td>\n",
       "      <td>92067</td>\n",
       "      <td>CA</td>\n",
       "      <td>2015-01-02T00:00:00Z</td>\n",
       "      <td>2016-11-15T00:00:00Z,2016-08-23T00:00:00Z,2016...</td>\n",
       "      <td>5.0</td>\n",
       "      <td>https://www.hotels.com/hotel/125419/reviews%20/</td>\n",
       "      <td>We booked a 3 night stay at Rancho Valencia to...</td>\n",
       "      <td>Amazing Property and Experience</td>\n",
       "      <td>NaN</td>\n",
       "      <td>NaN</td>\n",
       "      <td>Ron</td>\n",
       "      <td>http://www.hotels.com/ho125419/%25252525253Flo...</td>\n",
       "      <td>http://www.ranchovalencia.com</td>\n",
       "    </tr>\n",
       "    <tr>\n",
       "      <td>3</td>\n",
       "      <td>AVwdOclqIN2L1WUfti38</td>\n",
       "      <td>2015-11-28T19:19:35Z</td>\n",
       "      <td>2018-09-10T21:06:16Z</td>\n",
       "      <td>7520 Teague Rd</td>\n",
       "      <td>Hotels,Hotels and motels,Travel agencies and b...</td>\n",
       "      <td>Accommodation &amp; Food Services</td>\n",
       "      <td>Hanover</td>\n",
       "      <td>US</td>\n",
       "      <td>us/md/hanover/7520teaguerd/-2043779672</td>\n",
       "      <td>39.155929</td>\n",
       "      <td>-76.716341</td>\n",
       "      <td>Aloft Arundel Mills</td>\n",
       "      <td>21076</td>\n",
       "      <td>MD</td>\n",
       "      <td>2016-05-15T00:00:00Z</td>\n",
       "      <td>2016-05-21T00:00:00Z,2016-07-31T00:00:00Z</td>\n",
       "      <td>2.0</td>\n",
       "      <td>https://www.tripadvisor.com/Hotel_Review-g4118...</td>\n",
       "      <td>Currently in bed writing this for the past hr ...</td>\n",
       "      <td>Never again...beware, if you want sleep.</td>\n",
       "      <td>Richmond</td>\n",
       "      <td>VA</td>\n",
       "      <td>jaeem2016</td>\n",
       "      <td>http://www.yellowbook.com/profile/aloft-arunde...</td>\n",
       "      <td>http://www.starwoodhotels.com/alofthotels/prop...</td>\n",
       "    </tr>\n",
       "    <tr>\n",
       "      <td>4</td>\n",
       "      <td>AVwdOclqIN2L1WUfti38</td>\n",
       "      <td>2015-11-28T19:19:35Z</td>\n",
       "      <td>2018-09-10T21:06:16Z</td>\n",
       "      <td>7520 Teague Rd</td>\n",
       "      <td>Hotels,Hotels and motels,Travel agencies and b...</td>\n",
       "      <td>Accommodation &amp; Food Services</td>\n",
       "      <td>Hanover</td>\n",
       "      <td>US</td>\n",
       "      <td>us/md/hanover/7520teaguerd/-2043779672</td>\n",
       "      <td>39.155929</td>\n",
       "      <td>-76.716341</td>\n",
       "      <td>Aloft Arundel Mills</td>\n",
       "      <td>21076</td>\n",
       "      <td>MD</td>\n",
       "      <td>2016-07-09T00:00:00Z</td>\n",
       "      <td>2016-07-31T00:00:00Z</td>\n",
       "      <td>5.0</td>\n",
       "      <td>https://www.tripadvisor.com/Hotel_Review-g4118...</td>\n",
       "      <td>I live in Md and the Aloft is my Home away fro...</td>\n",
       "      <td>ALWAYS GREAT STAY...</td>\n",
       "      <td>Laurel</td>\n",
       "      <td>MD</td>\n",
       "      <td>MamaNiaOne</td>\n",
       "      <td>http://www.yellowbook.com/profile/aloft-arunde...</td>\n",
       "      <td>http://www.starwoodhotels.com/alofthotels/prop...</td>\n",
       "    </tr>\n",
       "  </tbody>\n",
       "</table>\n",
       "</div>"
      ],
      "text/plain": [
       "                     id             dateAdded           dateUpdated            address  ... reviews.userProvince reviews.username                                         sourceURLs                                           websites\n",
       "0  AVwc252WIN2L1WUfpqLP  2016-10-30T21:42:42Z  2018-09-10T21:06:27Z  5921 Valencia Cir  ...                  NaN            Paula  http://www.hotels.com/ho125419/%25252525253Flo...                      http://www.ranchovalencia.com\n",
       "1  AVwc252WIN2L1WUfpqLP  2016-10-30T21:42:42Z  2018-09-10T21:06:27Z  5921 Valencia Cir  ...                  NaN                D  http://www.hotels.com/ho125419/%25252525253Flo...                      http://www.ranchovalencia.com\n",
       "2  AVwc252WIN2L1WUfpqLP  2016-10-30T21:42:42Z  2018-09-10T21:06:27Z  5921 Valencia Cir  ...                  NaN              Ron  http://www.hotels.com/ho125419/%25252525253Flo...                      http://www.ranchovalencia.com\n",
       "3  AVwdOclqIN2L1WUfti38  2015-11-28T19:19:35Z  2018-09-10T21:06:16Z     7520 Teague Rd  ...                   VA        jaeem2016  http://www.yellowbook.com/profile/aloft-arunde...  http://www.starwoodhotels.com/alofthotels/prop...\n",
       "4  AVwdOclqIN2L1WUfti38  2015-11-28T19:19:35Z  2018-09-10T21:06:16Z     7520 Teague Rd  ...                   MD       MamaNiaOne  http://www.yellowbook.com/profile/aloft-arunde...  http://www.starwoodhotels.com/alofthotels/prop...\n",
       "\n",
       "[5 rows x 25 columns]"
      ]
     },
     "execution_count": 6,
     "metadata": {},
     "output_type": "execute_result"
    }
   ],
   "source": [
    "df.head()"
   ]
  },
  {
   "cell_type": "markdown",
   "metadata": {
    "Collapsed": "false"
   },
   "source": [
    "Removing Nulls"
   ]
  },
  {
   "cell_type": "code",
   "execution_count": 7,
   "metadata": {
    "Collapsed": "false"
   },
   "outputs": [],
   "source": [
    "df.dropna(axis=0,subset=['reviews.text'],inplace=True)"
   ]
  },
  {
   "cell_type": "code",
   "execution_count": 8,
   "metadata": {
    "Collapsed": "false"
   },
   "outputs": [
    {
     "data": {
      "text/plain": [
       "(9999, 25)"
      ]
     },
     "execution_count": 8,
     "metadata": {},
     "output_type": "execute_result"
    }
   ],
   "source": [
    "df.shape"
   ]
  },
  {
   "cell_type": "markdown",
   "metadata": {
    "Collapsed": "false"
   },
   "source": [
    "Removing Unnecessary Columns"
   ]
  },
  {
   "cell_type": "code",
   "execution_count": 9,
   "metadata": {
    "Collapsed": "false"
   },
   "outputs": [],
   "source": [
    "df.drop(axis=1,columns=['id','country','reviews.date','reviews.dateSeen','reviews.title','reviews.userCity','reviews.userProvince','reviews.username'],inplace=True)"
   ]
  },
  {
   "cell_type": "code",
   "execution_count": 10,
   "metadata": {
    "Collapsed": "false"
   },
   "outputs": [
    {
     "data": {
      "text/plain": [
       "(9999, 17)"
      ]
     },
     "execution_count": 10,
     "metadata": {},
     "output_type": "execute_result"
    }
   ],
   "source": [
    "df.shape"
   ]
  },
  {
   "cell_type": "markdown",
   "metadata": {
    "Collapsed": "false"
   },
   "source": [
    "Adding New External Features"
   ]
  },
  {
   "cell_type": "markdown",
   "metadata": {
    "Collapsed": "false"
   },
   "source": [
    "Extract Features Via Webscraping Using URLs From Dataset"
   ]
  },
  {
   "cell_type": "markdown",
   "metadata": {
    "Collapsed": "false"
   },
   "source": [
    "Change Reviews With Multiple Review Source URLs to a Singular Source"
   ]
  },
  {
   "cell_type": "code",
   "execution_count": 11,
   "metadata": {
    "Collapsed": "false"
   },
   "outputs": [],
   "source": [
    "pd.set_option('display.max_colwidth', 280)"
   ]
  },
  {
   "cell_type": "code",
   "execution_count": 12,
   "metadata": {
    "Collapsed": "false"
   },
   "outputs": [
    {
     "data": {
      "text/plain": [
       "0                                                                                                                                                                                                                                             https://www.hotels.com/hotel/125419/reviews%20/\n",
       "1                                                                                                                                                                                                                                             https://www.hotels.com/hotel/125419/reviews%20/\n",
       "2                                                                                                                                                                                                                                             https://www.hotels.com/hotel/125419/reviews%20/\n",
       "3                                                https://www.tripadvisor.com/Hotel_Review-g41185-d1239660-Reviews-Aloft_Arundel_Mills-Hanover_Maryland.html,https://www.tripadvisor.com/Hotel_Review-g41185-d1239660-Reviews-or40-Aloft_Arundel_Mills-Hanover_Maryland.html%2525252523REVIEWS\n",
       "4                                                                                                                                                           https://www.tripadvisor.com/Hotel_Review-g41185-d1239660-Reviews-or10-Aloft_Arundel_Mills-Hanover_Maryland.html%2525252523REVIEWS\n",
       "5                                                                                                                                                           https://www.tripadvisor.com/Hotel_Review-g41185-d1239660-Reviews-or20-Aloft_Arundel_Mills-Hanover_Maryland.html%2525252523REVIEWS\n",
       "6                                                                                                                                                                                  https://www.tripadvisor.com/Hotel_Review-g41185-d1239660-Reviews-Aloft_Arundel_Mills-Hanover_Maryland.html\n",
       "7                                                https://www.tripadvisor.com/Hotel_Review-g41185-d1239660-Reviews-Aloft_Arundel_Mills-Hanover_Maryland.html,https://www.tripadvisor.com/Hotel_Review-g41185-d1239660-Reviews-or10-Aloft_Arundel_Mills-Hanover_Maryland.html%2525252523REVIEWS\n",
       "8                                                                                                                                                           https://www.tripadvisor.com/Hotel_Review-g41185-d1239660-Reviews-or30-Aloft_Arundel_Mills-Hanover_Maryland.html%2525252523REVIEWS\n",
       "9                                                                                                                                     https://www.tripadvisor.com/Hotel_Review-g60820-d6594530-Reviews-or20-Hampton_Inn_Suites_Portland_Vancouver-Vancouver_Washington.html%2525252523REVIEWS\n",
       "10                                                                                                                                                           https://www.tripadvisor.com/Hotel_Review-g60820-d6594530-Reviews-Hampton_Inn_Suites_Portland_Vancouver-Vancouver_Washington.html\n",
       "11                                                                                                                                    https://www.tripadvisor.com/Hotel_Review-g60820-d6594530-Reviews-or20-Hampton_Inn_Suites_Portland_Vancouver-Vancouver_Washington.html%2525252523REVIEWS\n",
       "12    http://www.tripadvisor.com/Hotel_Review-g60820-d6594530-Reviews-Hampton_Inn_Suites_Portland_Vancouver-Vancouver_Washington.html,https://www.tripadvisor.com/Hotel_Review-g60820-d6594530-Reviews-or10-Hampton_Inn_Suites_Portland_Vancouver-Vancouver_Washington.html%2525252523REVIEWS\n",
       "13                                                                                                                                    https://www.tripadvisor.com/Hotel_Review-g60820-d6594530-Reviews-or20-Hampton_Inn_Suites_Portland_Vancouver-Vancouver_Washington.html%2525252523REVIEWS\n",
       "14                                                                                                                                    https://www.tripadvisor.com/Hotel_Review-g60820-d6594530-Reviews-or20-Hampton_Inn_Suites_Portland_Vancouver-Vancouver_Washington.html%2525252523REVIEWS\n",
       "15                                                                                                                                                                  http://www.tripadvisor.com/Hotel_Review-g44535-d97005-Reviews-or60-Hotel_Phillips-Kansas_City_Missouri.html%252523REVIEWS\n",
       "16                                                                                                                                                                  http://www.tripadvisor.com/Hotel_Review-g44535-d97005-Reviews-or40-Hotel_Phillips-Kansas_City_Missouri.html%252523REVIEWS\n",
       "17                                                                                                                                                                  http://www.tripadvisor.com/Hotel_Review-g44535-d97005-Reviews-or20-Hotel_Phillips-Kansas_City_Missouri.html%252523REVIEWS\n",
       "18                                                                                                                                                                  http://www.tripadvisor.com/Hotel_Review-g44535-d97005-Reviews-or30-Hotel_Phillips-Kansas_City_Missouri.html%252523REVIEWS\n",
       "19                                                                                                                                                                  http://www.tripadvisor.com/Hotel_Review-g44535-d97005-Reviews-or60-Hotel_Phillips-Kansas_City_Missouri.html%252523REVIEWS\n",
       "Name: reviews.sourceURLs, dtype: object"
      ]
     },
     "execution_count": 12,
     "metadata": {},
     "output_type": "execute_result"
    }
   ],
   "source": [
    "df['reviews.sourceURLs'].head(20)"
   ]
  },
  {
   "cell_type": "code",
   "execution_count": 13,
   "metadata": {
    "Collapsed": "false"
   },
   "outputs": [
    {
     "data": {
      "text/plain": [
       "(1398, 17)"
      ]
     },
     "execution_count": 13,
     "metadata": {},
     "output_type": "execute_result"
    }
   ],
   "source": [
    "df[df['reviews.sourceURLs'].str.contains(',')].shape"
   ]
  },
  {
   "cell_type": "code",
   "execution_count": 14,
   "metadata": {
    "Collapsed": "false"
   },
   "outputs": [
    {
     "data": {
      "text/plain": [
       "(9999, 17)"
      ]
     },
     "execution_count": 14,
     "metadata": {},
     "output_type": "execute_result"
    }
   ],
   "source": [
    "df[df['sourceURLs'].str.contains(',')].shape"
   ]
  },
  {
   "cell_type": "code",
   "execution_count": 15,
   "metadata": {
    "Collapsed": "false"
   },
   "outputs": [],
   "source": [
    "df['reviews.sourceURLs'] = df['reviews.sourceURLs'].apply(lambda x: x.split(',')[0])"
   ]
  },
  {
   "cell_type": "code",
   "execution_count": 16,
   "metadata": {
    "Collapsed": "false"
   },
   "outputs": [],
   "source": [
    "df['sourceURLs'] = df['sourceURLs'].apply(lambda x: x.split(',')[0])"
   ]
  },
  {
   "cell_type": "code",
   "execution_count": 17,
   "metadata": {
    "Collapsed": "false"
   },
   "outputs": [
    {
     "data": {
      "text/plain": [
       "0                                                                                                             https://www.hotels.com/hotel/125419/reviews%20/\n",
       "1                                                                                                             https://www.hotels.com/hotel/125419/reviews%20/\n",
       "2                                                                                                             https://www.hotels.com/hotel/125419/reviews%20/\n",
       "3                                                  https://www.tripadvisor.com/Hotel_Review-g41185-d1239660-Reviews-Aloft_Arundel_Mills-Hanover_Maryland.html\n",
       "4                           https://www.tripadvisor.com/Hotel_Review-g41185-d1239660-Reviews-or10-Aloft_Arundel_Mills-Hanover_Maryland.html%2525252523REVIEWS\n",
       "5                           https://www.tripadvisor.com/Hotel_Review-g41185-d1239660-Reviews-or20-Aloft_Arundel_Mills-Hanover_Maryland.html%2525252523REVIEWS\n",
       "6                                                  https://www.tripadvisor.com/Hotel_Review-g41185-d1239660-Reviews-Aloft_Arundel_Mills-Hanover_Maryland.html\n",
       "7                                                  https://www.tripadvisor.com/Hotel_Review-g41185-d1239660-Reviews-Aloft_Arundel_Mills-Hanover_Maryland.html\n",
       "8                           https://www.tripadvisor.com/Hotel_Review-g41185-d1239660-Reviews-or30-Aloft_Arundel_Mills-Hanover_Maryland.html%2525252523REVIEWS\n",
       "9     https://www.tripadvisor.com/Hotel_Review-g60820-d6594530-Reviews-or20-Hampton_Inn_Suites_Portland_Vancouver-Vancouver_Washington.html%2525252523REVIEWS\n",
       "10                           https://www.tripadvisor.com/Hotel_Review-g60820-d6594530-Reviews-Hampton_Inn_Suites_Portland_Vancouver-Vancouver_Washington.html\n",
       "11    https://www.tripadvisor.com/Hotel_Review-g60820-d6594530-Reviews-or20-Hampton_Inn_Suites_Portland_Vancouver-Vancouver_Washington.html%2525252523REVIEWS\n",
       "12                            http://www.tripadvisor.com/Hotel_Review-g60820-d6594530-Reviews-Hampton_Inn_Suites_Portland_Vancouver-Vancouver_Washington.html\n",
       "13    https://www.tripadvisor.com/Hotel_Review-g60820-d6594530-Reviews-or20-Hampton_Inn_Suites_Portland_Vancouver-Vancouver_Washington.html%2525252523REVIEWS\n",
       "14    https://www.tripadvisor.com/Hotel_Review-g60820-d6594530-Reviews-or20-Hampton_Inn_Suites_Portland_Vancouver-Vancouver_Washington.html%2525252523REVIEWS\n",
       "15                                  http://www.tripadvisor.com/Hotel_Review-g44535-d97005-Reviews-or60-Hotel_Phillips-Kansas_City_Missouri.html%252523REVIEWS\n",
       "16                                  http://www.tripadvisor.com/Hotel_Review-g44535-d97005-Reviews-or40-Hotel_Phillips-Kansas_City_Missouri.html%252523REVIEWS\n",
       "17                                  http://www.tripadvisor.com/Hotel_Review-g44535-d97005-Reviews-or20-Hotel_Phillips-Kansas_City_Missouri.html%252523REVIEWS\n",
       "18                                  http://www.tripadvisor.com/Hotel_Review-g44535-d97005-Reviews-or30-Hotel_Phillips-Kansas_City_Missouri.html%252523REVIEWS\n",
       "19                                  http://www.tripadvisor.com/Hotel_Review-g44535-d97005-Reviews-or60-Hotel_Phillips-Kansas_City_Missouri.html%252523REVIEWS\n",
       "Name: reviews.sourceURLs, dtype: object"
      ]
     },
     "execution_count": 17,
     "metadata": {},
     "output_type": "execute_result"
    }
   ],
   "source": [
    "df['reviews.sourceURLs'].head(20)"
   ]
  },
  {
   "cell_type": "code",
   "execution_count": 18,
   "metadata": {
    "Collapsed": "false"
   },
   "outputs": [
    {
     "data": {
      "text/plain": [
       "(0, 17)"
      ]
     },
     "execution_count": 18,
     "metadata": {},
     "output_type": "execute_result"
    }
   ],
   "source": [
    "df[df['reviews.sourceURLs'].str.contains(',')].shape"
   ]
  },
  {
   "cell_type": "code",
   "execution_count": 19,
   "metadata": {
    "Collapsed": "false"
   },
   "outputs": [
    {
     "data": {
      "text/plain": [
       "0                   http://www.hotels.com/ho125419/%25252525253Flocale%25252525253Den_US%252525252526pos%25252525253DHCOM_US\n",
       "1                   http://www.hotels.com/ho125419/%25252525253Flocale%25252525253Den_US%252525252526pos%25252525253DHCOM_US\n",
       "2                   http://www.hotels.com/ho125419/%25252525253Flocale%25252525253Den_US%252525252526pos%25252525253DHCOM_US\n",
       "3                                                      http://www.yellowbook.com/profile/aloft-arundel-mills_1896561264.html\n",
       "4                                                      http://www.yellowbook.com/profile/aloft-arundel-mills_1896561264.html\n",
       "5                                                      http://www.yellowbook.com/profile/aloft-arundel-mills_1896561264.html\n",
       "6                                                      http://www.yellowbook.com/profile/aloft-arundel-mills_1896561264.html\n",
       "7                                                      http://www.yellowbook.com/profile/aloft-arundel-mills_1896561264.html\n",
       "8                                                      http://www.yellowbook.com/profile/aloft-arundel-mills_1896561264.html\n",
       "9                               https://www.yellowpages.com/vancouver-wa/mip/hampton-inn-suites-portland-vancouver-496239125\n",
       "10                              https://www.yellowpages.com/vancouver-wa/mip/hampton-inn-suites-portland-vancouver-496239125\n",
       "11                              https://www.yellowpages.com/vancouver-wa/mip/hampton-inn-suites-portland-vancouver-496239125\n",
       "12                              https://www.yellowpages.com/vancouver-wa/mip/hampton-inn-suites-portland-vancouver-496239125\n",
       "13                              https://www.yellowpages.com/vancouver-wa/mip/hampton-inn-suites-portland-vancouver-496239125\n",
       "14                              https://www.yellowpages.com/vancouver-wa/mip/hampton-inn-suites-portland-vancouver-496239125\n",
       "15    http://www.gayot.com/Hotels/Select-Your-City/United-States/Missouri/Kansas-City/Hotel-Phillips-Kansas-City-KCHOT110702\n",
       "16    http://www.gayot.com/Hotels/Select-Your-City/United-States/Missouri/Kansas-City/Hotel-Phillips-Kansas-City-KCHOT110702\n",
       "17    http://www.gayot.com/Hotels/Select-Your-City/United-States/Missouri/Kansas-City/Hotel-Phillips-Kansas-City-KCHOT110702\n",
       "18    http://www.gayot.com/Hotels/Select-Your-City/United-States/Missouri/Kansas-City/Hotel-Phillips-Kansas-City-KCHOT110702\n",
       "19    http://www.gayot.com/Hotels/Select-Your-City/United-States/Missouri/Kansas-City/Hotel-Phillips-Kansas-City-KCHOT110702\n",
       "Name: sourceURLs, dtype: object"
      ]
     },
     "execution_count": 19,
     "metadata": {},
     "output_type": "execute_result"
    }
   ],
   "source": [
    "df['sourceURLs'].head(20)"
   ]
  },
  {
   "cell_type": "code",
   "execution_count": 20,
   "metadata": {
    "Collapsed": "false"
   },
   "outputs": [
    {
     "data": {
      "text/plain": [
       "(0, 17)"
      ]
     },
     "execution_count": 20,
     "metadata": {},
     "output_type": "execute_result"
    }
   ],
   "source": [
    "df[df['sourceURLs'].str.contains(',')].shape"
   ]
  },
  {
   "cell_type": "markdown",
   "metadata": {
    "Collapsed": "false"
   },
   "source": [
    "Creating Columns With URL Roots"
   ]
  },
  {
   "cell_type": "code",
   "execution_count": 21,
   "metadata": {
    "Collapsed": "false"
   },
   "outputs": [],
   "source": [
    "pattern = re.compile(r'https?://(www\\.)?(\\w+)(\\.\\w+)')"
   ]
  },
  {
   "cell_type": "code",
   "execution_count": 22,
   "metadata": {
    "Collapsed": "false"
   },
   "outputs": [],
   "source": [
    "df.loc[:,'review_source_URL_root'] = df['reviews.sourceURLs'].apply(lambda x: pattern.findall(x)[0][1])"
   ]
  },
  {
   "cell_type": "code",
   "execution_count": 23,
   "metadata": {
    "Collapsed": "false"
   },
   "outputs": [],
   "source": [
    "df.loc[:,'URL_root'] = df['sourceURLs'].apply(lambda x: pattern.findall(x)[0][1])"
   ]
  },
  {
   "cell_type": "code",
   "execution_count": 24,
   "metadata": {
    "Collapsed": "false"
   },
   "outputs": [
    {
     "data": {
      "text/html": [
       "<div>\n",
       "<style scoped>\n",
       "    .dataframe tbody tr th:only-of-type {\n",
       "        vertical-align: middle;\n",
       "    }\n",
       "\n",
       "    .dataframe tbody tr th {\n",
       "        vertical-align: top;\n",
       "    }\n",
       "\n",
       "    .dataframe thead th {\n",
       "        text-align: right;\n",
       "    }\n",
       "</style>\n",
       "<table border=\"1\" class=\"dataframe\">\n",
       "  <thead>\n",
       "    <tr style=\"text-align: right;\">\n",
       "      <th></th>\n",
       "      <th>URL_root</th>\n",
       "      <th>count</th>\n",
       "    </tr>\n",
       "  </thead>\n",
       "  <tbody>\n",
       "    <tr>\n",
       "      <td>4</td>\n",
       "      <td>foursquare</td>\n",
       "      <td>2026</td>\n",
       "    </tr>\n",
       "    <tr>\n",
       "      <td>19</td>\n",
       "      <td>yellowpages</td>\n",
       "      <td>1719</td>\n",
       "    </tr>\n",
       "    <tr>\n",
       "      <td>16</td>\n",
       "      <td>tripadvisor</td>\n",
       "      <td>1680</td>\n",
       "    </tr>\n",
       "    <tr>\n",
       "      <td>3</td>\n",
       "      <td>expedia</td>\n",
       "      <td>1531</td>\n",
       "    </tr>\n",
       "    <tr>\n",
       "      <td>1</td>\n",
       "      <td>booking</td>\n",
       "      <td>1054</td>\n",
       "    </tr>\n",
       "    <tr>\n",
       "      <td>18</td>\n",
       "      <td>yellowbook</td>\n",
       "      <td>1043</td>\n",
       "    </tr>\n",
       "    <tr>\n",
       "      <td>6</td>\n",
       "      <td>hotels</td>\n",
       "      <td>278</td>\n",
       "    </tr>\n",
       "    <tr>\n",
       "      <td>2</td>\n",
       "      <td>citysearch</td>\n",
       "      <td>243</td>\n",
       "    </tr>\n",
       "    <tr>\n",
       "      <td>12</td>\n",
       "      <td>telegraph</td>\n",
       "      <td>93</td>\n",
       "    </tr>\n",
       "    <tr>\n",
       "      <td>17</td>\n",
       "      <td>weddingwire</td>\n",
       "      <td>57</td>\n",
       "    </tr>\n",
       "    <tr>\n",
       "      <td>5</td>\n",
       "      <td>gayot</td>\n",
       "      <td>44</td>\n",
       "    </tr>\n",
       "    <tr>\n",
       "      <td>14</td>\n",
       "      <td>travelandleisure</td>\n",
       "      <td>42</td>\n",
       "    </tr>\n",
       "    <tr>\n",
       "      <td>13</td>\n",
       "      <td>timeout</td>\n",
       "      <td>40</td>\n",
       "    </tr>\n",
       "    <tr>\n",
       "      <td>15</td>\n",
       "      <td>trip</td>\n",
       "      <td>40</td>\n",
       "    </tr>\n",
       "    <tr>\n",
       "      <td>20</td>\n",
       "      <td>zoover</td>\n",
       "      <td>34</td>\n",
       "    </tr>\n",
       "    <tr>\n",
       "      <td>8</td>\n",
       "      <td>kudzu</td>\n",
       "      <td>21</td>\n",
       "    </tr>\n",
       "    <tr>\n",
       "      <td>10</td>\n",
       "      <td>marriott</td>\n",
       "      <td>19</td>\n",
       "    </tr>\n",
       "    <tr>\n",
       "      <td>7</td>\n",
       "      <td>insiderpages</td>\n",
       "      <td>17</td>\n",
       "    </tr>\n",
       "    <tr>\n",
       "      <td>11</td>\n",
       "      <td>superpages</td>\n",
       "      <td>16</td>\n",
       "    </tr>\n",
       "    <tr>\n",
       "      <td>9</td>\n",
       "      <td>local</td>\n",
       "      <td>1</td>\n",
       "    </tr>\n",
       "    <tr>\n",
       "      <td>0</td>\n",
       "      <td>bbb</td>\n",
       "      <td>1</td>\n",
       "    </tr>\n",
       "  </tbody>\n",
       "</table>\n",
       "</div>"
      ],
      "text/plain": [
       "            URL_root  count\n",
       "4         foursquare   2026\n",
       "19       yellowpages   1719\n",
       "16       tripadvisor   1680\n",
       "3            expedia   1531\n",
       "1            booking   1054\n",
       "18        yellowbook   1043\n",
       "6             hotels    278\n",
       "2         citysearch    243\n",
       "12         telegraph     93\n",
       "17       weddingwire     57\n",
       "5              gayot     44\n",
       "14  travelandleisure     42\n",
       "13           timeout     40\n",
       "15              trip     40\n",
       "20            zoover     34\n",
       "8              kudzu     21\n",
       "10          marriott     19\n",
       "7       insiderpages     17\n",
       "11        superpages     16\n",
       "9              local      1\n",
       "0                bbb      1"
      ]
     },
     "execution_count": 24,
     "metadata": {},
     "output_type": "execute_result"
    }
   ],
   "source": [
    "df.groupby('URL_root').size().reset_index(name='count').sort_values(by='count',ascending=False)"
   ]
  },
  {
   "cell_type": "code",
   "execution_count": 25,
   "metadata": {
    "Collapsed": "false"
   },
   "outputs": [
    {
     "data": {
      "text/html": [
       "<div>\n",
       "<style scoped>\n",
       "    .dataframe tbody tr th:only-of-type {\n",
       "        vertical-align: middle;\n",
       "    }\n",
       "\n",
       "    .dataframe tbody tr th {\n",
       "        vertical-align: top;\n",
       "    }\n",
       "\n",
       "    .dataframe thead th {\n",
       "        text-align: right;\n",
       "    }\n",
       "</style>\n",
       "<table border=\"1\" class=\"dataframe\">\n",
       "  <thead>\n",
       "    <tr style=\"text-align: right;\">\n",
       "      <th></th>\n",
       "      <th>URL_root</th>\n",
       "      <th>count</th>\n",
       "    </tr>\n",
       "  </thead>\n",
       "  <tbody>\n",
       "    <tr>\n",
       "      <td>4</td>\n",
       "      <td>foursquare</td>\n",
       "      <td>2026</td>\n",
       "    </tr>\n",
       "    <tr>\n",
       "      <td>19</td>\n",
       "      <td>yellowpages</td>\n",
       "      <td>1719</td>\n",
       "    </tr>\n",
       "    <tr>\n",
       "      <td>16</td>\n",
       "      <td>tripadvisor</td>\n",
       "      <td>1680</td>\n",
       "    </tr>\n",
       "    <tr>\n",
       "      <td>3</td>\n",
       "      <td>expedia</td>\n",
       "      <td>1531</td>\n",
       "    </tr>\n",
       "    <tr>\n",
       "      <td>1</td>\n",
       "      <td>booking</td>\n",
       "      <td>1054</td>\n",
       "    </tr>\n",
       "    <tr>\n",
       "      <td>18</td>\n",
       "      <td>yellowbook</td>\n",
       "      <td>1043</td>\n",
       "    </tr>\n",
       "    <tr>\n",
       "      <td>6</td>\n",
       "      <td>hotels</td>\n",
       "      <td>278</td>\n",
       "    </tr>\n",
       "    <tr>\n",
       "      <td>2</td>\n",
       "      <td>citysearch</td>\n",
       "      <td>243</td>\n",
       "    </tr>\n",
       "    <tr>\n",
       "      <td>12</td>\n",
       "      <td>telegraph</td>\n",
       "      <td>93</td>\n",
       "    </tr>\n",
       "    <tr>\n",
       "      <td>17</td>\n",
       "      <td>weddingwire</td>\n",
       "      <td>57</td>\n",
       "    </tr>\n",
       "    <tr>\n",
       "      <td>5</td>\n",
       "      <td>gayot</td>\n",
       "      <td>44</td>\n",
       "    </tr>\n",
       "    <tr>\n",
       "      <td>14</td>\n",
       "      <td>travelandleisure</td>\n",
       "      <td>42</td>\n",
       "    </tr>\n",
       "    <tr>\n",
       "      <td>13</td>\n",
       "      <td>timeout</td>\n",
       "      <td>40</td>\n",
       "    </tr>\n",
       "    <tr>\n",
       "      <td>15</td>\n",
       "      <td>trip</td>\n",
       "      <td>40</td>\n",
       "    </tr>\n",
       "    <tr>\n",
       "      <td>20</td>\n",
       "      <td>zoover</td>\n",
       "      <td>34</td>\n",
       "    </tr>\n",
       "    <tr>\n",
       "      <td>8</td>\n",
       "      <td>kudzu</td>\n",
       "      <td>21</td>\n",
       "    </tr>\n",
       "    <tr>\n",
       "      <td>10</td>\n",
       "      <td>marriott</td>\n",
       "      <td>19</td>\n",
       "    </tr>\n",
       "    <tr>\n",
       "      <td>7</td>\n",
       "      <td>insiderpages</td>\n",
       "      <td>17</td>\n",
       "    </tr>\n",
       "    <tr>\n",
       "      <td>11</td>\n",
       "      <td>superpages</td>\n",
       "      <td>16</td>\n",
       "    </tr>\n",
       "    <tr>\n",
       "      <td>9</td>\n",
       "      <td>local</td>\n",
       "      <td>1</td>\n",
       "    </tr>\n",
       "    <tr>\n",
       "      <td>0</td>\n",
       "      <td>bbb</td>\n",
       "      <td>1</td>\n",
       "    </tr>\n",
       "  </tbody>\n",
       "</table>\n",
       "</div>"
      ],
      "text/plain": [
       "            URL_root  count\n",
       "4         foursquare   2026\n",
       "19       yellowpages   1719\n",
       "16       tripadvisor   1680\n",
       "3            expedia   1531\n",
       "1            booking   1054\n",
       "18        yellowbook   1043\n",
       "6             hotels    278\n",
       "2         citysearch    243\n",
       "12         telegraph     93\n",
       "17       weddingwire     57\n",
       "5              gayot     44\n",
       "14  travelandleisure     42\n",
       "13           timeout     40\n",
       "15              trip     40\n",
       "20            zoover     34\n",
       "8              kudzu     21\n",
       "10          marriott     19\n",
       "7       insiderpages     17\n",
       "11        superpages     16\n",
       "9              local      1\n",
       "0                bbb      1"
      ]
     },
     "execution_count": 25,
     "metadata": {},
     "output_type": "execute_result"
    }
   ],
   "source": [
    "df.groupby('URL_root').size().reset_index(name='count').sort_values(by='count',ascending=False)"
   ]
  },
  {
   "cell_type": "code",
   "execution_count": 26,
   "metadata": {
    "Collapsed": "false"
   },
   "outputs": [
    {
     "data": {
      "text/html": [
       "<div>\n",
       "<style scoped>\n",
       "    .dataframe tbody tr th:only-of-type {\n",
       "        vertical-align: middle;\n",
       "    }\n",
       "\n",
       "    .dataframe tbody tr th {\n",
       "        vertical-align: top;\n",
       "    }\n",
       "\n",
       "    .dataframe thead th {\n",
       "        text-align: right;\n",
       "    }\n",
       "</style>\n",
       "<table border=\"1\" class=\"dataframe\">\n",
       "  <thead>\n",
       "    <tr style=\"text-align: right;\">\n",
       "      <th></th>\n",
       "      <th>reviews.sourceURLs</th>\n",
       "      <th>review_source_URL_root</th>\n",
       "      <th>sourceURLs</th>\n",
       "      <th>URL_root</th>\n",
       "    </tr>\n",
       "  </thead>\n",
       "  <tbody>\n",
       "    <tr>\n",
       "      <td>0</td>\n",
       "      <td>https://www.hotels.com/hotel/125419/reviews%20/</td>\n",
       "      <td>hotels</td>\n",
       "      <td>http://www.hotels.com/ho125419/%25252525253Flocale%25252525253Den_US%252525252526pos%25252525253DHCOM_US</td>\n",
       "      <td>hotels</td>\n",
       "    </tr>\n",
       "    <tr>\n",
       "      <td>1</td>\n",
       "      <td>https://www.hotels.com/hotel/125419/reviews%20/</td>\n",
       "      <td>hotels</td>\n",
       "      <td>http://www.hotels.com/ho125419/%25252525253Flocale%25252525253Den_US%252525252526pos%25252525253DHCOM_US</td>\n",
       "      <td>hotels</td>\n",
       "    </tr>\n",
       "    <tr>\n",
       "      <td>2</td>\n",
       "      <td>https://www.hotels.com/hotel/125419/reviews%20/</td>\n",
       "      <td>hotels</td>\n",
       "      <td>http://www.hotels.com/ho125419/%25252525253Flocale%25252525253Den_US%252525252526pos%25252525253DHCOM_US</td>\n",
       "      <td>hotels</td>\n",
       "    </tr>\n",
       "    <tr>\n",
       "      <td>3</td>\n",
       "      <td>https://www.tripadvisor.com/Hotel_Review-g41185-d1239660-Reviews-Aloft_Arundel_Mills-Hanover_Maryland.html</td>\n",
       "      <td>tripadvisor</td>\n",
       "      <td>http://www.yellowbook.com/profile/aloft-arundel-mills_1896561264.html</td>\n",
       "      <td>yellowbook</td>\n",
       "    </tr>\n",
       "    <tr>\n",
       "      <td>4</td>\n",
       "      <td>https://www.tripadvisor.com/Hotel_Review-g41185-d1239660-Reviews-or10-Aloft_Arundel_Mills-Hanover_Maryland.html%2525252523REVIEWS</td>\n",
       "      <td>tripadvisor</td>\n",
       "      <td>http://www.yellowbook.com/profile/aloft-arundel-mills_1896561264.html</td>\n",
       "      <td>yellowbook</td>\n",
       "    </tr>\n",
       "    <tr>\n",
       "      <td>5</td>\n",
       "      <td>https://www.tripadvisor.com/Hotel_Review-g41185-d1239660-Reviews-or20-Aloft_Arundel_Mills-Hanover_Maryland.html%2525252523REVIEWS</td>\n",
       "      <td>tripadvisor</td>\n",
       "      <td>http://www.yellowbook.com/profile/aloft-arundel-mills_1896561264.html</td>\n",
       "      <td>yellowbook</td>\n",
       "    </tr>\n",
       "    <tr>\n",
       "      <td>6</td>\n",
       "      <td>https://www.tripadvisor.com/Hotel_Review-g41185-d1239660-Reviews-Aloft_Arundel_Mills-Hanover_Maryland.html</td>\n",
       "      <td>tripadvisor</td>\n",
       "      <td>http://www.yellowbook.com/profile/aloft-arundel-mills_1896561264.html</td>\n",
       "      <td>yellowbook</td>\n",
       "    </tr>\n",
       "    <tr>\n",
       "      <td>7</td>\n",
       "      <td>https://www.tripadvisor.com/Hotel_Review-g41185-d1239660-Reviews-Aloft_Arundel_Mills-Hanover_Maryland.html</td>\n",
       "      <td>tripadvisor</td>\n",
       "      <td>http://www.yellowbook.com/profile/aloft-arundel-mills_1896561264.html</td>\n",
       "      <td>yellowbook</td>\n",
       "    </tr>\n",
       "    <tr>\n",
       "      <td>8</td>\n",
       "      <td>https://www.tripadvisor.com/Hotel_Review-g41185-d1239660-Reviews-or30-Aloft_Arundel_Mills-Hanover_Maryland.html%2525252523REVIEWS</td>\n",
       "      <td>tripadvisor</td>\n",
       "      <td>http://www.yellowbook.com/profile/aloft-arundel-mills_1896561264.html</td>\n",
       "      <td>yellowbook</td>\n",
       "    </tr>\n",
       "    <tr>\n",
       "      <td>9</td>\n",
       "      <td>https://www.tripadvisor.com/Hotel_Review-g60820-d6594530-Reviews-or20-Hampton_Inn_Suites_Portland_Vancouver-Vancouver_Washington.html%2525252523REVIEWS</td>\n",
       "      <td>tripadvisor</td>\n",
       "      <td>https://www.yellowpages.com/vancouver-wa/mip/hampton-inn-suites-portland-vancouver-496239125</td>\n",
       "      <td>yellowpages</td>\n",
       "    </tr>\n",
       "    <tr>\n",
       "      <td>10</td>\n",
       "      <td>https://www.tripadvisor.com/Hotel_Review-g60820-d6594530-Reviews-Hampton_Inn_Suites_Portland_Vancouver-Vancouver_Washington.html</td>\n",
       "      <td>tripadvisor</td>\n",
       "      <td>https://www.yellowpages.com/vancouver-wa/mip/hampton-inn-suites-portland-vancouver-496239125</td>\n",
       "      <td>yellowpages</td>\n",
       "    </tr>\n",
       "    <tr>\n",
       "      <td>11</td>\n",
       "      <td>https://www.tripadvisor.com/Hotel_Review-g60820-d6594530-Reviews-or20-Hampton_Inn_Suites_Portland_Vancouver-Vancouver_Washington.html%2525252523REVIEWS</td>\n",
       "      <td>tripadvisor</td>\n",
       "      <td>https://www.yellowpages.com/vancouver-wa/mip/hampton-inn-suites-portland-vancouver-496239125</td>\n",
       "      <td>yellowpages</td>\n",
       "    </tr>\n",
       "    <tr>\n",
       "      <td>12</td>\n",
       "      <td>http://www.tripadvisor.com/Hotel_Review-g60820-d6594530-Reviews-Hampton_Inn_Suites_Portland_Vancouver-Vancouver_Washington.html</td>\n",
       "      <td>tripadvisor</td>\n",
       "      <td>https://www.yellowpages.com/vancouver-wa/mip/hampton-inn-suites-portland-vancouver-496239125</td>\n",
       "      <td>yellowpages</td>\n",
       "    </tr>\n",
       "    <tr>\n",
       "      <td>13</td>\n",
       "      <td>https://www.tripadvisor.com/Hotel_Review-g60820-d6594530-Reviews-or20-Hampton_Inn_Suites_Portland_Vancouver-Vancouver_Washington.html%2525252523REVIEWS</td>\n",
       "      <td>tripadvisor</td>\n",
       "      <td>https://www.yellowpages.com/vancouver-wa/mip/hampton-inn-suites-portland-vancouver-496239125</td>\n",
       "      <td>yellowpages</td>\n",
       "    </tr>\n",
       "    <tr>\n",
       "      <td>14</td>\n",
       "      <td>https://www.tripadvisor.com/Hotel_Review-g60820-d6594530-Reviews-or20-Hampton_Inn_Suites_Portland_Vancouver-Vancouver_Washington.html%2525252523REVIEWS</td>\n",
       "      <td>tripadvisor</td>\n",
       "      <td>https://www.yellowpages.com/vancouver-wa/mip/hampton-inn-suites-portland-vancouver-496239125</td>\n",
       "      <td>yellowpages</td>\n",
       "    </tr>\n",
       "    <tr>\n",
       "      <td>15</td>\n",
       "      <td>http://www.tripadvisor.com/Hotel_Review-g44535-d97005-Reviews-or60-Hotel_Phillips-Kansas_City_Missouri.html%252523REVIEWS</td>\n",
       "      <td>tripadvisor</td>\n",
       "      <td>http://www.gayot.com/Hotels/Select-Your-City/United-States/Missouri/Kansas-City/Hotel-Phillips-Kansas-City-KCHOT110702</td>\n",
       "      <td>gayot</td>\n",
       "    </tr>\n",
       "    <tr>\n",
       "      <td>16</td>\n",
       "      <td>http://www.tripadvisor.com/Hotel_Review-g44535-d97005-Reviews-or40-Hotel_Phillips-Kansas_City_Missouri.html%252523REVIEWS</td>\n",
       "      <td>tripadvisor</td>\n",
       "      <td>http://www.gayot.com/Hotels/Select-Your-City/United-States/Missouri/Kansas-City/Hotel-Phillips-Kansas-City-KCHOT110702</td>\n",
       "      <td>gayot</td>\n",
       "    </tr>\n",
       "    <tr>\n",
       "      <td>17</td>\n",
       "      <td>http://www.tripadvisor.com/Hotel_Review-g44535-d97005-Reviews-or20-Hotel_Phillips-Kansas_City_Missouri.html%252523REVIEWS</td>\n",
       "      <td>tripadvisor</td>\n",
       "      <td>http://www.gayot.com/Hotels/Select-Your-City/United-States/Missouri/Kansas-City/Hotel-Phillips-Kansas-City-KCHOT110702</td>\n",
       "      <td>gayot</td>\n",
       "    </tr>\n",
       "    <tr>\n",
       "      <td>18</td>\n",
       "      <td>http://www.tripadvisor.com/Hotel_Review-g44535-d97005-Reviews-or30-Hotel_Phillips-Kansas_City_Missouri.html%252523REVIEWS</td>\n",
       "      <td>tripadvisor</td>\n",
       "      <td>http://www.gayot.com/Hotels/Select-Your-City/United-States/Missouri/Kansas-City/Hotel-Phillips-Kansas-City-KCHOT110702</td>\n",
       "      <td>gayot</td>\n",
       "    </tr>\n",
       "    <tr>\n",
       "      <td>19</td>\n",
       "      <td>http://www.tripadvisor.com/Hotel_Review-g44535-d97005-Reviews-or60-Hotel_Phillips-Kansas_City_Missouri.html%252523REVIEWS</td>\n",
       "      <td>tripadvisor</td>\n",
       "      <td>http://www.gayot.com/Hotels/Select-Your-City/United-States/Missouri/Kansas-City/Hotel-Phillips-Kansas-City-KCHOT110702</td>\n",
       "      <td>gayot</td>\n",
       "    </tr>\n",
       "    <tr>\n",
       "      <td>20</td>\n",
       "      <td>https://www.tripadvisor.com/Hotel_Review-g52862-d81452-Reviews-The_Inn_at_Solvang-Huntingdon_Pennsylvania.html</td>\n",
       "      <td>tripadvisor</td>\n",
       "      <td>https://foursquare.com/v/the-inn-at-solvang/4d7247b0ff6ba35db5a16b8a</td>\n",
       "      <td>foursquare</td>\n",
       "    </tr>\n",
       "    <tr>\n",
       "      <td>21</td>\n",
       "      <td>https://www.tripadvisor.com/Hotel_Review-g35185-d252575-Reviews-EconoLodge-Perry_Georgia.html</td>\n",
       "      <td>tripadvisor</td>\n",
       "      <td>http://tripadvisor.com/Hotel_Review-g35185-d252575-Reviews-EconoLodge-Perry_Georgia.html</td>\n",
       "      <td>tripadvisor</td>\n",
       "    </tr>\n",
       "    <tr>\n",
       "      <td>22</td>\n",
       "      <td>https://www.hotels.com/hotel/164149/reviews%20/</td>\n",
       "      <td>hotels</td>\n",
       "      <td>https://www.hotels.com/hotel/164149/reviews%20/</td>\n",
       "      <td>hotels</td>\n",
       "    </tr>\n",
       "    <tr>\n",
       "      <td>23</td>\n",
       "      <td>https://www.hotels.com/hotel/164149/reviews%20/</td>\n",
       "      <td>hotels</td>\n",
       "      <td>https://www.hotels.com/hotel/164149/reviews%20/</td>\n",
       "      <td>hotels</td>\n",
       "    </tr>\n",
       "    <tr>\n",
       "      <td>24</td>\n",
       "      <td>https://www.hotels.com/hotel/164149/reviews%20/</td>\n",
       "      <td>hotels</td>\n",
       "      <td>https://www.hotels.com/hotel/164149/reviews%20/</td>\n",
       "      <td>hotels</td>\n",
       "    </tr>\n",
       "    <tr>\n",
       "      <td>...</td>\n",
       "      <td>...</td>\n",
       "      <td>...</td>\n",
       "      <td>...</td>\n",
       "      <td>...</td>\n",
       "    </tr>\n",
       "    <tr>\n",
       "      <td>9975</td>\n",
       "      <td>https://www.tripadvisor.com/Hotel_Review-g58359-d1509925-Reviews-or10-Birch_Bay_Get_Away-Blaine_Washington.html%2523REVIEWS</td>\n",
       "      <td>tripadvisor</td>\n",
       "      <td>https://www.tripadvisor.com/Hotel_Review-g58359-d1509925-Reviews-Birch_Bay_Get_Away-Blaine_Washington.html</td>\n",
       "      <td>tripadvisor</td>\n",
       "    </tr>\n",
       "    <tr>\n",
       "      <td>9976</td>\n",
       "      <td>https://www.tripadvisor.com/Hotel_Review-g32331-d76796-Reviews-Best_Western_Continental_Inn-El_Cajon_California.html</td>\n",
       "      <td>tripadvisor</td>\n",
       "      <td>http://www.hotels.com/ho175975/%2525253Flocale%2525253Den_US%25252526pos%2525253DHCOM_US</td>\n",
       "      <td>hotels</td>\n",
       "    </tr>\n",
       "    <tr>\n",
       "      <td>9977</td>\n",
       "      <td>https://www.hotels.com/hotel/175975/reviews%20/</td>\n",
       "      <td>hotels</td>\n",
       "      <td>http://www.hotels.com/ho175975/%2525253Flocale%2525253Den_US%25252526pos%2525253DHCOM_US</td>\n",
       "      <td>hotels</td>\n",
       "    </tr>\n",
       "    <tr>\n",
       "      <td>9978</td>\n",
       "      <td>https://www.hotels.com/hotel/175975/reviews%20/</td>\n",
       "      <td>hotels</td>\n",
       "      <td>http://www.hotels.com/ho175975/%2525253Flocale%2525253Den_US%25252526pos%2525253DHCOM_US</td>\n",
       "      <td>hotels</td>\n",
       "    </tr>\n",
       "    <tr>\n",
       "      <td>9979</td>\n",
       "      <td>http://www.tripadvisor.com/Hotel_Review-g32331-d76796-Reviews-or10-BEST_WESTERN_Continental_Inn-El_Cajon_California.html%25252523REVIEWS</td>\n",
       "      <td>tripadvisor</td>\n",
       "      <td>http://www.hotels.com/ho175975/%2525253Flocale%2525253Den_US%25252526pos%2525253DHCOM_US</td>\n",
       "      <td>hotels</td>\n",
       "    </tr>\n",
       "    <tr>\n",
       "      <td>9980</td>\n",
       "      <td>https://www.hotels.com/hotel/175975/reviews%20/</td>\n",
       "      <td>hotels</td>\n",
       "      <td>http://www.hotels.com/ho175975/%2525253Flocale%2525253Den_US%25252526pos%2525253DHCOM_US</td>\n",
       "      <td>hotels</td>\n",
       "    </tr>\n",
       "    <tr>\n",
       "      <td>9981</td>\n",
       "      <td>https://www.tripadvisor.com/Hotel_Review-g32331-d76796-Reviews-Best_Western_Continental_Inn-El_Cajon_California.html</td>\n",
       "      <td>tripadvisor</td>\n",
       "      <td>http://www.hotels.com/ho175975/%2525253Flocale%2525253Den_US%25252526pos%2525253DHCOM_US</td>\n",
       "      <td>hotels</td>\n",
       "    </tr>\n",
       "    <tr>\n",
       "      <td>9982</td>\n",
       "      <td>http://www.tripadvisor.com/Hotel_Review-g32331-d76796-Reviews-or10-BEST_WESTERN_Continental_Inn-El_Cajon_California.html%25252523REVIEWS</td>\n",
       "      <td>tripadvisor</td>\n",
       "      <td>http://www.hotels.com/ho175975/%2525253Flocale%2525253Den_US%25252526pos%2525253DHCOM_US</td>\n",
       "      <td>hotels</td>\n",
       "    </tr>\n",
       "    <tr>\n",
       "      <td>9983</td>\n",
       "      <td>https://www.hotels.com/hotel/175975/reviews%20/</td>\n",
       "      <td>hotels</td>\n",
       "      <td>http://www.hotels.com/ho175975/%2525253Flocale%2525253Den_US%25252526pos%2525253DHCOM_US</td>\n",
       "      <td>hotels</td>\n",
       "    </tr>\n",
       "    <tr>\n",
       "      <td>9984</td>\n",
       "      <td>http://www.tripadvisor.com/Hotel_Review-g32331-d76796-Reviews-or10-BEST_WESTERN_Continental_Inn-El_Cajon_California.html%25252523REVIEWS</td>\n",
       "      <td>tripadvisor</td>\n",
       "      <td>http://www.hotels.com/ho175975/%2525253Flocale%2525253Den_US%25252526pos%2525253DHCOM_US</td>\n",
       "      <td>hotels</td>\n",
       "    </tr>\n",
       "    <tr>\n",
       "      <td>9985</td>\n",
       "      <td>https://www.hotels.com/hotel/175975/reviews%20/</td>\n",
       "      <td>hotels</td>\n",
       "      <td>http://www.hotels.com/ho175975/%2525253Flocale%2525253Den_US%25252526pos%2525253DHCOM_US</td>\n",
       "      <td>hotels</td>\n",
       "    </tr>\n",
       "    <tr>\n",
       "      <td>9986</td>\n",
       "      <td>http://www.tripadvisor.com/Hotel_Review-g32331-d76796-Reviews-or20-BEST_WESTERN_Continental_Inn-El_Cajon_California.html%25252523REVIEWS</td>\n",
       "      <td>tripadvisor</td>\n",
       "      <td>http://www.hotels.com/ho175975/%2525253Flocale%2525253Den_US%25252526pos%2525253DHCOM_US</td>\n",
       "      <td>hotels</td>\n",
       "    </tr>\n",
       "    <tr>\n",
       "      <td>9987</td>\n",
       "      <td>https://www.hotels.com/hotel/199408/reviews%20/</td>\n",
       "      <td>hotels</td>\n",
       "      <td>https://www.tripadvisor.com/Hotel_Review-g39143-d239906-Reviews-Best_Western_Governors_Inn_Suites-Wichita_Kansas.html</td>\n",
       "      <td>tripadvisor</td>\n",
       "    </tr>\n",
       "    <tr>\n",
       "      <td>9988</td>\n",
       "      <td>https://www.hotels.com/hotel/199408/reviews%20/</td>\n",
       "      <td>hotels</td>\n",
       "      <td>https://www.tripadvisor.com/Hotel_Review-g39143-d239906-Reviews-Best_Western_Governors_Inn_Suites-Wichita_Kansas.html</td>\n",
       "      <td>tripadvisor</td>\n",
       "    </tr>\n",
       "    <tr>\n",
       "      <td>9989</td>\n",
       "      <td>https://www.hotels.com/hotel/199408/reviews%20/</td>\n",
       "      <td>hotels</td>\n",
       "      <td>https://www.tripadvisor.com/Hotel_Review-g39143-d239906-Reviews-Best_Western_Governors_Inn_Suites-Wichita_Kansas.html</td>\n",
       "      <td>tripadvisor</td>\n",
       "    </tr>\n",
       "    <tr>\n",
       "      <td>9990</td>\n",
       "      <td>http://www.tripadvisor.com/Hotel_Review-g31190-d74942-Reviews-BEST_WESTERN_Inn_of_Chandler-Chandler_Arizona.html</td>\n",
       "      <td>tripadvisor</td>\n",
       "      <td>https://www.yellowpages.com/chandler-az/mip/best-western-inn-of-chandler-497740021</td>\n",
       "      <td>yellowpages</td>\n",
       "    </tr>\n",
       "    <tr>\n",
       "      <td>9991</td>\n",
       "      <td>https://www.tripadvisor.com/Hotel_Review-g46114-d1939859-Reviews-or10-Six_South_St_Hotel-Hanover_New_Hampshire.html%25252523REVIEWS</td>\n",
       "      <td>tripadvisor</td>\n",
       "      <td>https://www.tripadvisor.com/Hotel_Review-g46114-d1939859-Reviews-Six_South_St_Hotel-Hanover_New_Hampshire.html</td>\n",
       "      <td>tripadvisor</td>\n",
       "    </tr>\n",
       "    <tr>\n",
       "      <td>9992</td>\n",
       "      <td>https://www.tripadvisor.com/Hotel_Review-g46114-d1939859-Reviews-or10-Six_South_St_Hotel-Hanover_New_Hampshire.html%25252523REVIEWS</td>\n",
       "      <td>tripadvisor</td>\n",
       "      <td>https://www.tripadvisor.com/Hotel_Review-g46114-d1939859-Reviews-Six_South_St_Hotel-Hanover_New_Hampshire.html</td>\n",
       "      <td>tripadvisor</td>\n",
       "    </tr>\n",
       "    <tr>\n",
       "      <td>9993</td>\n",
       "      <td>https://www.tripadvisor.com/Hotel_Review-g35394-d530636-Reviews-or20-SpringHill_Suites_Boise-Boise_Idaho.html%25252523REVIEWS</td>\n",
       "      <td>tripadvisor</td>\n",
       "      <td>https://www.tripadvisor.com/Hotel_Review-g35394-d530636-Reviews-SpringHill_Suites_Boise-Boise_Idaho.html</td>\n",
       "      <td>tripadvisor</td>\n",
       "    </tr>\n",
       "    <tr>\n",
       "      <td>9994</td>\n",
       "      <td>https://www.tripadvisor.com/Hotel_Review-g52043-d602316-Reviews-Silver_Sands_Oceanfront_Motel-Rockaway_Beach_Oregon.html</td>\n",
       "      <td>tripadvisor</td>\n",
       "      <td>https://www.tripadvisor.com/Hotel_Review-g52043-d602316-Reviews-Silver_Sands_Oceanfront_Motel-Rockaway_Beach_Oregon.html</td>\n",
       "      <td>tripadvisor</td>\n",
       "    </tr>\n",
       "    <tr>\n",
       "      <td>9995</td>\n",
       "      <td>http://www.tripadvisor.com/Hotel_Review-g52043-d602316-Reviews-Silver_Sands_Oceanfront_Motel-Rockaway_Beach_Oregon.html</td>\n",
       "      <td>tripadvisor</td>\n",
       "      <td>https://www.tripadvisor.com/Hotel_Review-g52043-d602316-Reviews-Silver_Sands_Oceanfront_Motel-Rockaway_Beach_Oregon.html</td>\n",
       "      <td>tripadvisor</td>\n",
       "    </tr>\n",
       "    <tr>\n",
       "      <td>9996</td>\n",
       "      <td>https://www.tripadvisor.com/Hotel_Review-g41548-d1071627-Reviews-Sandy_Neck_Motel-East_Sandwich_Sandwich_Cape_Cod_Massachusetts.html</td>\n",
       "      <td>tripadvisor</td>\n",
       "      <td>https://www.tripadvisor.com/Hotel_Review-g41548-d1071627-Reviews-Sandy_Neck_Motel-East_Sandwich_Sandwich_Cape_Cod_Massachusetts.html</td>\n",
       "      <td>tripadvisor</td>\n",
       "    </tr>\n",
       "    <tr>\n",
       "      <td>9997</td>\n",
       "      <td>https://www.tripadvisor.com/Hotel_Review-g35418-d90312-Reviews-Shilo_Inn_Suites_Coeur_d_Alene-Coeur_d_Alene_Idaho.html</td>\n",
       "      <td>tripadvisor</td>\n",
       "      <td>https://www.tripadvisor.com/Hotel_Review-g35418-d90312-Reviews-Shilo_Inn_Suites_Coeur_d_Alene-Coeur_d_Alene_Idaho.html</td>\n",
       "      <td>tripadvisor</td>\n",
       "    </tr>\n",
       "    <tr>\n",
       "      <td>9998</td>\n",
       "      <td>https://www.tripadvisor.com/Hotel_Review-g55123-d5461387-Reviews-Scottish_Inn-Jackson_Tennessee.html</td>\n",
       "      <td>tripadvisor</td>\n",
       "      <td>https://www.tripadvisor.com/Hotel_Review-g55123-d5461387-Reviews-Scottish_Inn-Jackson_Tennessee.html</td>\n",
       "      <td>tripadvisor</td>\n",
       "    </tr>\n",
       "    <tr>\n",
       "      <td>9999</td>\n",
       "      <td>https://www.tripadvisor.com/Hotel_Review-g60880-d287367-Reviews-Royal_Suite_Lodge-Anchorage_Alaska.html</td>\n",
       "      <td>tripadvisor</td>\n",
       "      <td>https://www.tripadvisor.com/Hotel_Review-g60880-d287367-Reviews-Royal_Suite_Lodge-Anchorage_Alaska.html</td>\n",
       "      <td>tripadvisor</td>\n",
       "    </tr>\n",
       "  </tbody>\n",
       "</table>\n",
       "<p>9999 rows × 4 columns</p>\n",
       "</div>"
      ],
      "text/plain": [
       "                                                                                                                                           reviews.sourceURLs  ...     URL_root\n",
       "0                                                                                                             https://www.hotels.com/hotel/125419/reviews%20/  ...       hotels\n",
       "1                                                                                                             https://www.hotels.com/hotel/125419/reviews%20/  ...       hotels\n",
       "2                                                                                                             https://www.hotels.com/hotel/125419/reviews%20/  ...       hotels\n",
       "3                                                  https://www.tripadvisor.com/Hotel_Review-g41185-d1239660-Reviews-Aloft_Arundel_Mills-Hanover_Maryland.html  ...   yellowbook\n",
       "4                           https://www.tripadvisor.com/Hotel_Review-g41185-d1239660-Reviews-or10-Aloft_Arundel_Mills-Hanover_Maryland.html%2525252523REVIEWS  ...   yellowbook\n",
       "5                           https://www.tripadvisor.com/Hotel_Review-g41185-d1239660-Reviews-or20-Aloft_Arundel_Mills-Hanover_Maryland.html%2525252523REVIEWS  ...   yellowbook\n",
       "6                                                  https://www.tripadvisor.com/Hotel_Review-g41185-d1239660-Reviews-Aloft_Arundel_Mills-Hanover_Maryland.html  ...   yellowbook\n",
       "7                                                  https://www.tripadvisor.com/Hotel_Review-g41185-d1239660-Reviews-Aloft_Arundel_Mills-Hanover_Maryland.html  ...   yellowbook\n",
       "8                           https://www.tripadvisor.com/Hotel_Review-g41185-d1239660-Reviews-or30-Aloft_Arundel_Mills-Hanover_Maryland.html%2525252523REVIEWS  ...   yellowbook\n",
       "9     https://www.tripadvisor.com/Hotel_Review-g60820-d6594530-Reviews-or20-Hampton_Inn_Suites_Portland_Vancouver-Vancouver_Washington.html%2525252523REVIEWS  ...  yellowpages\n",
       "10                           https://www.tripadvisor.com/Hotel_Review-g60820-d6594530-Reviews-Hampton_Inn_Suites_Portland_Vancouver-Vancouver_Washington.html  ...  yellowpages\n",
       "11    https://www.tripadvisor.com/Hotel_Review-g60820-d6594530-Reviews-or20-Hampton_Inn_Suites_Portland_Vancouver-Vancouver_Washington.html%2525252523REVIEWS  ...  yellowpages\n",
       "12                            http://www.tripadvisor.com/Hotel_Review-g60820-d6594530-Reviews-Hampton_Inn_Suites_Portland_Vancouver-Vancouver_Washington.html  ...  yellowpages\n",
       "13    https://www.tripadvisor.com/Hotel_Review-g60820-d6594530-Reviews-or20-Hampton_Inn_Suites_Portland_Vancouver-Vancouver_Washington.html%2525252523REVIEWS  ...  yellowpages\n",
       "14    https://www.tripadvisor.com/Hotel_Review-g60820-d6594530-Reviews-or20-Hampton_Inn_Suites_Portland_Vancouver-Vancouver_Washington.html%2525252523REVIEWS  ...  yellowpages\n",
       "15                                  http://www.tripadvisor.com/Hotel_Review-g44535-d97005-Reviews-or60-Hotel_Phillips-Kansas_City_Missouri.html%252523REVIEWS  ...        gayot\n",
       "16                                  http://www.tripadvisor.com/Hotel_Review-g44535-d97005-Reviews-or40-Hotel_Phillips-Kansas_City_Missouri.html%252523REVIEWS  ...        gayot\n",
       "17                                  http://www.tripadvisor.com/Hotel_Review-g44535-d97005-Reviews-or20-Hotel_Phillips-Kansas_City_Missouri.html%252523REVIEWS  ...        gayot\n",
       "18                                  http://www.tripadvisor.com/Hotel_Review-g44535-d97005-Reviews-or30-Hotel_Phillips-Kansas_City_Missouri.html%252523REVIEWS  ...        gayot\n",
       "19                                  http://www.tripadvisor.com/Hotel_Review-g44535-d97005-Reviews-or60-Hotel_Phillips-Kansas_City_Missouri.html%252523REVIEWS  ...        gayot\n",
       "20                                             https://www.tripadvisor.com/Hotel_Review-g52862-d81452-Reviews-The_Inn_at_Solvang-Huntingdon_Pennsylvania.html  ...   foursquare\n",
       "21                                                              https://www.tripadvisor.com/Hotel_Review-g35185-d252575-Reviews-EconoLodge-Perry_Georgia.html  ...  tripadvisor\n",
       "22                                                                                                            https://www.hotels.com/hotel/164149/reviews%20/  ...       hotels\n",
       "23                                                                                                            https://www.hotels.com/hotel/164149/reviews%20/  ...       hotels\n",
       "24                                                                                                            https://www.hotels.com/hotel/164149/reviews%20/  ...       hotels\n",
       "...                                                                                                                                                       ...  ...          ...\n",
       "9975                              https://www.tripadvisor.com/Hotel_Review-g58359-d1509925-Reviews-or10-Birch_Bay_Get_Away-Blaine_Washington.html%2523REVIEWS  ...  tripadvisor\n",
       "9976                                     https://www.tripadvisor.com/Hotel_Review-g32331-d76796-Reviews-Best_Western_Continental_Inn-El_Cajon_California.html  ...       hotels\n",
       "9977                                                                                                          https://www.hotels.com/hotel/175975/reviews%20/  ...       hotels\n",
       "9978                                                                                                          https://www.hotels.com/hotel/175975/reviews%20/  ...       hotels\n",
       "9979                 http://www.tripadvisor.com/Hotel_Review-g32331-d76796-Reviews-or10-BEST_WESTERN_Continental_Inn-El_Cajon_California.html%25252523REVIEWS  ...       hotels\n",
       "9980                                                                                                          https://www.hotels.com/hotel/175975/reviews%20/  ...       hotels\n",
       "9981                                     https://www.tripadvisor.com/Hotel_Review-g32331-d76796-Reviews-Best_Western_Continental_Inn-El_Cajon_California.html  ...       hotels\n",
       "9982                 http://www.tripadvisor.com/Hotel_Review-g32331-d76796-Reviews-or10-BEST_WESTERN_Continental_Inn-El_Cajon_California.html%25252523REVIEWS  ...       hotels\n",
       "9983                                                                                                          https://www.hotels.com/hotel/175975/reviews%20/  ...       hotels\n",
       "9984                 http://www.tripadvisor.com/Hotel_Review-g32331-d76796-Reviews-or10-BEST_WESTERN_Continental_Inn-El_Cajon_California.html%25252523REVIEWS  ...       hotels\n",
       "9985                                                                                                          https://www.hotels.com/hotel/175975/reviews%20/  ...       hotels\n",
       "9986                 http://www.tripadvisor.com/Hotel_Review-g32331-d76796-Reviews-or20-BEST_WESTERN_Continental_Inn-El_Cajon_California.html%25252523REVIEWS  ...       hotels\n",
       "9987                                                                                                          https://www.hotels.com/hotel/199408/reviews%20/  ...  tripadvisor\n",
       "9988                                                                                                          https://www.hotels.com/hotel/199408/reviews%20/  ...  tripadvisor\n",
       "9989                                                                                                          https://www.hotels.com/hotel/199408/reviews%20/  ...  tripadvisor\n",
       "9990                                         http://www.tripadvisor.com/Hotel_Review-g31190-d74942-Reviews-BEST_WESTERN_Inn_of_Chandler-Chandler_Arizona.html  ...  yellowpages\n",
       "9991                      https://www.tripadvisor.com/Hotel_Review-g46114-d1939859-Reviews-or10-Six_South_St_Hotel-Hanover_New_Hampshire.html%25252523REVIEWS  ...  tripadvisor\n",
       "9992                      https://www.tripadvisor.com/Hotel_Review-g46114-d1939859-Reviews-or10-Six_South_St_Hotel-Hanover_New_Hampshire.html%25252523REVIEWS  ...  tripadvisor\n",
       "9993                            https://www.tripadvisor.com/Hotel_Review-g35394-d530636-Reviews-or20-SpringHill_Suites_Boise-Boise_Idaho.html%25252523REVIEWS  ...  tripadvisor\n",
       "9994                                 https://www.tripadvisor.com/Hotel_Review-g52043-d602316-Reviews-Silver_Sands_Oceanfront_Motel-Rockaway_Beach_Oregon.html  ...  tripadvisor\n",
       "9995                                  http://www.tripadvisor.com/Hotel_Review-g52043-d602316-Reviews-Silver_Sands_Oceanfront_Motel-Rockaway_Beach_Oregon.html  ...  tripadvisor\n",
       "9996                     https://www.tripadvisor.com/Hotel_Review-g41548-d1071627-Reviews-Sandy_Neck_Motel-East_Sandwich_Sandwich_Cape_Cod_Massachusetts.html  ...  tripadvisor\n",
       "9997                                   https://www.tripadvisor.com/Hotel_Review-g35418-d90312-Reviews-Shilo_Inn_Suites_Coeur_d_Alene-Coeur_d_Alene_Idaho.html  ...  tripadvisor\n",
       "9998                                                     https://www.tripadvisor.com/Hotel_Review-g55123-d5461387-Reviews-Scottish_Inn-Jackson_Tennessee.html  ...  tripadvisor\n",
       "9999                                                  https://www.tripadvisor.com/Hotel_Review-g60880-d287367-Reviews-Royal_Suite_Lodge-Anchorage_Alaska.html  ...  tripadvisor\n",
       "\n",
       "[9999 rows x 4 columns]"
      ]
     },
     "execution_count": 26,
     "metadata": {},
     "output_type": "execute_result"
    }
   ],
   "source": [
    "df[['reviews.sourceURLs','review_source_URL_root','sourceURLs','URL_root']]"
   ]
  },
  {
   "cell_type": "code",
   "execution_count": 27,
   "metadata": {
    "Collapsed": "false"
   },
   "outputs": [],
   "source": [
    "# df[df['URL_root']=='hotels']['reviews.sourceURLs']"
   ]
  },
  {
   "cell_type": "code",
   "execution_count": 28,
   "metadata": {
    "Collapsed": "false"
   },
   "outputs": [],
   "source": [
    "# df[df['URL_root']=='expedia']['reviews.sourceURLs']"
   ]
  },
  {
   "cell_type": "code",
   "execution_count": 29,
   "metadata": {
    "Collapsed": "false"
   },
   "outputs": [],
   "source": [
    "# df[df['URL_root']=='booking']['reviews.sourceURLs']"
   ]
  },
  {
   "cell_type": "code",
   "execution_count": null,
   "metadata": {
    "Collapsed": "false"
   },
   "outputs": [],
   "source": []
  },
  {
   "cell_type": "code",
   "execution_count": null,
   "metadata": {
    "Collapsed": "false"
   },
   "outputs": [],
   "source": []
  },
  {
   "cell_type": "code",
   "execution_count": null,
   "metadata": {
    "Collapsed": "false"
   },
   "outputs": [],
   "source": []
  },
  {
   "cell_type": "code",
   "execution_count": null,
   "metadata": {
    "Collapsed": "false"
   },
   "outputs": [],
   "source": []
  },
  {
   "cell_type": "code",
   "execution_count": null,
   "metadata": {
    "Collapsed": "false"
   },
   "outputs": [],
   "source": []
  },
  {
   "cell_type": "code",
   "execution_count": null,
   "metadata": {
    "Collapsed": "false"
   },
   "outputs": [],
   "source": []
  },
  {
   "cell_type": "code",
   "execution_count": null,
   "metadata": {
    "Collapsed": "false"
   },
   "outputs": [],
   "source": []
  },
  {
   "cell_type": "code",
   "execution_count": null,
   "metadata": {
    "Collapsed": "false"
   },
   "outputs": [],
   "source": []
  },
  {
   "cell_type": "code",
   "execution_count": null,
   "metadata": {
    "Collapsed": "false"
   },
   "outputs": [],
   "source": []
  },
  {
   "cell_type": "code",
   "execution_count": null,
   "metadata": {
    "Collapsed": "false"
   },
   "outputs": [],
   "source": []
  },
  {
   "cell_type": "code",
   "execution_count": null,
   "metadata": {
    "Collapsed": "false"
   },
   "outputs": [],
   "source": []
  },
  {
   "cell_type": "code",
   "execution_count": null,
   "metadata": {
    "Collapsed": "false"
   },
   "outputs": [],
   "source": []
  },
  {
   "cell_type": "code",
   "execution_count": null,
   "metadata": {
    "Collapsed": "false"
   },
   "outputs": [],
   "source": []
  },
  {
   "cell_type": "code",
   "execution_count": null,
   "metadata": {
    "Collapsed": "false"
   },
   "outputs": [],
   "source": []
  },
  {
   "cell_type": "code",
   "execution_count": null,
   "metadata": {
    "Collapsed": "false"
   },
   "outputs": [],
   "source": []
  },
  {
   "cell_type": "code",
   "execution_count": null,
   "metadata": {
    "Collapsed": "false"
   },
   "outputs": [],
   "source": []
  },
  {
   "cell_type": "code",
   "execution_count": null,
   "metadata": {
    "Collapsed": "false"
   },
   "outputs": [],
   "source": []
  },
  {
   "cell_type": "code",
   "execution_count": null,
   "metadata": {
    "Collapsed": "false"
   },
   "outputs": [],
   "source": []
  },
  {
   "cell_type": "code",
   "execution_count": null,
   "metadata": {
    "Collapsed": "false"
   },
   "outputs": [],
   "source": []
  },
  {
   "cell_type": "code",
   "execution_count": 30,
   "metadata": {
    "Collapsed": "false"
   },
   "outputs": [],
   "source": [
    "df['year_updated'] = df['dateUpdated'].str.slice(0,4)"
   ]
  },
  {
   "cell_type": "code",
   "execution_count": 31,
   "metadata": {
    "Collapsed": "false"
   },
   "outputs": [],
   "source": [
    "df['year_added'] = df['dateAdded'].str.slice(0,4)"
   ]
  },
  {
   "cell_type": "code",
   "execution_count": 32,
   "metadata": {
    "Collapsed": "false"
   },
   "outputs": [
    {
     "data": {
      "text/html": [
       "<div>\n",
       "<style scoped>\n",
       "    .dataframe tbody tr th:only-of-type {\n",
       "        vertical-align: middle;\n",
       "    }\n",
       "\n",
       "    .dataframe tbody tr th {\n",
       "        vertical-align: top;\n",
       "    }\n",
       "\n",
       "    .dataframe thead th {\n",
       "        text-align: right;\n",
       "    }\n",
       "</style>\n",
       "<table border=\"1\" class=\"dataframe\">\n",
       "  <thead>\n",
       "    <tr style=\"text-align: right;\">\n",
       "      <th></th>\n",
       "      <th>dateAdded</th>\n",
       "      <th>dateUpdated</th>\n",
       "      <th>address</th>\n",
       "      <th>categories</th>\n",
       "      <th>primaryCategories</th>\n",
       "      <th>city</th>\n",
       "      <th>keys</th>\n",
       "      <th>latitude</th>\n",
       "      <th>longitude</th>\n",
       "      <th>name</th>\n",
       "      <th>postalCode</th>\n",
       "      <th>province</th>\n",
       "      <th>reviews.rating</th>\n",
       "      <th>reviews.sourceURLs</th>\n",
       "      <th>reviews.text</th>\n",
       "      <th>sourceURLs</th>\n",
       "      <th>websites</th>\n",
       "      <th>review_source_URL_root</th>\n",
       "      <th>URL_root</th>\n",
       "      <th>year_updated</th>\n",
       "      <th>year_added</th>\n",
       "    </tr>\n",
       "  </thead>\n",
       "  <tbody>\n",
       "    <tr>\n",
       "      <td>0</td>\n",
       "      <td>2016-10-30T21:42:42Z</td>\n",
       "      <td>2018-09-10T21:06:27Z</td>\n",
       "      <td>5921 Valencia Cir</td>\n",
       "      <td>Hotels,Hotels and motels,Hotel and motel reservations,Resorts,Resort,Hotel</td>\n",
       "      <td>Accommodation &amp; Food Services</td>\n",
       "      <td>Rancho Santa Fe</td>\n",
       "      <td>us/ca/ranchosantafe/5921valenciacir/359754519</td>\n",
       "      <td>32.990959</td>\n",
       "      <td>-117.186136</td>\n",
       "      <td>Rancho Valencia Resort Spa</td>\n",
       "      <td>92067</td>\n",
       "      <td>CA</td>\n",
       "      <td>5.0</td>\n",
       "      <td>https://www.hotels.com/hotel/125419/reviews%20/</td>\n",
       "      <td>Our experience at Rancho Valencia was absolutely perfect from beginning to end!!!! We felt special and very happy during our stayed. I would come back in a heart beat!!!</td>\n",
       "      <td>http://www.hotels.com/ho125419/%25252525253Flocale%25252525253Den_US%252525252526pos%25252525253DHCOM_US</td>\n",
       "      <td>http://www.ranchovalencia.com</td>\n",
       "      <td>hotels</td>\n",
       "      <td>hotels</td>\n",
       "      <td>2018</td>\n",
       "      <td>2016</td>\n",
       "    </tr>\n",
       "    <tr>\n",
       "      <td>1</td>\n",
       "      <td>2016-10-30T21:42:42Z</td>\n",
       "      <td>2018-09-10T21:06:27Z</td>\n",
       "      <td>5921 Valencia Cir</td>\n",
       "      <td>Hotels,Hotels and motels,Hotel and motel reservations,Resorts,Resort,Hotel</td>\n",
       "      <td>Accommodation &amp; Food Services</td>\n",
       "      <td>Rancho Santa Fe</td>\n",
       "      <td>us/ca/ranchosantafe/5921valenciacir/359754519</td>\n",
       "      <td>32.990959</td>\n",
       "      <td>-117.186136</td>\n",
       "      <td>Rancho Valencia Resort Spa</td>\n",
       "      <td>92067</td>\n",
       "      <td>CA</td>\n",
       "      <td>5.0</td>\n",
       "      <td>https://www.hotels.com/hotel/125419/reviews%20/</td>\n",
       "      <td>Amazing place. Everyone was extremely warm and welcoming. We've stayed at some top notch places and this is definitely in our top 2. Great for a romantic getaway or take the kids along as we did. Had a couple stuffed animals waiting for our girls upon arrival. Can't wait to g...</td>\n",
       "      <td>http://www.hotels.com/ho125419/%25252525253Flocale%25252525253Den_US%252525252526pos%25252525253DHCOM_US</td>\n",
       "      <td>http://www.ranchovalencia.com</td>\n",
       "      <td>hotels</td>\n",
       "      <td>hotels</td>\n",
       "      <td>2018</td>\n",
       "      <td>2016</td>\n",
       "    </tr>\n",
       "    <tr>\n",
       "      <td>2</td>\n",
       "      <td>2016-10-30T21:42:42Z</td>\n",
       "      <td>2018-09-10T21:06:27Z</td>\n",
       "      <td>5921 Valencia Cir</td>\n",
       "      <td>Hotels,Hotels and motels,Hotel and motel reservations,Resorts,Resort,Hotel</td>\n",
       "      <td>Accommodation &amp; Food Services</td>\n",
       "      <td>Rancho Santa Fe</td>\n",
       "      <td>us/ca/ranchosantafe/5921valenciacir/359754519</td>\n",
       "      <td>32.990959</td>\n",
       "      <td>-117.186136</td>\n",
       "      <td>Rancho Valencia Resort Spa</td>\n",
       "      <td>92067</td>\n",
       "      <td>CA</td>\n",
       "      <td>5.0</td>\n",
       "      <td>https://www.hotels.com/hotel/125419/reviews%20/</td>\n",
       "      <td>We booked a 3 night stay at Rancho Valencia to play some tennis, since it is one of the highest rated tennis resorts in America. This place is really over the top from a luxury standpoint and overall experience. The villas are really perfect, the staff is great, attention to ...</td>\n",
       "      <td>http://www.hotels.com/ho125419/%25252525253Flocale%25252525253Den_US%252525252526pos%25252525253DHCOM_US</td>\n",
       "      <td>http://www.ranchovalencia.com</td>\n",
       "      <td>hotels</td>\n",
       "      <td>hotels</td>\n",
       "      <td>2018</td>\n",
       "      <td>2016</td>\n",
       "    </tr>\n",
       "    <tr>\n",
       "      <td>3</td>\n",
       "      <td>2015-11-28T19:19:35Z</td>\n",
       "      <td>2018-09-10T21:06:16Z</td>\n",
       "      <td>7520 Teague Rd</td>\n",
       "      <td>Hotels,Hotels and motels,Travel agencies and bureaus,Hotel and Motel Management,Hotel &amp; Motel Management,Motels,Hotel</td>\n",
       "      <td>Accommodation &amp; Food Services</td>\n",
       "      <td>Hanover</td>\n",
       "      <td>us/md/hanover/7520teaguerd/-2043779672</td>\n",
       "      <td>39.155929</td>\n",
       "      <td>-76.716341</td>\n",
       "      <td>Aloft Arundel Mills</td>\n",
       "      <td>21076</td>\n",
       "      <td>MD</td>\n",
       "      <td>2.0</td>\n",
       "      <td>https://www.tripadvisor.com/Hotel_Review-g41185-d1239660-Reviews-Aloft_Arundel_Mills-Hanover_Maryland.html</td>\n",
       "      <td>Currently in bed writing this for the past hr 1/2 there have been dogs barking and squealing call the front desk to advise basically to be told there's nothing they can do. 315.00 and I can't sleep.</td>\n",
       "      <td>http://www.yellowbook.com/profile/aloft-arundel-mills_1896561264.html</td>\n",
       "      <td>http://www.starwoodhotels.com/alofthotels/property/overview/index.html?propertyID=3050?scid=45f93f1b-bd77-45c9-8dab-83b6a417f6fe,http://www.aloftarundelmills.com,https://www.marriott.com/hotels/travel/bwima-aloft-arundel-mills-bwi-airport/</td>\n",
       "      <td>tripadvisor</td>\n",
       "      <td>yellowbook</td>\n",
       "      <td>2018</td>\n",
       "      <td>2015</td>\n",
       "    </tr>\n",
       "    <tr>\n",
       "      <td>4</td>\n",
       "      <td>2015-11-28T19:19:35Z</td>\n",
       "      <td>2018-09-10T21:06:16Z</td>\n",
       "      <td>7520 Teague Rd</td>\n",
       "      <td>Hotels,Hotels and motels,Travel agencies and bureaus,Hotel and Motel Management,Hotel &amp; Motel Management,Motels,Hotel</td>\n",
       "      <td>Accommodation &amp; Food Services</td>\n",
       "      <td>Hanover</td>\n",
       "      <td>us/md/hanover/7520teaguerd/-2043779672</td>\n",
       "      <td>39.155929</td>\n",
       "      <td>-76.716341</td>\n",
       "      <td>Aloft Arundel Mills</td>\n",
       "      <td>21076</td>\n",
       "      <td>MD</td>\n",
       "      <td>5.0</td>\n",
       "      <td>https://www.tripadvisor.com/Hotel_Review-g41185-d1239660-Reviews-or10-Aloft_Arundel_Mills-Hanover_Maryland.html%2525252523REVIEWS</td>\n",
       "      <td>I live in Md and the Aloft is my Home away from home...we stayed 1 night 7-7-16 ...Staff is great ! Especially Olivia who was Extra special because she remembered me by my voice over the phone ...which tells me she is very alert and pays attention to the customer their needs....</td>\n",
       "      <td>http://www.yellowbook.com/profile/aloft-arundel-mills_1896561264.html</td>\n",
       "      <td>http://www.starwoodhotels.com/alofthotels/property/overview/index.html?propertyID=3050?scid=45f93f1b-bd77-45c9-8dab-83b6a417f6fe,http://www.aloftarundelmills.com,https://www.marriott.com/hotels/travel/bwima-aloft-arundel-mills-bwi-airport/</td>\n",
       "      <td>tripadvisor</td>\n",
       "      <td>yellowbook</td>\n",
       "      <td>2018</td>\n",
       "      <td>2015</td>\n",
       "    </tr>\n",
       "  </tbody>\n",
       "</table>\n",
       "</div>"
      ],
      "text/plain": [
       "              dateAdded           dateUpdated            address  ...    URL_root year_updated year_added\n",
       "0  2016-10-30T21:42:42Z  2018-09-10T21:06:27Z  5921 Valencia Cir  ...      hotels         2018       2016\n",
       "1  2016-10-30T21:42:42Z  2018-09-10T21:06:27Z  5921 Valencia Cir  ...      hotels         2018       2016\n",
       "2  2016-10-30T21:42:42Z  2018-09-10T21:06:27Z  5921 Valencia Cir  ...      hotels         2018       2016\n",
       "3  2015-11-28T19:19:35Z  2018-09-10T21:06:16Z     7520 Teague Rd  ...  yellowbook         2018       2015\n",
       "4  2015-11-28T19:19:35Z  2018-09-10T21:06:16Z     7520 Teague Rd  ...  yellowbook         2018       2015\n",
       "\n",
       "[5 rows x 21 columns]"
      ]
     },
     "execution_count": 32,
     "metadata": {},
     "output_type": "execute_result"
    }
   ],
   "source": [
    "df.head()"
   ]
  },
  {
   "cell_type": "code",
   "execution_count": 33,
   "metadata": {
    "Collapsed": "false"
   },
   "outputs": [
    {
     "ename": "KeyError",
     "evalue": "'country'",
     "output_type": "error",
     "traceback": [
      "\u001b[1;31m---------------------------------------------------------------------------\u001b[0m",
      "\u001b[1;31mKeyError\u001b[0m                                  Traceback (most recent call last)",
      "\u001b[1;32m~\\Anaconda3\\lib\\site-packages\\pandas\\core\\indexes\\base.py\u001b[0m in \u001b[0;36mget_loc\u001b[1;34m(self, key, method, tolerance)\u001b[0m\n\u001b[0;32m   2896\u001b[0m             \u001b[1;32mtry\u001b[0m\u001b[1;33m:\u001b[0m\u001b[1;33m\u001b[0m\u001b[1;33m\u001b[0m\u001b[0m\n\u001b[1;32m-> 2897\u001b[1;33m                 \u001b[1;32mreturn\u001b[0m \u001b[0mself\u001b[0m\u001b[1;33m.\u001b[0m\u001b[0m_engine\u001b[0m\u001b[1;33m.\u001b[0m\u001b[0mget_loc\u001b[0m\u001b[1;33m(\u001b[0m\u001b[0mkey\u001b[0m\u001b[1;33m)\u001b[0m\u001b[1;33m\u001b[0m\u001b[1;33m\u001b[0m\u001b[0m\n\u001b[0m\u001b[0;32m   2898\u001b[0m             \u001b[1;32mexcept\u001b[0m \u001b[0mKeyError\u001b[0m\u001b[1;33m:\u001b[0m\u001b[1;33m\u001b[0m\u001b[1;33m\u001b[0m\u001b[0m\n",
      "\u001b[1;32mpandas\\_libs\\index.pyx\u001b[0m in \u001b[0;36mpandas._libs.index.IndexEngine.get_loc\u001b[1;34m()\u001b[0m\n",
      "\u001b[1;32mpandas\\_libs\\index.pyx\u001b[0m in \u001b[0;36mpandas._libs.index.IndexEngine.get_loc\u001b[1;34m()\u001b[0m\n",
      "\u001b[1;32mpandas\\_libs\\hashtable_class_helper.pxi\u001b[0m in \u001b[0;36mpandas._libs.hashtable.PyObjectHashTable.get_item\u001b[1;34m()\u001b[0m\n",
      "\u001b[1;32mpandas\\_libs\\hashtable_class_helper.pxi\u001b[0m in \u001b[0;36mpandas._libs.hashtable.PyObjectHashTable.get_item\u001b[1;34m()\u001b[0m\n",
      "\u001b[1;31mKeyError\u001b[0m: 'country'",
      "\nDuring handling of the above exception, another exception occurred:\n",
      "\u001b[1;31mKeyError\u001b[0m                                  Traceback (most recent call last)",
      "\u001b[1;32m<ipython-input-33-10feb63667c1>\u001b[0m in \u001b[0;36m<module>\u001b[1;34m\u001b[0m\n\u001b[1;32m----> 1\u001b[1;33m \u001b[0mdf\u001b[0m\u001b[1;33m[\u001b[0m\u001b[1;34m'country'\u001b[0m\u001b[1;33m]\u001b[0m\u001b[1;33m.\u001b[0m\u001b[0munique\u001b[0m\u001b[1;33m(\u001b[0m\u001b[1;33m)\u001b[0m\u001b[1;33m\u001b[0m\u001b[1;33m\u001b[0m\u001b[0m\n\u001b[0m",
      "\u001b[1;32m~\\Anaconda3\\lib\\site-packages\\pandas\\core\\frame.py\u001b[0m in \u001b[0;36m__getitem__\u001b[1;34m(self, key)\u001b[0m\n\u001b[0;32m   2978\u001b[0m             \u001b[1;32mif\u001b[0m \u001b[0mself\u001b[0m\u001b[1;33m.\u001b[0m\u001b[0mcolumns\u001b[0m\u001b[1;33m.\u001b[0m\u001b[0mnlevels\u001b[0m \u001b[1;33m>\u001b[0m \u001b[1;36m1\u001b[0m\u001b[1;33m:\u001b[0m\u001b[1;33m\u001b[0m\u001b[1;33m\u001b[0m\u001b[0m\n\u001b[0;32m   2979\u001b[0m                 \u001b[1;32mreturn\u001b[0m \u001b[0mself\u001b[0m\u001b[1;33m.\u001b[0m\u001b[0m_getitem_multilevel\u001b[0m\u001b[1;33m(\u001b[0m\u001b[0mkey\u001b[0m\u001b[1;33m)\u001b[0m\u001b[1;33m\u001b[0m\u001b[1;33m\u001b[0m\u001b[0m\n\u001b[1;32m-> 2980\u001b[1;33m             \u001b[0mindexer\u001b[0m \u001b[1;33m=\u001b[0m \u001b[0mself\u001b[0m\u001b[1;33m.\u001b[0m\u001b[0mcolumns\u001b[0m\u001b[1;33m.\u001b[0m\u001b[0mget_loc\u001b[0m\u001b[1;33m(\u001b[0m\u001b[0mkey\u001b[0m\u001b[1;33m)\u001b[0m\u001b[1;33m\u001b[0m\u001b[1;33m\u001b[0m\u001b[0m\n\u001b[0m\u001b[0;32m   2981\u001b[0m             \u001b[1;32mif\u001b[0m \u001b[0mis_integer\u001b[0m\u001b[1;33m(\u001b[0m\u001b[0mindexer\u001b[0m\u001b[1;33m)\u001b[0m\u001b[1;33m:\u001b[0m\u001b[1;33m\u001b[0m\u001b[1;33m\u001b[0m\u001b[0m\n\u001b[0;32m   2982\u001b[0m                 \u001b[0mindexer\u001b[0m \u001b[1;33m=\u001b[0m \u001b[1;33m[\u001b[0m\u001b[0mindexer\u001b[0m\u001b[1;33m]\u001b[0m\u001b[1;33m\u001b[0m\u001b[1;33m\u001b[0m\u001b[0m\n",
      "\u001b[1;32m~\\Anaconda3\\lib\\site-packages\\pandas\\core\\indexes\\base.py\u001b[0m in \u001b[0;36mget_loc\u001b[1;34m(self, key, method, tolerance)\u001b[0m\n\u001b[0;32m   2897\u001b[0m                 \u001b[1;32mreturn\u001b[0m \u001b[0mself\u001b[0m\u001b[1;33m.\u001b[0m\u001b[0m_engine\u001b[0m\u001b[1;33m.\u001b[0m\u001b[0mget_loc\u001b[0m\u001b[1;33m(\u001b[0m\u001b[0mkey\u001b[0m\u001b[1;33m)\u001b[0m\u001b[1;33m\u001b[0m\u001b[1;33m\u001b[0m\u001b[0m\n\u001b[0;32m   2898\u001b[0m             \u001b[1;32mexcept\u001b[0m \u001b[0mKeyError\u001b[0m\u001b[1;33m:\u001b[0m\u001b[1;33m\u001b[0m\u001b[1;33m\u001b[0m\u001b[0m\n\u001b[1;32m-> 2899\u001b[1;33m                 \u001b[1;32mreturn\u001b[0m \u001b[0mself\u001b[0m\u001b[1;33m.\u001b[0m\u001b[0m_engine\u001b[0m\u001b[1;33m.\u001b[0m\u001b[0mget_loc\u001b[0m\u001b[1;33m(\u001b[0m\u001b[0mself\u001b[0m\u001b[1;33m.\u001b[0m\u001b[0m_maybe_cast_indexer\u001b[0m\u001b[1;33m(\u001b[0m\u001b[0mkey\u001b[0m\u001b[1;33m)\u001b[0m\u001b[1;33m)\u001b[0m\u001b[1;33m\u001b[0m\u001b[1;33m\u001b[0m\u001b[0m\n\u001b[0m\u001b[0;32m   2900\u001b[0m         \u001b[0mindexer\u001b[0m \u001b[1;33m=\u001b[0m \u001b[0mself\u001b[0m\u001b[1;33m.\u001b[0m\u001b[0mget_indexer\u001b[0m\u001b[1;33m(\u001b[0m\u001b[1;33m[\u001b[0m\u001b[0mkey\u001b[0m\u001b[1;33m]\u001b[0m\u001b[1;33m,\u001b[0m \u001b[0mmethod\u001b[0m\u001b[1;33m=\u001b[0m\u001b[0mmethod\u001b[0m\u001b[1;33m,\u001b[0m \u001b[0mtolerance\u001b[0m\u001b[1;33m=\u001b[0m\u001b[0mtolerance\u001b[0m\u001b[1;33m)\u001b[0m\u001b[1;33m\u001b[0m\u001b[1;33m\u001b[0m\u001b[0m\n\u001b[0;32m   2901\u001b[0m         \u001b[1;32mif\u001b[0m \u001b[0mindexer\u001b[0m\u001b[1;33m.\u001b[0m\u001b[0mndim\u001b[0m \u001b[1;33m>\u001b[0m \u001b[1;36m1\u001b[0m \u001b[1;32mor\u001b[0m \u001b[0mindexer\u001b[0m\u001b[1;33m.\u001b[0m\u001b[0msize\u001b[0m \u001b[1;33m>\u001b[0m \u001b[1;36m1\u001b[0m\u001b[1;33m:\u001b[0m\u001b[1;33m\u001b[0m\u001b[1;33m\u001b[0m\u001b[0m\n",
      "\u001b[1;32mpandas\\_libs\\index.pyx\u001b[0m in \u001b[0;36mpandas._libs.index.IndexEngine.get_loc\u001b[1;34m()\u001b[0m\n",
      "\u001b[1;32mpandas\\_libs\\index.pyx\u001b[0m in \u001b[0;36mpandas._libs.index.IndexEngine.get_loc\u001b[1;34m()\u001b[0m\n",
      "\u001b[1;32mpandas\\_libs\\hashtable_class_helper.pxi\u001b[0m in \u001b[0;36mpandas._libs.hashtable.PyObjectHashTable.get_item\u001b[1;34m()\u001b[0m\n",
      "\u001b[1;32mpandas\\_libs\\hashtable_class_helper.pxi\u001b[0m in \u001b[0;36mpandas._libs.hashtable.PyObjectHashTable.get_item\u001b[1;34m()\u001b[0m\n",
      "\u001b[1;31mKeyError\u001b[0m: 'country'"
     ]
    }
   ],
   "source": [
    "df['country'].unique()"
   ]
  },
  {
   "cell_type": "code",
   "execution_count": null,
   "metadata": {
    "Collapsed": "false"
   },
   "outputs": [],
   "source": [
    "len(df['reviews.sourceURLs'].unique())"
   ]
  },
  {
   "cell_type": "code",
   "execution_count": null,
   "metadata": {
    "Collapsed": "false"
   },
   "outputs": [],
   "source": [
    "df['year_updated'].unique()"
   ]
  },
  {
   "cell_type": "code",
   "execution_count": null,
   "metadata": {
    "Collapsed": "false"
   },
   "outputs": [],
   "source": [
    "df['year_added'].unique()"
   ]
  },
  {
   "cell_type": "code",
   "execution_count": null,
   "metadata": {
    "Collapsed": "false"
   },
   "outputs": [],
   "source": [
    "df['reviews.sourceURLs'][4]"
   ]
  },
  {
   "cell_type": "code",
   "execution_count": null,
   "metadata": {
    "Collapsed": "false"
   },
   "outputs": [],
   "source": [
    "len('https://www.tripadvisor.com')"
   ]
  },
  {
   "cell_type": "code",
   "execution_count": null,
   "metadata": {
    "Collapsed": "false"
   },
   "outputs": [],
   "source": []
  },
  {
   "cell_type": "code",
   "execution_count": null,
   "metadata": {
    "Collapsed": "false"
   },
   "outputs": [],
   "source": [
    "# Number of reviews on tripadvisor\n",
    "df[df['reviews.sourceURLs'].str.slice(0,27)=='https://www.tripadvisor.com'].shape"
   ]
  },
  {
   "cell_type": "code",
   "execution_count": null,
   "metadata": {
    "Collapsed": "false"
   },
   "outputs": [],
   "source": [
    "len(df['reviews.sourceURLs'].unique())"
   ]
  },
  {
   "cell_type": "code",
   "execution_count": null,
   "metadata": {
    "Collapsed": "false"
   },
   "outputs": [],
   "source": [
    "len(df['websites'].unique())"
   ]
  },
  {
   "cell_type": "code",
   "execution_count": null,
   "metadata": {
    "Collapsed": "false"
   },
   "outputs": [],
   "source": [
    "df.columns"
   ]
  },
  {
   "cell_type": "code",
   "execution_count": null,
   "metadata": {
    "Collapsed": "false"
   },
   "outputs": [],
   "source": [
    "# 49 states\n",
    "len(df['province'].unique())"
   ]
  },
  {
   "cell_type": "code",
   "execution_count": null,
   "metadata": {
    "Collapsed": "false"
   },
   "outputs": [],
   "source": []
  }
 ],
 "metadata": {
  "kernelspec": {
   "display_name": "Python 3",
   "language": "python",
   "name": "python3"
  },
  "language_info": {
   "codemirror_mode": {
    "name": "ipython",
    "version": 3
   },
   "file_extension": ".py",
   "mimetype": "text/x-python",
   "name": "python",
   "nbconvert_exporter": "python",
   "pygments_lexer": "ipython3",
   "version": "3.7.4"
  }
 },
 "nbformat": 4,
 "nbformat_minor": 4
}
