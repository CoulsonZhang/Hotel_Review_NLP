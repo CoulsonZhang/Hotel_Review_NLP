{
 "cells": [
  {
   "cell_type": "markdown",
   "metadata": {
    "Collapsed": "false"
   },
   "source": [
    "# 1. Early EDA and Cleaning"
   ]
  },
  {
   "cell_type": "markdown",
   "metadata": {
    "Collapsed": "false"
   },
   "source": [
    "## 1.1 Imports"
   ]
  },
  {
   "cell_type": "code",
   "execution_count": 1,
   "metadata": {
    "Collapsed": "false"
   },
   "outputs": [],
   "source": [
    "import pandas as pd\n",
    "import seaborn as sns\n",
    "import matplotlib.pyplot as plt\n",
    "import numpy as np"
   ]
  },
  {
   "cell_type": "code",
   "execution_count": 2,
   "metadata": {
    "Collapsed": "false"
   },
   "outputs": [],
   "source": [
    "df = pd.read_csv('1.tripadvisor_scraped_hotel_reviews.csv')"
   ]
  },
  {
   "cell_type": "markdown",
   "metadata": {
    "Collapsed": "false"
   },
   "source": [
    "## 1.2 Checking for Nulls"
   ]
  },
  {
   "cell_type": "code",
   "execution_count": 3,
   "metadata": {
    "Collapsed": "false"
   },
   "outputs": [
    {
     "data": {
      "text/html": [
       "<div>\n",
       "<style scoped>\n",
       "    .dataframe tbody tr th:only-of-type {\n",
       "        vertical-align: middle;\n",
       "    }\n",
       "\n",
       "    .dataframe tbody tr th {\n",
       "        vertical-align: top;\n",
       "    }\n",
       "\n",
       "    .dataframe thead th {\n",
       "        text-align: right;\n",
       "    }\n",
       "</style>\n",
       "<table border=\"1\" class=\"dataframe\">\n",
       "  <thead>\n",
       "    <tr style=\"text-align: right;\">\n",
       "      <th></th>\n",
       "      <th>hotel_name</th>\n",
       "      <th>review_summary</th>\n",
       "      <th>review_p1</th>\n",
       "      <th>review_p2</th>\n",
       "      <th>score</th>\n",
       "    </tr>\n",
       "  </thead>\n",
       "  <tbody>\n",
       "    <tr>\n",
       "      <td>0</td>\n",
       "      <td>Hotel Hilton London Gatwick Airport</td>\n",
       "      <td>Awful...</td>\n",
       "      <td>Its hard to find words that can describe this ...</td>\n",
       "      <td>its just all a bit 'run down'  Poor food, not...</td>\n",
       "      <td>&lt;span class=\"ui_bubble_rating bubble_10\"&gt;&lt;/span&gt;</td>\n",
       "    </tr>\n",
       "    <tr>\n",
       "      <td>1</td>\n",
       "      <td>Hotel Hilton London Gatwick Airport</td>\n",
       "      <td>Great start to hokidat</td>\n",
       "      <td>Staying in a hotel that’s part of the airport ...</td>\n",
       "      <td>NaN</td>\n",
       "      <td>&lt;span class=\"ui_bubble_rating bubble_50\"&gt;&lt;/span&gt;</td>\n",
       "    </tr>\n",
       "    <tr>\n",
       "      <td>2</td>\n",
       "      <td>Hotel Hilton London Gatwick Airport</td>\n",
       "      <td>A good overnight stay!</td>\n",
       "      <td>My wife and I stayed at this hotel for one nig...</td>\n",
       "      <td>flat-screen TV (with a huge selection of TV c...</td>\n",
       "      <td>&lt;span class=\"ui_bubble_rating bubble_50\"&gt;&lt;/span&gt;</td>\n",
       "    </tr>\n",
       "    <tr>\n",
       "      <td>3</td>\n",
       "      <td>Hotel Hilton London Gatwick Airport</td>\n",
       "      <td>Satisfactory one night stay</td>\n",
       "      <td>One night  stay which turned out to be much be...</td>\n",
       "      <td>so higher prices are expected. Overall a very...</td>\n",
       "      <td>&lt;span class=\"ui_bubble_rating bubble_40\"&gt;&lt;/span&gt;</td>\n",
       "    </tr>\n",
       "    <tr>\n",
       "      <td>4</td>\n",
       "      <td>Hotel Hilton London Gatwick Airport</td>\n",
       "      <td>Still nice but looking a bit sad, old and dated</td>\n",
       "      <td>We had an executive room and even these are st...</td>\n",
       "      <td>NaN</td>\n",
       "      <td>&lt;span class=\"ui_bubble_rating bubble_40\"&gt;&lt;/span&gt;</td>\n",
       "    </tr>\n",
       "    <tr>\n",
       "      <td>5</td>\n",
       "      <td>Hotel Hilton London Gatwick Airport</td>\n",
       "      <td>NaN</td>\n",
       "      <td>NaN</td>\n",
       "      <td>NaN</td>\n",
       "      <td>NaN</td>\n",
       "    </tr>\n",
       "    <tr>\n",
       "      <td>6</td>\n",
       "      <td>Hotel Hilton London Gatwick Airport</td>\n",
       "      <td>NaN</td>\n",
       "      <td>NaN</td>\n",
       "      <td>NaN</td>\n",
       "      <td>NaN</td>\n",
       "    </tr>\n",
       "    <tr>\n",
       "      <td>7</td>\n",
       "      <td>Hotel Hilton London Gatwick Airport</td>\n",
       "      <td>NaN</td>\n",
       "      <td>NaN</td>\n",
       "      <td>NaN</td>\n",
       "      <td>NaN</td>\n",
       "    </tr>\n",
       "    <tr>\n",
       "      <td>8</td>\n",
       "      <td>Hotel Hilton London Gatwick Airport</td>\n",
       "      <td>NaN</td>\n",
       "      <td>NaN</td>\n",
       "      <td>NaN</td>\n",
       "      <td>NaN</td>\n",
       "    </tr>\n",
       "    <tr>\n",
       "      <td>9</td>\n",
       "      <td>Hotel Hilton London Gatwick Airport</td>\n",
       "      <td>NaN</td>\n",
       "      <td>NaN</td>\n",
       "      <td>NaN</td>\n",
       "      <td>NaN</td>\n",
       "    </tr>\n",
       "  </tbody>\n",
       "</table>\n",
       "</div>"
      ],
      "text/plain": [
       "                            hotel_name  \\\n",
       "0  Hotel Hilton London Gatwick Airport   \n",
       "1  Hotel Hilton London Gatwick Airport   \n",
       "2  Hotel Hilton London Gatwick Airport   \n",
       "3  Hotel Hilton London Gatwick Airport   \n",
       "4  Hotel Hilton London Gatwick Airport   \n",
       "5  Hotel Hilton London Gatwick Airport   \n",
       "6  Hotel Hilton London Gatwick Airport   \n",
       "7  Hotel Hilton London Gatwick Airport   \n",
       "8  Hotel Hilton London Gatwick Airport   \n",
       "9  Hotel Hilton London Gatwick Airport   \n",
       "\n",
       "                                    review_summary  \\\n",
       "0                                         Awful...   \n",
       "1                           Great start to hokidat   \n",
       "2                           A good overnight stay!   \n",
       "3                      Satisfactory one night stay   \n",
       "4  Still nice but looking a bit sad, old and dated   \n",
       "5                                              NaN   \n",
       "6                                              NaN   \n",
       "7                                              NaN   \n",
       "8                                              NaN   \n",
       "9                                              NaN   \n",
       "\n",
       "                                           review_p1  \\\n",
       "0  Its hard to find words that can describe this ...   \n",
       "1  Staying in a hotel that’s part of the airport ...   \n",
       "2  My wife and I stayed at this hotel for one nig...   \n",
       "3  One night  stay which turned out to be much be...   \n",
       "4  We had an executive room and even these are st...   \n",
       "5                                                NaN   \n",
       "6                                                NaN   \n",
       "7                                                NaN   \n",
       "8                                                NaN   \n",
       "9                                                NaN   \n",
       "\n",
       "                                           review_p2  \\\n",
       "0   its just all a bit 'run down'  Poor food, not...   \n",
       "1                                                NaN   \n",
       "2   flat-screen TV (with a huge selection of TV c...   \n",
       "3   so higher prices are expected. Overall a very...   \n",
       "4                                                NaN   \n",
       "5                                                NaN   \n",
       "6                                                NaN   \n",
       "7                                                NaN   \n",
       "8                                                NaN   \n",
       "9                                                NaN   \n",
       "\n",
       "                                              score  \n",
       "0  <span class=\"ui_bubble_rating bubble_10\"></span>  \n",
       "1  <span class=\"ui_bubble_rating bubble_50\"></span>  \n",
       "2  <span class=\"ui_bubble_rating bubble_50\"></span>  \n",
       "3  <span class=\"ui_bubble_rating bubble_40\"></span>  \n",
       "4  <span class=\"ui_bubble_rating bubble_40\"></span>  \n",
       "5                                               NaN  \n",
       "6                                               NaN  \n",
       "7                                               NaN  \n",
       "8                                               NaN  \n",
       "9                                               NaN  "
      ]
     },
     "execution_count": 3,
     "metadata": {},
     "output_type": "execute_result"
    }
   ],
   "source": [
    "df.head(10)"
   ]
  },
  {
   "cell_type": "code",
   "execution_count": 4,
   "metadata": {
    "Collapsed": "false"
   },
   "outputs": [
    {
     "data": {
      "text/plain": [
       "(35078, 5)"
      ]
     },
     "execution_count": 4,
     "metadata": {},
     "output_type": "execute_result"
    }
   ],
   "source": [
    "df.shape"
   ]
  },
  {
   "cell_type": "code",
   "execution_count": 5,
   "metadata": {
    "Collapsed": "false"
   },
   "outputs": [
    {
     "name": "stdout",
     "output_type": "stream",
     "text": [
      "<class 'pandas.core.frame.DataFrame'>\n",
      "RangeIndex: 35078 entries, 0 to 35077\n",
      "Data columns (total 5 columns):\n",
      "hotel_name        35078 non-null object\n",
      "review_summary    17538 non-null object\n",
      "review_p1         17538 non-null object\n",
      "review_p2         4698 non-null object\n",
      "score             17538 non-null object\n",
      "dtypes: object(5)\n",
      "memory usage: 1.3+ MB\n"
     ]
    }
   ],
   "source": [
    "df.info()"
   ]
  },
  {
   "cell_type": "code",
   "execution_count": 6,
   "metadata": {
    "Collapsed": "false"
   },
   "outputs": [],
   "source": [
    "df.dropna(subset=['review_p1'],axis=0,inplace=True)"
   ]
  },
  {
   "cell_type": "code",
   "execution_count": 7,
   "metadata": {
    "Collapsed": "false"
   },
   "outputs": [
    {
     "name": "stdout",
     "output_type": "stream",
     "text": [
      "<class 'pandas.core.frame.DataFrame'>\n",
      "Int64Index: 17538 entries, 0 to 35072\n",
      "Data columns (total 5 columns):\n",
      "hotel_name        17538 non-null object\n",
      "review_summary    17538 non-null object\n",
      "review_p1         17538 non-null object\n",
      "review_p2         4698 non-null object\n",
      "score             17538 non-null object\n",
      "dtypes: object(5)\n",
      "memory usage: 822.1+ KB\n"
     ]
    }
   ],
   "source": [
    "df.info()"
   ]
  },
  {
   "cell_type": "markdown",
   "metadata": {
    "Collapsed": "false"
   },
   "source": [
    "## 1.3 Coverting Score Column"
   ]
  },
  {
   "cell_type": "code",
   "execution_count": 8,
   "metadata": {
    "Collapsed": "false"
   },
   "outputs": [],
   "source": [
    "df['score'] = df['score'].astype(str).apply(lambda x: x[37]).astype(int)"
   ]
  },
  {
   "cell_type": "code",
   "execution_count": 9,
   "metadata": {
    "Collapsed": "false"
   },
   "outputs": [],
   "source": [
    "df.reset_index(inplace=True,drop=True)"
   ]
  },
  {
   "cell_type": "code",
   "execution_count": 10,
   "metadata": {
    "Collapsed": "false"
   },
   "outputs": [
    {
     "data": {
      "text/html": [
       "<div>\n",
       "<style scoped>\n",
       "    .dataframe tbody tr th:only-of-type {\n",
       "        vertical-align: middle;\n",
       "    }\n",
       "\n",
       "    .dataframe tbody tr th {\n",
       "        vertical-align: top;\n",
       "    }\n",
       "\n",
       "    .dataframe thead th {\n",
       "        text-align: right;\n",
       "    }\n",
       "</style>\n",
       "<table border=\"1\" class=\"dataframe\">\n",
       "  <thead>\n",
       "    <tr style=\"text-align: right;\">\n",
       "      <th></th>\n",
       "      <th>hotel_name</th>\n",
       "      <th>review_summary</th>\n",
       "      <th>review_p1</th>\n",
       "      <th>review_p2</th>\n",
       "      <th>score</th>\n",
       "    </tr>\n",
       "  </thead>\n",
       "  <tbody>\n",
       "    <tr>\n",
       "      <td>0</td>\n",
       "      <td>Hotel Hilton London Gatwick Airport</td>\n",
       "      <td>Awful...</td>\n",
       "      <td>Its hard to find words that can describe this ...</td>\n",
       "      <td>its just all a bit 'run down'  Poor food, not...</td>\n",
       "      <td>1</td>\n",
       "    </tr>\n",
       "    <tr>\n",
       "      <td>1</td>\n",
       "      <td>Hotel Hilton London Gatwick Airport</td>\n",
       "      <td>Great start to hokidat</td>\n",
       "      <td>Staying in a hotel that’s part of the airport ...</td>\n",
       "      <td>NaN</td>\n",
       "      <td>5</td>\n",
       "    </tr>\n",
       "    <tr>\n",
       "      <td>2</td>\n",
       "      <td>Hotel Hilton London Gatwick Airport</td>\n",
       "      <td>A good overnight stay!</td>\n",
       "      <td>My wife and I stayed at this hotel for one nig...</td>\n",
       "      <td>flat-screen TV (with a huge selection of TV c...</td>\n",
       "      <td>5</td>\n",
       "    </tr>\n",
       "    <tr>\n",
       "      <td>3</td>\n",
       "      <td>Hotel Hilton London Gatwick Airport</td>\n",
       "      <td>Satisfactory one night stay</td>\n",
       "      <td>One night  stay which turned out to be much be...</td>\n",
       "      <td>so higher prices are expected. Overall a very...</td>\n",
       "      <td>4</td>\n",
       "    </tr>\n",
       "    <tr>\n",
       "      <td>4</td>\n",
       "      <td>Hotel Hilton London Gatwick Airport</td>\n",
       "      <td>Still nice but looking a bit sad, old and dated</td>\n",
       "      <td>We had an executive room and even these are st...</td>\n",
       "      <td>NaN</td>\n",
       "      <td>4</td>\n",
       "    </tr>\n",
       "    <tr>\n",
       "      <td>5</td>\n",
       "      <td>Hilton London Metropole</td>\n",
       "      <td>Great stay</td>\n",
       "      <td>Hilton metropole is centrally located and prov...</td>\n",
       "      <td>NaN</td>\n",
       "      <td>4</td>\n",
       "    </tr>\n",
       "    <tr>\n",
       "      <td>6</td>\n",
       "      <td>Hilton London Metropole</td>\n",
       "      <td>Classic Hilton</td>\n",
       "      <td>1 Thanks for the quick suite upgrade! Love it!...</td>\n",
       "      <td>NaN</td>\n",
       "      <td>5</td>\n",
       "    </tr>\n",
       "    <tr>\n",
       "      <td>7</td>\n",
       "      <td>Hilton London Metropole</td>\n",
       "      <td>Terrible</td>\n",
       "      <td>Absolutely terrible. Cracked ceiling, tiny roo...</td>\n",
       "      <td>NaN</td>\n",
       "      <td>1</td>\n",
       "    </tr>\n",
       "    <tr>\n",
       "      <td>8</td>\n",
       "      <td>Hilton London Metropole</td>\n",
       "      <td>Hilton</td>\n",
       "      <td>Me and my sister stayed at the Hilton metropol...</td>\n",
       "      <td>went through my finger to my elbow. Also when...</td>\n",
       "      <td>2</td>\n",
       "    </tr>\n",
       "    <tr>\n",
       "      <td>9</td>\n",
       "      <td>Hilton London Metropole</td>\n",
       "      <td>Clean and tidy. Nice rooms</td>\n",
       "      <td>We stayed here for a weekend away and used it ...</td>\n",
       "      <td>NaN</td>\n",
       "      <td>5</td>\n",
       "    </tr>\n",
       "  </tbody>\n",
       "</table>\n",
       "</div>"
      ],
      "text/plain": [
       "                            hotel_name  \\\n",
       "0  Hotel Hilton London Gatwick Airport   \n",
       "1  Hotel Hilton London Gatwick Airport   \n",
       "2  Hotel Hilton London Gatwick Airport   \n",
       "3  Hotel Hilton London Gatwick Airport   \n",
       "4  Hotel Hilton London Gatwick Airport   \n",
       "5              Hilton London Metropole   \n",
       "6              Hilton London Metropole   \n",
       "7              Hilton London Metropole   \n",
       "8              Hilton London Metropole   \n",
       "9              Hilton London Metropole   \n",
       "\n",
       "                                    review_summary  \\\n",
       "0                                         Awful...   \n",
       "1                           Great start to hokidat   \n",
       "2                           A good overnight stay!   \n",
       "3                      Satisfactory one night stay   \n",
       "4  Still nice but looking a bit sad, old and dated   \n",
       "5                                       Great stay   \n",
       "6                                   Classic Hilton   \n",
       "7                                        Terrible    \n",
       "8                                           Hilton   \n",
       "9                      Clean and tidy. Nice rooms    \n",
       "\n",
       "                                           review_p1  \\\n",
       "0  Its hard to find words that can describe this ...   \n",
       "1  Staying in a hotel that’s part of the airport ...   \n",
       "2  My wife and I stayed at this hotel for one nig...   \n",
       "3  One night  stay which turned out to be much be...   \n",
       "4  We had an executive room and even these are st...   \n",
       "5  Hilton metropole is centrally located and prov...   \n",
       "6  1 Thanks for the quick suite upgrade! Love it!...   \n",
       "7  Absolutely terrible. Cracked ceiling, tiny roo...   \n",
       "8  Me and my sister stayed at the Hilton metropol...   \n",
       "9  We stayed here for a weekend away and used it ...   \n",
       "\n",
       "                                           review_p2  score  \n",
       "0   its just all a bit 'run down'  Poor food, not...      1  \n",
       "1                                                NaN      5  \n",
       "2   flat-screen TV (with a huge selection of TV c...      5  \n",
       "3   so higher prices are expected. Overall a very...      4  \n",
       "4                                                NaN      4  \n",
       "5                                                NaN      4  \n",
       "6                                                NaN      5  \n",
       "7                                                NaN      1  \n",
       "8   went through my finger to my elbow. Also when...      2  \n",
       "9                                                NaN      5  "
      ]
     },
     "execution_count": 10,
     "metadata": {},
     "output_type": "execute_result"
    }
   ],
   "source": [
    "df.head(10)"
   ]
  },
  {
   "cell_type": "code",
   "execution_count": 11,
   "metadata": {
    "Collapsed": "false"
   },
   "outputs": [],
   "source": [
    "scores = pd.DataFrame(df.groupby('score').size().sort_values(ascending=False)).reset_index()"
   ]
  },
  {
   "cell_type": "code",
   "execution_count": 12,
   "metadata": {
    "Collapsed": "false"
   },
   "outputs": [],
   "source": [
    "scores.rename(columns={0:'count'},inplace=True)"
   ]
  },
  {
   "cell_type": "code",
   "execution_count": 13,
   "metadata": {
    "Collapsed": "false"
   },
   "outputs": [
    {
     "data": {
      "image/png": "[encoded data removed]",
      "text/plain": [
       "<Figure size 864x864 with 1 Axes>"
      ]
     },
     "metadata": {
      "needs_background": "light"
     },
     "output_type": "display_data"
    }
   ],
   "source": [
    "plt.figure(figsize=(12,12))\n",
    "sns.barplot(x='score',y='count',data=scores)\n",
    "plt.show()"
   ]
  },
  {
   "cell_type": "markdown",
   "metadata": {
    "Collapsed": "false"
   },
   "source": [
    "## 1.4 Adjusting Class Imbalance for Scores"
   ]
  },
  {
   "cell_type": "code",
   "execution_count": 14,
   "metadata": {
    "Collapsed": "false"
   },
   "outputs": [
    {
     "data": {
      "text/plain": [
       "1881"
      ]
     },
     "execution_count": 14,
     "metadata": {},
     "output_type": "execute_result"
    }
   ],
   "source": [
    "minority_class_len = len(df[df['score'] == 1])\n",
    "minority_class_len"
   ]
  },
  {
   "cell_type": "code",
   "execution_count": 15,
   "metadata": {
    "Collapsed": "false"
   },
   "outputs": [],
   "source": [
    "score_1_class_indices = df[df['score'] == 1].index\n",
    "score_2_class_indices = df[df['score'] == 2].index\n",
    "score_3_class_indices = df[df['score'] == 3].index\n",
    "score_4_class_indices = df[df['score'] == 4].index\n",
    "score_5_class_indices = df[df['score'] == 5].index"
   ]
  },
  {
   "cell_type": "code",
   "execution_count": 16,
   "metadata": {
    "Collapsed": "false"
   },
   "outputs": [
    {
     "name": "stdout",
     "output_type": "stream",
     "text": [
      "1881\n",
      "1881\n",
      "1881\n",
      "1881\n"
     ]
    }
   ],
   "source": [
    "random_score_2_class_indices = np.random.choice(score_2_class_indices,minority_class_len,replace=False)\n",
    "print(len(random_score_2_class_indices))\n",
    "random_score_3_class_indices = np.random.choice(score_3_class_indices,minority_class_len,replace=False)\n",
    "print(len(random_score_3_class_indices))\n",
    "random_score_4_class_indices = np.random.choice(score_4_class_indices,minority_class_len,replace=False)\n",
    "print(len(random_score_4_class_indices))\n",
    "random_score_5_class_indices = np.random.choice(score_5_class_indices,minority_class_len,replace=False)\n",
    "print(len(random_score_5_class_indices))"
   ]
  },
  {
   "cell_type": "code",
   "execution_count": 17,
   "metadata": {
    "Collapsed": "false"
   },
   "outputs": [],
   "source": [
    "under_sample_indices = np.concatenate([score_1_class_indices,random_score_2_class_indices,random_score_3_class_indices,random_score_4_class_indices,random_score_5_class_indices])"
   ]
  },
  {
   "cell_type": "code",
   "execution_count": 18,
   "metadata": {
    "Collapsed": "false"
   },
   "outputs": [],
   "source": [
    "df = df.loc[under_sample_indices]"
   ]
  },
  {
   "cell_type": "code",
   "execution_count": 19,
   "metadata": {
    "Collapsed": "false"
   },
   "outputs": [
    {
     "data": {
      "image/png": "[encoded data removed]",
      "text/plain": [
       "<Figure size 864x864 with 1 Axes>"
      ]
     },
     "metadata": {
      "needs_background": "light"
     },
     "output_type": "display_data"
    }
   ],
   "source": [
    "plt.figure(figsize=(12,12))\n",
    "sns.countplot(x='score',data=df)\n",
    "plt.show()"
   ]
  },
  {
   "cell_type": "markdown",
   "metadata": {
    "Collapsed": "false"
   },
   "source": [
    "## 1.5 Joining Review Part 1 with Review Part 2 in New Column Review"
   ]
  },
  {
   "cell_type": "code",
   "execution_count": 20,
   "metadata": {
    "Collapsed": "false"
   },
   "outputs": [],
   "source": [
    "df['review_p2'].fillna(value='',inplace=True)"
   ]
  },
  {
   "cell_type": "code",
   "execution_count": 21,
   "metadata": {
    "Collapsed": "false"
   },
   "outputs": [],
   "source": [
    "df['review'] = df['review_p1'].astype(str) + df['review_p2'].astype(str)"
   ]
  },
  {
   "cell_type": "code",
   "execution_count": 22,
   "metadata": {
    "Collapsed": "false"
   },
   "outputs": [
    {
     "data": {
      "text/html": [
       "<div>\n",
       "<style scoped>\n",
       "    .dataframe tbody tr th:only-of-type {\n",
       "        vertical-align: middle;\n",
       "    }\n",
       "\n",
       "    .dataframe tbody tr th {\n",
       "        vertical-align: top;\n",
       "    }\n",
       "\n",
       "    .dataframe thead th {\n",
       "        text-align: right;\n",
       "    }\n",
       "</style>\n",
       "<table border=\"1\" class=\"dataframe\">\n",
       "  <thead>\n",
       "    <tr style=\"text-align: right;\">\n",
       "      <th></th>\n",
       "      <th>hotel_name</th>\n",
       "      <th>review_summary</th>\n",
       "      <th>review_p1</th>\n",
       "      <th>review_p2</th>\n",
       "      <th>score</th>\n",
       "      <th>review</th>\n",
       "    </tr>\n",
       "  </thead>\n",
       "  <tbody>\n",
       "    <tr>\n",
       "      <td>0</td>\n",
       "      <td>Hotel Hilton London Gatwick Airport</td>\n",
       "      <td>Awful...</td>\n",
       "      <td>Its hard to find words that can describe this ...</td>\n",
       "      <td>its just all a bit 'run down'  Poor food, not...</td>\n",
       "      <td>1</td>\n",
       "      <td>Its hard to find words that can describe this ...</td>\n",
       "    </tr>\n",
       "    <tr>\n",
       "      <td>7</td>\n",
       "      <td>Hilton London Metropole</td>\n",
       "      <td>Terrible</td>\n",
       "      <td>Absolutely terrible. Cracked ceiling, tiny roo...</td>\n",
       "      <td></td>\n",
       "      <td>1</td>\n",
       "      <td>Absolutely terrible. Cracked ceiling, tiny roo...</td>\n",
       "    </tr>\n",
       "    <tr>\n",
       "      <td>38</td>\n",
       "      <td>Hilton London Euston</td>\n",
       "      <td>Double deposit taken from bank</td>\n",
       "      <td>Very disappointed firstly i checked in online ...</td>\n",
       "      <td></td>\n",
       "      <td>1</td>\n",
       "      <td>Very disappointed firstly i checked in online ...</td>\n",
       "    </tr>\n",
       "    <tr>\n",
       "      <td>40</td>\n",
       "      <td>Hilton London Metropole</td>\n",
       "      <td>Super disappointed!</td>\n",
       "      <td>First of all we arrived wanting to park at the...</td>\n",
       "      <td>…</td>\n",
       "      <td>1</td>\n",
       "      <td>First of all we arrived wanting to park at the...</td>\n",
       "    </tr>\n",
       "    <tr>\n",
       "      <td>43</td>\n",
       "      <td>Hilton London Metropole</td>\n",
       "      <td>Dissatisfied Hilton gold number</td>\n",
       "      <td>Hello,  I currently staying @ Hilton Metropole...</td>\n",
       "      <td>…</td>\n",
       "      <td>1</td>\n",
       "      <td>Hello,  I currently staying @ Hilton Metropole...</td>\n",
       "    </tr>\n",
       "    <tr>\n",
       "      <td>48</td>\n",
       "      <td>Hotel Hilton London Gatwick Airport</td>\n",
       "      <td>Wouldn’t refund even though a government ban o...</td>\n",
       "      <td>1.  Hotel gave option to pay on arrival which ...</td>\n",
       "      <td></td>\n",
       "      <td>1</td>\n",
       "      <td>1.  Hotel gave option to pay on arrival which ...</td>\n",
       "    </tr>\n",
       "    <tr>\n",
       "      <td>57</td>\n",
       "      <td>Hilton London Euston</td>\n",
       "      <td>Stay away, you can’t trust them</td>\n",
       "      <td>Whether the prices are available on the bar or...</td>\n",
       "      <td></td>\n",
       "      <td>1</td>\n",
       "      <td>Whether the prices are available on the bar or...</td>\n",
       "    </tr>\n",
       "    <tr>\n",
       "      <td>59</td>\n",
       "      <td>Hilton London Euston</td>\n",
       "      <td>Only sty here if nothing else is available in ...</td>\n",
       "      <td>The staff did not seem to be engaged or intere...</td>\n",
       "      <td></td>\n",
       "      <td>1</td>\n",
       "      <td>The staff did not seem to be engaged or intere...</td>\n",
       "    </tr>\n",
       "    <tr>\n",
       "      <td>67</td>\n",
       "      <td>Hilton London Metropole</td>\n",
       "      <td>Rude staff</td>\n",
       "      <td>Restaurant staff were extremely rude. They did...</td>\n",
       "      <td></td>\n",
       "      <td>1</td>\n",
       "      <td>Restaurant staff were extremely rude. They did...</td>\n",
       "    </tr>\n",
       "    <tr>\n",
       "      <td>78</td>\n",
       "      <td>Hilton London Croydon</td>\n",
       "      <td>Just plain awful staff attitude !!!!</td>\n",
       "      <td>Stayed here with work for one night , what a m...</td>\n",
       "      <td>…</td>\n",
       "      <td>1</td>\n",
       "      <td>Stayed here with work for one night , what a m...</td>\n",
       "    </tr>\n",
       "  </tbody>\n",
       "</table>\n",
       "</div>"
      ],
      "text/plain": [
       "                             hotel_name  \\\n",
       "0   Hotel Hilton London Gatwick Airport   \n",
       "7               Hilton London Metropole   \n",
       "38                 Hilton London Euston   \n",
       "40              Hilton London Metropole   \n",
       "43              Hilton London Metropole   \n",
       "48  Hotel Hilton London Gatwick Airport   \n",
       "57                 Hilton London Euston   \n",
       "59                 Hilton London Euston   \n",
       "67              Hilton London Metropole   \n",
       "78                Hilton London Croydon   \n",
       "\n",
       "                                       review_summary  \\\n",
       "0                                            Awful...   \n",
       "7                                           Terrible    \n",
       "38                     Double deposit taken from bank   \n",
       "40                                Super disappointed!   \n",
       "43                    Dissatisfied Hilton gold number   \n",
       "48  Wouldn’t refund even though a government ban o...   \n",
       "57                    Stay away, you can’t trust them   \n",
       "59  Only sty here if nothing else is available in ...   \n",
       "67                                         Rude staff   \n",
       "78               Just plain awful staff attitude !!!!   \n",
       "\n",
       "                                            review_p1  \\\n",
       "0   Its hard to find words that can describe this ...   \n",
       "7   Absolutely terrible. Cracked ceiling, tiny roo...   \n",
       "38  Very disappointed firstly i checked in online ...   \n",
       "40  First of all we arrived wanting to park at the...   \n",
       "43  Hello,  I currently staying @ Hilton Metropole...   \n",
       "48  1.  Hotel gave option to pay on arrival which ...   \n",
       "57  Whether the prices are available on the bar or...   \n",
       "59  The staff did not seem to be engaged or intere...   \n",
       "67  Restaurant staff were extremely rude. They did...   \n",
       "78  Stayed here with work for one night , what a m...   \n",
       "\n",
       "                                            review_p2  score  \\\n",
       "0    its just all a bit 'run down'  Poor food, not...      1   \n",
       "7                                                          1   \n",
       "38                                                         1   \n",
       "40                                                  …      1   \n",
       "43                                                  …      1   \n",
       "48                                                         1   \n",
       "57                                                         1   \n",
       "59                                                         1   \n",
       "67                                                         1   \n",
       "78                                                  …      1   \n",
       "\n",
       "                                               review  \n",
       "0   Its hard to find words that can describe this ...  \n",
       "7   Absolutely terrible. Cracked ceiling, tiny roo...  \n",
       "38  Very disappointed firstly i checked in online ...  \n",
       "40  First of all we arrived wanting to park at the...  \n",
       "43  Hello,  I currently staying @ Hilton Metropole...  \n",
       "48  1.  Hotel gave option to pay on arrival which ...  \n",
       "57  Whether the prices are available on the bar or...  \n",
       "59  The staff did not seem to be engaged or intere...  \n",
       "67  Restaurant staff were extremely rude. They did...  \n",
       "78  Stayed here with work for one night , what a m...  "
      ]
     },
     "execution_count": 22,
     "metadata": {},
     "output_type": "execute_result"
    }
   ],
   "source": [
    "df.head(10)"
   ]
  },
  {
   "cell_type": "code",
   "execution_count": 23,
   "metadata": {
    "Collapsed": "false"
   },
   "outputs": [
    {
     "data": {
      "text/plain": [
       "\"Its hard to find words that can describe this experience without being too dismissive so i'll keep it short.  Pros. - Check experience was fine.... The checkin clerk was funny and helpful, and had a lovely manner with the guests. Very efficient. - Location... Very well set for access to Gatwick airport, with a short walk to the terminal for your flights.  Cons - Food...  the hotel not only was packed full and the restaurants were full, but the food itself was incredibly poor and expensive.   We did the buffet... on the evening.... barely anything was truly good tasting..... AVOID - Comfort... Hiltons of late seem to be less and less comfortable, the rooms stark... and without any character. Not the cleanest of rooms either. - its a big hotel.... everywhere is a lengthy walk and its just all a bit 'run down'  Poor food, not the best night sleep, expensive for what it is, tired and in need of significant change.  AVOID!\""
      ]
     },
     "execution_count": 23,
     "metadata": {},
     "output_type": "execute_result"
    }
   ],
   "source": [
    "df['review'][0]"
   ]
  },
  {
   "cell_type": "markdown",
   "metadata": {
    "Collapsed": "false"
   },
   "source": [
    "## 1.6 Removing Review Part 1 and Review Part 2 Columns"
   ]
  },
  {
   "cell_type": "code",
   "execution_count": 24,
   "metadata": {
    "Collapsed": "false"
   },
   "outputs": [],
   "source": [
    "df.drop(columns=['review_p1','review_p2'],inplace=True)"
   ]
  },
  {
   "cell_type": "code",
   "execution_count": 25,
   "metadata": {
    "Collapsed": "false"
   },
   "outputs": [
    {
     "data": {
      "text/html": [
       "<div>\n",
       "<style scoped>\n",
       "    .dataframe tbody tr th:only-of-type {\n",
       "        vertical-align: middle;\n",
       "    }\n",
       "\n",
       "    .dataframe tbody tr th {\n",
       "        vertical-align: top;\n",
       "    }\n",
       "\n",
       "    .dataframe thead th {\n",
       "        text-align: right;\n",
       "    }\n",
       "</style>\n",
       "<table border=\"1\" class=\"dataframe\">\n",
       "  <thead>\n",
       "    <tr style=\"text-align: right;\">\n",
       "      <th></th>\n",
       "      <th>hotel_name</th>\n",
       "      <th>review_summary</th>\n",
       "      <th>score</th>\n",
       "      <th>review</th>\n",
       "    </tr>\n",
       "  </thead>\n",
       "  <tbody>\n",
       "    <tr>\n",
       "      <td>0</td>\n",
       "      <td>Hotel Hilton London Gatwick Airport</td>\n",
       "      <td>Awful...</td>\n",
       "      <td>1</td>\n",
       "      <td>Its hard to find words that can describe this ...</td>\n",
       "    </tr>\n",
       "    <tr>\n",
       "      <td>7</td>\n",
       "      <td>Hilton London Metropole</td>\n",
       "      <td>Terrible</td>\n",
       "      <td>1</td>\n",
       "      <td>Absolutely terrible. Cracked ceiling, tiny roo...</td>\n",
       "    </tr>\n",
       "    <tr>\n",
       "      <td>38</td>\n",
       "      <td>Hilton London Euston</td>\n",
       "      <td>Double deposit taken from bank</td>\n",
       "      <td>1</td>\n",
       "      <td>Very disappointed firstly i checked in online ...</td>\n",
       "    </tr>\n",
       "    <tr>\n",
       "      <td>40</td>\n",
       "      <td>Hilton London Metropole</td>\n",
       "      <td>Super disappointed!</td>\n",
       "      <td>1</td>\n",
       "      <td>First of all we arrived wanting to park at the...</td>\n",
       "    </tr>\n",
       "    <tr>\n",
       "      <td>43</td>\n",
       "      <td>Hilton London Metropole</td>\n",
       "      <td>Dissatisfied Hilton gold number</td>\n",
       "      <td>1</td>\n",
       "      <td>Hello,  I currently staying @ Hilton Metropole...</td>\n",
       "    </tr>\n",
       "  </tbody>\n",
       "</table>\n",
       "</div>"
      ],
      "text/plain": [
       "                             hotel_name                   review_summary  \\\n",
       "0   Hotel Hilton London Gatwick Airport                         Awful...   \n",
       "7               Hilton London Metropole                        Terrible    \n",
       "38                 Hilton London Euston   Double deposit taken from bank   \n",
       "40              Hilton London Metropole              Super disappointed!   \n",
       "43              Hilton London Metropole  Dissatisfied Hilton gold number   \n",
       "\n",
       "    score                                             review  \n",
       "0       1  Its hard to find words that can describe this ...  \n",
       "7       1  Absolutely terrible. Cracked ceiling, tiny roo...  \n",
       "38      1  Very disappointed firstly i checked in online ...  \n",
       "40      1  First of all we arrived wanting to park at the...  \n",
       "43      1  Hello,  I currently staying @ Hilton Metropole...  "
      ]
     },
     "execution_count": 25,
     "metadata": {},
     "output_type": "execute_result"
    }
   ],
   "source": [
    "df.head()"
   ]
  },
  {
   "cell_type": "code",
   "execution_count": 26,
   "metadata": {
    "Collapsed": "false"
   },
   "outputs": [
    {
     "data": {
      "text/plain": [
       "(9405, 4)"
      ]
     },
     "execution_count": 26,
     "metadata": {},
     "output_type": "execute_result"
    }
   ],
   "source": [
    "df.shape"
   ]
  },
  {
   "cell_type": "code",
   "execution_count": 27,
   "metadata": {
    "Collapsed": "false"
   },
   "outputs": [
    {
     "name": "stdout",
     "output_type": "stream",
     "text": [
      "<class 'pandas.core.frame.DataFrame'>\n",
      "Int64Index: 9405 entries, 0 to 5772\n",
      "Data columns (total 4 columns):\n",
      "hotel_name        9405 non-null object\n",
      "review_summary    9405 non-null object\n",
      "score             9405 non-null int32\n",
      "review            9405 non-null object\n",
      "dtypes: int32(1), object(3)\n",
      "memory usage: 650.6+ KB\n"
     ]
    }
   ],
   "source": [
    "df.info()"
   ]
  },
  {
   "cell_type": "code",
   "execution_count": 28,
   "metadata": {
    "Collapsed": "false"
   },
   "outputs": [
    {
     "data": {
      "text/html": [
       "<div>\n",
       "<style scoped>\n",
       "    .dataframe tbody tr th:only-of-type {\n",
       "        vertical-align: middle;\n",
       "    }\n",
       "\n",
       "    .dataframe tbody tr th {\n",
       "        vertical-align: top;\n",
       "    }\n",
       "\n",
       "    .dataframe thead th {\n",
       "        text-align: right;\n",
       "    }\n",
       "</style>\n",
       "<table border=\"1\" class=\"dataframe\">\n",
       "  <thead>\n",
       "    <tr style=\"text-align: right;\">\n",
       "      <th></th>\n",
       "      <th>score</th>\n",
       "    </tr>\n",
       "  </thead>\n",
       "  <tbody>\n",
       "    <tr>\n",
       "      <td>count</td>\n",
       "      <td>9405.000000</td>\n",
       "    </tr>\n",
       "    <tr>\n",
       "      <td>mean</td>\n",
       "      <td>3.000000</td>\n",
       "    </tr>\n",
       "    <tr>\n",
       "      <td>std</td>\n",
       "      <td>1.414289</td>\n",
       "    </tr>\n",
       "    <tr>\n",
       "      <td>min</td>\n",
       "      <td>1.000000</td>\n",
       "    </tr>\n",
       "    <tr>\n",
       "      <td>25%</td>\n",
       "      <td>2.000000</td>\n",
       "    </tr>\n",
       "    <tr>\n",
       "      <td>50%</td>\n",
       "      <td>3.000000</td>\n",
       "    </tr>\n",
       "    <tr>\n",
       "      <td>75%</td>\n",
       "      <td>4.000000</td>\n",
       "    </tr>\n",
       "    <tr>\n",
       "      <td>max</td>\n",
       "      <td>5.000000</td>\n",
       "    </tr>\n",
       "  </tbody>\n",
       "</table>\n",
       "</div>"
      ],
      "text/plain": [
       "             score\n",
       "count  9405.000000\n",
       "mean      3.000000\n",
       "std       1.414289\n",
       "min       1.000000\n",
       "25%       2.000000\n",
       "50%       3.000000\n",
       "75%       4.000000\n",
       "max       5.000000"
      ]
     },
     "execution_count": 28,
     "metadata": {},
     "output_type": "execute_result"
    }
   ],
   "source": [
    "df.describe()"
   ]
  },
  {
   "cell_type": "markdown",
   "metadata": {
    "Collapsed": "false"
   },
   "source": [
    "## 1.7 Saving Structured Dataset as a CSV"
   ]
  },
  {
   "cell_type": "code",
   "execution_count": 29,
   "metadata": {
    "Collapsed": "false"
   },
   "outputs": [],
   "source": [
    "df.to_csv('2.hotel_reviews_structured.csv',index=False)"
   ]
  }
 ],
 "metadata": {
  "kernelspec": {
   "display_name": "Python 3",
   "language": "python",
   "name": "python3"
  },
  "language_info": {
   "codemirror_mode": {
    "name": "ipython",
    "version": 3
   },
   "file_extension": ".py",
   "mimetype": "text/x-python",
   "name": "python",
   "nbconvert_exporter": "python",
   "pygments_lexer": "ipython3",
   "version": "3.7.4"
  }
 },
 "nbformat": 4,
 "nbformat_minor": 4
}
