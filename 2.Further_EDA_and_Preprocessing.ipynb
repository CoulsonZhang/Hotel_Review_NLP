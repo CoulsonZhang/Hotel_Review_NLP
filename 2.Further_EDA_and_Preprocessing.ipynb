{
 "cells": [
  {
   "cell_type": "markdown",
   "metadata": {
    "Collapsed": "false"
   },
   "source": [
    "# 2. Further EDA and Preprocessing"
   ]
  },
  {
   "cell_type": "markdown",
   "metadata": {
    "Collapsed": "false"
   },
   "source": [
    "## 2.1 Imports"
   ]
  },
  {
   "cell_type": "code",
   "execution_count": 85,
   "metadata": {
    "Collapsed": "false"
   },
   "outputs": [],
   "source": [
    "import pandas as pd\n",
    "import matplotlib.pyplot as plt\n",
    "import seaborn as sns\n",
    "import numpy as np\n",
    "\n",
    "from nltk.probability import FreqDist\n",
    "from nltk.tokenize import RegexpTokenizer\n",
    "from nltk.tokenize import word_tokenize\n",
    "from nltk.stem import PorterStemmer, WordNetLemmatizer\n",
    "from nltk.corpus import stopwords\n",
    "\n",
    "from sklearn.model_selection import train_test_split\n",
    "from sklearn.feature_extraction.text import TfidfVectorizer, CountVectorizer"
   ]
  },
  {
   "cell_type": "code",
   "execution_count": null,
   "metadata": {
    "Collapsed": "false"
   },
   "outputs": [],
   "source": [
    "from sklearn.feature_extraction.text import CountVectorizer\n",
    "from sklearn.feature_extraction.text import TfidfVectorizer\n",
    "from sklearn.feature_extraction.text import TfidfTransformer\n",
    "from nltk.corpus import stopwords\n",
    "from nltk.stem import PorterStemmer\n",
    "from sklearn.metrics import confusion_matrix\n",
    "from sklearn.naive_bayes import MultinomialNB\n",
    "from sklearn import metrics\n",
    "from sklearn.model_selection import train_test_split\n",
    "from matplotlib import cm\n",
    "from sklearn.ensemble import RandomForestClassifier\n",
    "from sklearn.metrics import accuracy_score\n",
    "from sklearn.metrics import f1_score\n",
    "from sklearn.naive_bayes import GaussianNB"
   ]
  },
  {
   "cell_type": "code",
   "execution_count": 2,
   "metadata": {
    "Collapsed": "false"
   },
   "outputs": [],
   "source": [
    "df = pd.read_csv('hotel_reviews_structured.csv')"
   ]
  },
  {
   "cell_type": "code",
   "execution_count": 3,
   "metadata": {
    "Collapsed": "false"
   },
   "outputs": [
    {
     "data": {
      "text/html": [
       "<div>\n",
       "<style scoped>\n",
       "    .dataframe tbody tr th:only-of-type {\n",
       "        vertical-align: middle;\n",
       "    }\n",
       "\n",
       "    .dataframe tbody tr th {\n",
       "        vertical-align: top;\n",
       "    }\n",
       "\n",
       "    .dataframe thead th {\n",
       "        text-align: right;\n",
       "    }\n",
       "</style>\n",
       "<table border=\"1\" class=\"dataframe\">\n",
       "  <thead>\n",
       "    <tr style=\"text-align: right;\">\n",
       "      <th></th>\n",
       "      <th>hotel_name</th>\n",
       "      <th>review_summary</th>\n",
       "      <th>score</th>\n",
       "      <th>review</th>\n",
       "    </tr>\n",
       "  </thead>\n",
       "  <tbody>\n",
       "    <tr>\n",
       "      <td>0</td>\n",
       "      <td>Hotel Hilton London Gatwick Airport</td>\n",
       "      <td>Awful...</td>\n",
       "      <td>1</td>\n",
       "      <td>Its hard to find words that can describe this ...</td>\n",
       "    </tr>\n",
       "    <tr>\n",
       "      <td>1</td>\n",
       "      <td>Hilton London Metropole</td>\n",
       "      <td>Terrible</td>\n",
       "      <td>1</td>\n",
       "      <td>Absolutely terrible. Cracked ceiling, tiny roo...</td>\n",
       "    </tr>\n",
       "    <tr>\n",
       "      <td>2</td>\n",
       "      <td>Hilton London Euston</td>\n",
       "      <td>Double deposit taken from bank</td>\n",
       "      <td>1</td>\n",
       "      <td>Very disappointed firstly i checked in online ...</td>\n",
       "    </tr>\n",
       "    <tr>\n",
       "      <td>3</td>\n",
       "      <td>Hilton London Metropole</td>\n",
       "      <td>Super disappointed!</td>\n",
       "      <td>1</td>\n",
       "      <td>First of all we arrived wanting to park at the...</td>\n",
       "    </tr>\n",
       "    <tr>\n",
       "      <td>4</td>\n",
       "      <td>Hilton London Metropole</td>\n",
       "      <td>Dissatisfied Hilton gold number</td>\n",
       "      <td>1</td>\n",
       "      <td>Hello,  I currently staying @ Hilton Metropole...</td>\n",
       "    </tr>\n",
       "  </tbody>\n",
       "</table>\n",
       "</div>"
      ],
      "text/plain": [
       "                            hotel_name                   review_summary  \\\n",
       "0  Hotel Hilton London Gatwick Airport                         Awful...   \n",
       "1              Hilton London Metropole                        Terrible    \n",
       "2                 Hilton London Euston   Double deposit taken from bank   \n",
       "3              Hilton London Metropole              Super disappointed!   \n",
       "4              Hilton London Metropole  Dissatisfied Hilton gold number   \n",
       "\n",
       "   score                                             review  \n",
       "0      1  Its hard to find words that can describe this ...  \n",
       "1      1  Absolutely terrible. Cracked ceiling, tiny roo...  \n",
       "2      1  Very disappointed firstly i checked in online ...  \n",
       "3      1  First of all we arrived wanting to park at the...  \n",
       "4      1  Hello,  I currently staying @ Hilton Metropole...  "
      ]
     },
     "execution_count": 3,
     "metadata": {},
     "output_type": "execute_result"
    }
   ],
   "source": [
    "df.head()"
   ]
  },
  {
   "cell_type": "code",
   "execution_count": 25,
   "metadata": {
    "Collapsed": "false"
   },
   "outputs": [
    {
     "data": {
      "text/plain": [
       "(9405, 4)"
      ]
     },
     "execution_count": 25,
     "metadata": {},
     "output_type": "execute_result"
    }
   ],
   "source": [
    "df.shape"
   ]
  },
  {
   "cell_type": "markdown",
   "metadata": {
    "Collapsed": "false"
   },
   "source": [
    "## 2.2 Checking Frequency of Words and Phrases in Review Summaries"
   ]
  },
  {
   "cell_type": "code",
   "execution_count": 33,
   "metadata": {
    "Collapsed": "false"
   },
   "outputs": [
    {
     "data": {
      "image/png": "[encoded data removed]",
      "text/plain": [
       "<Figure size 864x720 with 1 Axes>"
      ]
     },
     "metadata": {
      "needs_background": "light"
     },
     "output_type": "display_data"
    }
   ],
   "source": [
    "plt.figure(figsize=(12,10))\n",
    "FreqDist(df['review_summary'].values.tolist()).plot(10)\n",
    "plt.show()"
   ]
  },
  {
   "cell_type": "markdown",
   "metadata": {
    "Collapsed": "false"
   },
   "source": [
    "## 2.3 Flattening Our Data"
   ]
  },
  {
   "cell_type": "code",
   "execution_count": 24,
   "metadata": {
    "Collapsed": "false"
   },
   "outputs": [
    {
     "data": {
      "text/plain": [
       "[\"Its hard to find words that can describe this experience without being too dismissive so i'll keep it short.  Pros. - Check experience was fine.... The checkin clerk was funny and helpful, and had a lovely manner with the guests. Very efficient. - Location... Very well set for access to Gatwick airport, with a short walk to the terminal for your flights.  Cons - Food...  the hotel not only was packed full and the restaurants were full, but the food itself was incredibly poor and expensive.   We did the buffet... on the evening.... barely anything was truly good tasting..... AVOID - Comfort... Hiltons of late seem to be less and less comfortable, the rooms stark... and without any character. Not the cleanest of rooms either. - its a big hotel.... everywhere is a lengthy walk and its just all a bit 'run down'  Poor food, not the best night sleep, expensive for what it is, tired and in need of significant change.  AVOID!\",\n",
       " 'Absolutely terrible. Cracked ceiling, tiny room, bad quality tv, cracked paint on bath, shower coming of the wall, dated bathroom, sink tap falling apart, scratches all over the wall,really dated bathroom and nothing like the photos on there website show. Most importantly NO SOAP at a time like this!!!.   The lobby is really nice and food was lovely but the rooms are such aet down and the hallway to the room smelt of smoke all day and night. ',\n",
       " 'Very disappointed firstly i checked in online but had to go to front desk to get digital key the system was down so this took longer than it should of then the next day i found out they took 2 times the £50 deposit amount due to a system error!they couldnt refund me i have to wait for the funds to be released back into my account. Front desk lady not helpful at all! This left me in a predicament financially taking £100 for a deposit when room was already paid in full up front 2 weeks before booking. Not a happy customer and a hilton honours customer! Not much soap in rooms and rooms small. Very noisy from outside noise and guests entering building late at night shouting.']"
      ]
     },
     "execution_count": 24,
     "metadata": {},
     "output_type": "execute_result"
    }
   ],
   "source": [
    "df['review'][0:3].to_list()"
   ]
  },
  {
   "cell_type": "code",
   "execution_count": 47,
   "metadata": {
    "Collapsed": "false"
   },
   "outputs": [],
   "source": [
    "flat_list_reviews = []\n",
    "tokenizer = RegexpTokenizer(r'[a-zA-Z0-9]+') \n",
    "tokenized_reviews = tokenizer.tokenize(str(df['review'].values))\n",
    "\n",
    "for review in tokenized_reviews:\n",
    "    flat_list_reviews.append(review)"
   ]
  },
  {
   "cell_type": "markdown",
   "metadata": {
    "Collapsed": "false"
   },
   "source": [
    "## 2.4 Checking Frequency of Words and Phrases in Reviews"
   ]
  },
  {
   "cell_type": "code",
   "execution_count": 48,
   "metadata": {
    "Collapsed": "false"
   },
   "outputs": [
    {
     "data": {
      "image/png": "[encoded data removed]",
      "text/plain": [
       "<Figure size 1080x720 with 1 Axes>"
      ]
     },
     "metadata": {
      "needs_background": "light"
     },
     "output_type": "display_data"
    }
   ],
   "source": [
    "plt.figure(figsize=(15,10))\n",
    "FreqDist(flat_list_reviews).plot(20)\n",
    "plt.show()"
   ]
  },
  {
   "cell_type": "code",
   "execution_count": 50,
   "metadata": {
    "Collapsed": "false"
   },
   "outputs": [],
   "source": [
    "stemmer = PorterStemmer()\n",
    "lemmy = WordNetLemmatizer()"
   ]
  },
  {
   "cell_type": "code",
   "execution_count": 51,
   "metadata": {
    "Collapsed": "false"
   },
   "outputs": [],
   "source": [
    "def apply_stem(doc):\n",
    "    doc_split = doc.split(' ')\n",
    "    stem_doc = ''\n",
    "    for word in doc_split:\n",
    "        stem_doc += stemmer.stem(word) + ' '\n",
    "    return stem_doc\n",
    "\n",
    "def apply_lem(doc):\n",
    "    doc_split = doc.split(' ')\n",
    "    lem_doc = ''\n",
    "    for word in doc_split:\n",
    "        lem_doc += lemmy.lemmatize(word, pos='n') + ' '\n",
    "        \n",
    "    return lem_doc"
   ]
  },
  {
   "cell_type": "code",
   "execution_count": 53,
   "metadata": {
    "Collapsed": "false"
   },
   "outputs": [],
   "source": [
    "df['review_stemmed'] = df['review'].apply(apply_stem)\n",
    "df['review_lemmed'] = df['review'].apply(apply_lem)"
   ]
  },
  {
   "cell_type": "code",
   "execution_count": 88,
   "metadata": {
    "Collapsed": "false"
   },
   "outputs": [
    {
     "name": "stdout",
     "output_type": "stream",
     "text": [
      "ORIGINAL: \n",
      " Very dated, worn hotel. Our room was shabby and grubby and had an unpleasant smell, and the bed was really uncomfortable.   We had clearly disturbed the check in clerk’s chat with her friends when we arrived as she was very abrupt with us.   Some aspects of the room had obviously not been thought out -  The tea/coffee tray was not positioned anywhere near an electrical socket. The bedside shelves were the size of a postage stamp.  There were no drawers or shelves for folded clothes.  There was no towel rail in the bathroom.   Breakfast was quite poor with many items not replenished.   Hilton need to do better.   There are too many much better hotels in Croydon for me to ever want to stay here again. \n",
      "\n",
      "STEMMED: \n",
      " veri dated, worn hotel. our room wa shabbi and grubbi and had an unpleas smell, and the bed wa realli uncomfortable.   We had clearli disturb the check in clerk’ chat with her friend when we arriv as she wa veri abrupt with us.   some aspect of the room had obvious not been thought out -  the tea/coffe tray wa not posit anywher near an electr socket. the bedsid shelv were the size of a postag stamp.  there were no drawer or shelv for fold clothes.  there wa no towel rail in the bathroom.   breakfast wa quit poor with mani item not replenished.   hilton need to do better.   there are too mani much better hotel in croydon for me to ever want to stay here again.  \n",
      "\n",
      "LEMMED: \n",
      " Very dated, worn hotel. Our room wa shabby and grubby and had an unpleasant smell, and the bed wa really uncomfortable.   We had clearly disturbed the check in clerk’s chat with her friend when we arrived a she wa very abrupt with us.   Some aspect of the room had obviously not been thought out -  The tea/coffee tray wa not positioned anywhere near an electrical socket. The bedside shelf were the size of a postage stamp.  There were no drawer or shelf for folded clothes.  There wa no towel rail in the bathroom.   Breakfast wa quite poor with many item not replenished.   Hilton need to do better.   There are too many much better hotel in Croydon for me to ever want to stay here again.  \n",
      "\n"
     ]
    }
   ],
   "source": [
    "print(\"ORIGINAL:\",'\\n',df['review'].iloc[130],'\\n')\n",
    "print(\"STEMMED:\",'\\n',df['review_stemmed'].iloc[130],'\\n')\n",
    "print(\"LEMMED:\",'\\n',df['review_lemmed'].iloc[130],'\\n')"
   ]
  },
  {
   "cell_type": "code",
   "execution_count": 65,
   "metadata": {
    "Collapsed": "false"
   },
   "outputs": [
    {
     "data": {
      "text/html": [
       "<div>\n",
       "<style scoped>\n",
       "    .dataframe tbody tr th:only-of-type {\n",
       "        vertical-align: middle;\n",
       "    }\n",
       "\n",
       "    .dataframe tbody tr th {\n",
       "        vertical-align: top;\n",
       "    }\n",
       "\n",
       "    .dataframe thead th {\n",
       "        text-align: right;\n",
       "    }\n",
       "</style>\n",
       "<table border=\"1\" class=\"dataframe\">\n",
       "  <thead>\n",
       "    <tr style=\"text-align: right;\">\n",
       "      <th></th>\n",
       "      <th>hotel_name</th>\n",
       "      <th>review_summary</th>\n",
       "      <th>score</th>\n",
       "      <th>review</th>\n",
       "      <th>review_stemmed</th>\n",
       "      <th>review_lemmed</th>\n",
       "    </tr>\n",
       "  </thead>\n",
       "  <tbody>\n",
       "    <tr>\n",
       "      <td>0</td>\n",
       "      <td>Hotel Hilton London Gatwick Airport</td>\n",
       "      <td>Awful...</td>\n",
       "      <td>1</td>\n",
       "      <td>Its hard to find words that can describe this ...</td>\n",
       "      <td>it hard to find word that can describ thi expe...</td>\n",
       "      <td>Its hard to find word that can describe this e...</td>\n",
       "    </tr>\n",
       "    <tr>\n",
       "      <td>1</td>\n",
       "      <td>Hilton London Metropole</td>\n",
       "      <td>Terrible</td>\n",
       "      <td>1</td>\n",
       "      <td>Absolutely terrible. Cracked ceiling, tiny roo...</td>\n",
       "      <td>absolut terrible. crack ceiling, tini room, ba...</td>\n",
       "      <td>Absolutely terrible. Cracked ceiling, tiny roo...</td>\n",
       "    </tr>\n",
       "    <tr>\n",
       "      <td>2</td>\n",
       "      <td>Hilton London Euston</td>\n",
       "      <td>Double deposit taken from bank</td>\n",
       "      <td>1</td>\n",
       "      <td>Very disappointed firstly i checked in online ...</td>\n",
       "      <td>veri disappoint firstli i check in onlin but h...</td>\n",
       "      <td>Very disappointed firstly i checked in online ...</td>\n",
       "    </tr>\n",
       "    <tr>\n",
       "      <td>3</td>\n",
       "      <td>Hilton London Metropole</td>\n",
       "      <td>Super disappointed!</td>\n",
       "      <td>1</td>\n",
       "      <td>First of all we arrived wanting to park at the...</td>\n",
       "      <td>first of all we arriv want to park at the hote...</td>\n",
       "      <td>First of all we arrived wanting to park at the...</td>\n",
       "    </tr>\n",
       "    <tr>\n",
       "      <td>4</td>\n",
       "      <td>Hilton London Metropole</td>\n",
       "      <td>Dissatisfied Hilton gold number</td>\n",
       "      <td>1</td>\n",
       "      <td>Hello,  I currently staying @ Hilton Metropole...</td>\n",
       "      <td>hello,  I current stay @ hilton metropol in lo...</td>\n",
       "      <td>Hello,  I currently staying @ Hilton Metropole...</td>\n",
       "    </tr>\n",
       "  </tbody>\n",
       "</table>\n",
       "</div>"
      ],
      "text/plain": [
       "                            hotel_name                   review_summary  \\\n",
       "0  Hotel Hilton London Gatwick Airport                         Awful...   \n",
       "1              Hilton London Metropole                        Terrible    \n",
       "2                 Hilton London Euston   Double deposit taken from bank   \n",
       "3              Hilton London Metropole              Super disappointed!   \n",
       "4              Hilton London Metropole  Dissatisfied Hilton gold number   \n",
       "\n",
       "   score                                             review  \\\n",
       "0      1  Its hard to find words that can describe this ...   \n",
       "1      1  Absolutely terrible. Cracked ceiling, tiny roo...   \n",
       "2      1  Very disappointed firstly i checked in online ...   \n",
       "3      1  First of all we arrived wanting to park at the...   \n",
       "4      1  Hello,  I currently staying @ Hilton Metropole...   \n",
       "\n",
       "                                      review_stemmed  \\\n",
       "0  it hard to find word that can describ thi expe...   \n",
       "1  absolut terrible. crack ceiling, tini room, ba...   \n",
       "2  veri disappoint firstli i check in onlin but h...   \n",
       "3  first of all we arriv want to park at the hote...   \n",
       "4  hello,  I current stay @ hilton metropol in lo...   \n",
       "\n",
       "                                       review_lemmed  \n",
       "0  Its hard to find word that can describe this e...  \n",
       "1  Absolutely terrible. Cracked ceiling, tiny roo...  \n",
       "2  Very disappointed firstly i checked in online ...  \n",
       "3  First of all we arrived wanting to park at the...  \n",
       "4  Hello,  I currently staying @ Hilton Metropole...  "
      ]
     },
     "execution_count": 65,
     "metadata": {},
     "output_type": "execute_result"
    }
   ],
   "source": [
    "df.head()"
   ]
  },
  {
   "cell_type": "code",
   "execution_count": 69,
   "metadata": {
    "Collapsed": "false"
   },
   "outputs": [],
   "source": [
    "x_train, x_test, y_train, y_test = train_test_split(df.drop(columns=['hotel_name','score']), \n",
    "                                                    df['score'], \n",
    "                                                    test_size=.2, \n",
    "                                                    random_state=42)"
   ]
  },
  {
   "cell_type": "code",
   "execution_count": 73,
   "metadata": {
    "Collapsed": "false"
   },
   "outputs": [
    {
     "name": "stdout",
     "output_type": "stream",
     "text": [
      "(7524, 4)\n",
      "(1881, 4)\n",
      "(7524,)\n",
      "(1881,)\n"
     ]
    }
   ],
   "source": [
    "print(x_train.shape)\n",
    "print(x_test.shape)\n",
    "print(y_train.shape)\n",
    "print(y_test.shape)"
   ]
  },
  {
   "cell_type": "code",
   "execution_count": 72,
   "metadata": {
    "Collapsed": "false"
   },
   "outputs": [],
   "source": [
    "stop_words = set(stopwords.words(\"english\"))"
   ]
  },
  {
   "cell_type": "code",
   "execution_count": 83,
   "metadata": {
    "Collapsed": "false"
   },
   "outputs": [
    {
     "data": {
      "text/html": [
       "<div>\n",
       "<style scoped>\n",
       "    .dataframe tbody tr th:only-of-type {\n",
       "        vertical-align: middle;\n",
       "    }\n",
       "\n",
       "    .dataframe tbody tr th {\n",
       "        vertical-align: top;\n",
       "    }\n",
       "\n",
       "    .dataframe thead th {\n",
       "        text-align: right;\n",
       "    }\n",
       "</style>\n",
       "<table border=\"1\" class=\"dataframe\">\n",
       "  <thead>\n",
       "    <tr style=\"text-align: right;\">\n",
       "      <th></th>\n",
       "      <th>access</th>\n",
       "      <th>air</th>\n",
       "      <th>airport</th>\n",
       "      <th>also</th>\n",
       "      <th>although</th>\n",
       "      <th>always</th>\n",
       "      <th>another</th>\n",
       "      <th>area</th>\n",
       "      <th>around</th>\n",
       "      <th>arrival</th>\n",
       "      <th>...</th>\n",
       "      <th>used</th>\n",
       "      <th>walk</th>\n",
       "      <th>water</th>\n",
       "      <th>way</th>\n",
       "      <th>well</th>\n",
       "      <th>went</th>\n",
       "      <th>wifi</th>\n",
       "      <th>work</th>\n",
       "      <th>would</th>\n",
       "      <th>year</th>\n",
       "    </tr>\n",
       "  </thead>\n",
       "  <tbody>\n",
       "    <tr>\n",
       "      <td>0</td>\n",
       "      <td>0.0</td>\n",
       "      <td>0.0</td>\n",
       "      <td>0.000000</td>\n",
       "      <td>0.000000</td>\n",
       "      <td>0.000000</td>\n",
       "      <td>0.0</td>\n",
       "      <td>0.0</td>\n",
       "      <td>0.0</td>\n",
       "      <td>0.000000</td>\n",
       "      <td>0.0</td>\n",
       "      <td>...</td>\n",
       "      <td>0.000000</td>\n",
       "      <td>0.000000</td>\n",
       "      <td>0.0</td>\n",
       "      <td>0.0</td>\n",
       "      <td>0.000000</td>\n",
       "      <td>0.0</td>\n",
       "      <td>0.0</td>\n",
       "      <td>0.0</td>\n",
       "      <td>0.153671</td>\n",
       "      <td>0.0</td>\n",
       "    </tr>\n",
       "    <tr>\n",
       "      <td>1</td>\n",
       "      <td>0.0</td>\n",
       "      <td>0.0</td>\n",
       "      <td>0.000000</td>\n",
       "      <td>0.000000</td>\n",
       "      <td>0.000000</td>\n",
       "      <td>0.0</td>\n",
       "      <td>0.0</td>\n",
       "      <td>0.0</td>\n",
       "      <td>0.000000</td>\n",
       "      <td>0.0</td>\n",
       "      <td>...</td>\n",
       "      <td>0.000000</td>\n",
       "      <td>0.000000</td>\n",
       "      <td>0.0</td>\n",
       "      <td>0.0</td>\n",
       "      <td>0.000000</td>\n",
       "      <td>0.0</td>\n",
       "      <td>0.0</td>\n",
       "      <td>0.0</td>\n",
       "      <td>0.195528</td>\n",
       "      <td>0.0</td>\n",
       "    </tr>\n",
       "    <tr>\n",
       "      <td>2</td>\n",
       "      <td>0.0</td>\n",
       "      <td>0.0</td>\n",
       "      <td>0.151241</td>\n",
       "      <td>0.156362</td>\n",
       "      <td>0.197274</td>\n",
       "      <td>0.0</td>\n",
       "      <td>0.0</td>\n",
       "      <td>0.0</td>\n",
       "      <td>0.000000</td>\n",
       "      <td>0.0</td>\n",
       "      <td>...</td>\n",
       "      <td>0.000000</td>\n",
       "      <td>0.296721</td>\n",
       "      <td>0.0</td>\n",
       "      <td>0.0</td>\n",
       "      <td>0.148451</td>\n",
       "      <td>0.0</td>\n",
       "      <td>0.0</td>\n",
       "      <td>0.0</td>\n",
       "      <td>0.116267</td>\n",
       "      <td>0.0</td>\n",
       "    </tr>\n",
       "    <tr>\n",
       "      <td>3</td>\n",
       "      <td>0.0</td>\n",
       "      <td>0.0</td>\n",
       "      <td>0.159841</td>\n",
       "      <td>0.000000</td>\n",
       "      <td>0.000000</td>\n",
       "      <td>0.0</td>\n",
       "      <td>0.0</td>\n",
       "      <td>0.0</td>\n",
       "      <td>0.000000</td>\n",
       "      <td>0.0</td>\n",
       "      <td>...</td>\n",
       "      <td>0.000000</td>\n",
       "      <td>0.000000</td>\n",
       "      <td>0.0</td>\n",
       "      <td>0.0</td>\n",
       "      <td>0.000000</td>\n",
       "      <td>0.0</td>\n",
       "      <td>0.0</td>\n",
       "      <td>0.0</td>\n",
       "      <td>0.000000</td>\n",
       "      <td>0.0</td>\n",
       "    </tr>\n",
       "    <tr>\n",
       "      <td>4</td>\n",
       "      <td>0.0</td>\n",
       "      <td>0.0</td>\n",
       "      <td>0.000000</td>\n",
       "      <td>0.191877</td>\n",
       "      <td>0.000000</td>\n",
       "      <td>0.0</td>\n",
       "      <td>0.0</td>\n",
       "      <td>0.0</td>\n",
       "      <td>0.226493</td>\n",
       "      <td>0.0</td>\n",
       "      <td>...</td>\n",
       "      <td>0.246549</td>\n",
       "      <td>0.364115</td>\n",
       "      <td>0.0</td>\n",
       "      <td>0.0</td>\n",
       "      <td>0.000000</td>\n",
       "      <td>0.0</td>\n",
       "      <td>0.0</td>\n",
       "      <td>0.0</td>\n",
       "      <td>0.000000</td>\n",
       "      <td>0.0</td>\n",
       "    </tr>\n",
       "  </tbody>\n",
       "</table>\n",
       "<p>5 rows × 166 columns</p>\n",
       "</div>"
      ],
      "text/plain": [
       "   access  air   airport      also  although  always  another  area    around  \\\n",
       "0     0.0  0.0  0.000000  0.000000  0.000000     0.0      0.0   0.0  0.000000   \n",
       "1     0.0  0.0  0.000000  0.000000  0.000000     0.0      0.0   0.0  0.000000   \n",
       "2     0.0  0.0  0.151241  0.156362  0.197274     0.0      0.0   0.0  0.000000   \n",
       "3     0.0  0.0  0.159841  0.000000  0.000000     0.0      0.0   0.0  0.000000   \n",
       "4     0.0  0.0  0.000000  0.191877  0.000000     0.0      0.0   0.0  0.226493   \n",
       "\n",
       "   arrival  ...      used      walk  water  way      well  went  wifi  work  \\\n",
       "0      0.0  ...  0.000000  0.000000    0.0  0.0  0.000000   0.0   0.0   0.0   \n",
       "1      0.0  ...  0.000000  0.000000    0.0  0.0  0.000000   0.0   0.0   0.0   \n",
       "2      0.0  ...  0.000000  0.296721    0.0  0.0  0.148451   0.0   0.0   0.0   \n",
       "3      0.0  ...  0.000000  0.000000    0.0  0.0  0.000000   0.0   0.0   0.0   \n",
       "4      0.0  ...  0.246549  0.364115    0.0  0.0  0.000000   0.0   0.0   0.0   \n",
       "\n",
       "      would  year  \n",
       "0  0.153671   0.0  \n",
       "1  0.195528   0.0  \n",
       "2  0.116267   0.0  \n",
       "3  0.000000   0.0  \n",
       "4  0.000000   0.0  \n",
       "\n",
       "[5 rows x 166 columns]"
      ]
     },
     "execution_count": 83,
     "metadata": {},
     "output_type": "execute_result"
    }
   ],
   "source": [
    "tf_idf_vect = TfidfVectorizer(lowercase=True, tokenizer = tokenizer.tokenize, \n",
    "                              stop_words=stop_words, ngram_range=(1,3),\n",
    "                              min_df = 0.05)\n",
    " \n",
    "x_lemm_train_tfidf_sparse = tf_idf_vect.fit_transform(x_train['review_lemmed'])\n",
    "\n",
    "x_lemm_test_tfidf_sparse = tf_idf_vect.transform(x_test['review_lemmed'])\n",
    "\n",
    "\n",
    "x_lemm_train_tfidf = pd.DataFrame(x_lemm_train_tfidf_sparse.toarray(), \n",
    "                                  columns=tf_idf_vect.get_feature_names())\n",
    "\n",
    "x_lemm_test_tfidf = pd.DataFrame(x_lemm_test_tfidf_sparse.toarray(), \n",
    "                                  columns=tf_idf_vect.get_feature_names())\n",
    "\n",
    "\n",
    "x_lemm_train_tfidf.head()"
   ]
  },
  {
   "cell_type": "code",
   "execution_count": null,
   "metadata": {
    "Collapsed": "false"
   },
   "outputs": [],
   "source": [
    "COUNT VECTORIZER?"
   ]
  },
  {
   "cell_type": "code",
   "execution_count": 84,
   "metadata": {
    "Collapsed": "false"
   },
   "outputs": [
    {
     "name": "stdout",
     "output_type": "stream",
     "text": [
      "0 access\n",
      "1 air\n",
      "2 airport\n",
      "3 also\n",
      "4 although\n",
      "5 always\n",
      "6 another\n",
      "7 area\n",
      "8 around\n",
      "9 arrival\n",
      "10 arrived\n",
      "11 asked\n",
      "12 away\n",
      "13 back\n",
      "14 bad\n",
      "15 bar\n",
      "16 bathroom\n",
      "17 bed\n",
      "18 best\n",
      "19 better\n",
      "20 big\n",
      "21 bit\n",
      "22 booked\n",
      "23 booking\n",
      "24 breakfast\n",
      "25 buffet\n",
      "26 business\n",
      "27 busy\n",
      "28 car\n",
      "29 carpet\n",
      "30 check\n",
      "31 checked\n",
      "32 choice\n",
      "33 clean\n",
      "34 close\n",
      "35 comfortable\n",
      "36 convenient\n",
      "37 could\n",
      "38 dated\n",
      "39 day\n",
      "40 desk\n",
      "41 dirty\n",
      "42 door\n",
      "43 drink\n",
      "44 due\n",
      "45 early\n",
      "46 easy\n",
      "47 enough\n",
      "48 even\n",
      "49 evening\n",
      "50 everything\n",
      "51 excellent\n",
      "52 executive\n",
      "53 expect\n",
      "54 expensive\n",
      "55 experience\n",
      "56 family\n",
      "57 find\n",
      "58 first\n",
      "59 flight\n",
      "60 floor\n",
      "61 food\n",
      "62 found\n",
      "63 free\n",
      "64 friendly\n",
      "65 front\n",
      "66 gatwick\n",
      "67 get\n",
      "68 given\n",
      "69 going\n",
      "70 good\n",
      "71 got\n",
      "72 great\n",
      "73 guest\n",
      "74 helpful\n",
      "75 hilton\n",
      "76 holiday\n",
      "77 hotel\n",
      "78 hour\n",
      "79 however\n",
      "80 large\n",
      "81 last\n",
      "82 like\n",
      "83 little\n",
      "84 lobby\n",
      "85 location\n",
      "86 london\n",
      "87 long\n",
      "88 look\n",
      "89 lot\n",
      "90 lounge\n",
      "91 lovely\n",
      "92 made\n",
      "93 make\n",
      "94 many\n",
      "95 member\n",
      "96 minute\n",
      "97 money\n",
      "98 morning\n",
      "99 much\n",
      "100 need\n",
      "101 never\n",
      "102 new\n",
      "103 next\n",
      "104 nice\n",
      "105 night\n",
      "106 noise\n",
      "107 nothing\n",
      "108 old\n",
      "109 one\n",
      "110 one night\n",
      "111 overall\n",
      "112 paid\n",
      "113 park\n",
      "114 parking\n",
      "115 people\n",
      "116 place\n",
      "117 poor\n",
      "118 price\n",
      "119 problem\n",
      "120 quality\n",
      "121 quite\n",
      "122 really\n",
      "123 reception\n",
      "124 recommend\n",
      "125 restaurant\n",
      "126 room\n",
      "127 room clean\n",
      "128 rooms\n",
      "129 say\n",
      "130 service\n",
      "131 short\n",
      "132 shower\n",
      "133 size\n",
      "134 sleep\n",
      "135 small\n",
      "136 south\n",
      "137 south terminal\n",
      "138 spacious\n",
      "139 staff\n",
      "140 standard\n",
      "141 station\n",
      "142 stay\n",
      "143 stayed\n",
      "144 staying\n",
      "145 still\n",
      "146 take\n",
      "147 terminal\n",
      "148 thing\n",
      "149 though\n",
      "150 time\n",
      "151 tired\n",
      "152 told\n",
      "153 took\n",
      "154 two\n",
      "155 use\n",
      "156 used\n",
      "157 walk\n",
      "158 water\n",
      "159 way\n",
      "160 well\n",
      "161 went\n",
      "162 wifi\n",
      "163 work\n",
      "164 would\n",
      "165 year\n"
     ]
    }
   ],
   "source": [
    "for i, col in enumerate(x_lemm_train_tfidf.columns):\n",
    "    print(i, col)"
   ]
  },
  {
   "cell_type": "code",
   "execution_count": null,
   "metadata": {
    "Collapsed": "false"
   },
   "outputs": [],
   "source": []
  }
 ],
 "metadata": {
  "kernelspec": {
   "display_name": "Python 3",
   "language": "python",
   "name": "python3"
  },
  "language_info": {
   "codemirror_mode": {
    "name": "ipython",
    "version": 3
   },
   "file_extension": ".py",
   "mimetype": "text/x-python",
   "name": "python",
   "nbconvert_exporter": "python",
   "pygments_lexer": "ipython3",
   "version": "3.7.4"
  }
 },
 "nbformat": 4,
 "nbformat_minor": 4
}
