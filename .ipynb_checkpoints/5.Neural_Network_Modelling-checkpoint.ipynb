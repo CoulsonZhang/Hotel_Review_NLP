{
 "cells": [
  {
   "cell_type": "markdown",
   "metadata": {
    "Collapsed": "false"
   },
   "source": [
    "# 5. Neural Network Modelling"
   ]
  },
  {
   "cell_type": "markdown",
   "metadata": {
    "Collapsed": "false"
   },
   "source": [
    "## 5.1 Imports"
   ]
  },
  {
   "cell_type": "code",
   "execution_count": 1,
   "metadata": {
    "Collapsed": "false"
   },
   "outputs": [
    {
     "name": "stderr",
     "output_type": "stream",
     "text": [
      "Using TensorFlow backend.\n"
     ]
    }
   ],
   "source": [
    "import pandas as pd\n",
    "import numpy as np\n",
    "import seaborn as sns\n",
    "import matplotlib.pyplot as plt\n",
    "\n",
    "from sklearn.model_selection import train_test_split\n",
    "from sklearn.preprocessing import OneHotEncoder\n",
    "from sklearn.metrics import confusion_matrix\n",
    "\n",
    "from tensorflow import keras\n",
    "from keras.preprocessing import sequence\n",
    "from keras.models import Sequential\n",
    "from keras.layers import Dense, Embedding, GlobalAveragePooling1D\n",
    "\n",
    "import pickle\n",
    "\n",
    "from Helpers_NN import add_sum_suffix, text_cleanup, reverse_encode, add_one_argmax_score, conf_matrix"
   ]
  },
  {
   "cell_type": "code",
   "execution_count": 2,
   "metadata": {
    "Collapsed": "false"
   },
   "outputs": [],
   "source": [
    "sns.set_context('poster')"
   ]
  },
  {
   "cell_type": "code",
   "execution_count": 3,
   "metadata": {
    "Collapsed": "false"
   },
   "outputs": [],
   "source": [
    "df = pd.read_csv('Data/2.hotel_reviews_structured.csv')"
   ]
  },
  {
   "cell_type": "markdown",
   "metadata": {
    "Collapsed": "false"
   },
   "source": [
    "## 5.2 One Hot Encoding Scores Column"
   ]
  },
  {
   "cell_type": "code",
   "execution_count": 4,
   "metadata": {
    "Collapsed": "false"
   },
   "outputs": [
    {
     "data": {
      "text/html": [
       "<div>\n",
       "<style scoped>\n",
       "    .dataframe tbody tr th:only-of-type {\n",
       "        vertical-align: middle;\n",
       "    }\n",
       "\n",
       "    .dataframe tbody tr th {\n",
       "        vertical-align: top;\n",
       "    }\n",
       "\n",
       "    .dataframe thead th {\n",
       "        text-align: right;\n",
       "    }\n",
       "</style>\n",
       "<table border=\"1\" class=\"dataframe\">\n",
       "  <thead>\n",
       "    <tr style=\"text-align: right;\">\n",
       "      <th></th>\n",
       "      <th>hotel_name</th>\n",
       "      <th>review_summary</th>\n",
       "      <th>score</th>\n",
       "      <th>review</th>\n",
       "      <th>0</th>\n",
       "      <th>1</th>\n",
       "      <th>2</th>\n",
       "      <th>3</th>\n",
       "      <th>4</th>\n",
       "    </tr>\n",
       "  </thead>\n",
       "  <tbody>\n",
       "    <tr>\n",
       "      <td>0</td>\n",
       "      <td>Hotel Hilton London Gatwick Airport</td>\n",
       "      <td>Awful...</td>\n",
       "      <td>1</td>\n",
       "      <td>Its hard to find words that can describe this ...</td>\n",
       "      <td>1.0</td>\n",
       "      <td>0.0</td>\n",
       "      <td>0.0</td>\n",
       "      <td>0.0</td>\n",
       "      <td>0.0</td>\n",
       "    </tr>\n",
       "    <tr>\n",
       "      <td>1</td>\n",
       "      <td>Hilton London Metropole</td>\n",
       "      <td>Terrible</td>\n",
       "      <td>1</td>\n",
       "      <td>Absolutely terrible. Cracked ceiling, tiny roo...</td>\n",
       "      <td>1.0</td>\n",
       "      <td>0.0</td>\n",
       "      <td>0.0</td>\n",
       "      <td>0.0</td>\n",
       "      <td>0.0</td>\n",
       "    </tr>\n",
       "    <tr>\n",
       "      <td>2</td>\n",
       "      <td>Hilton London Euston</td>\n",
       "      <td>Double deposit taken from bank</td>\n",
       "      <td>1</td>\n",
       "      <td>Very disappointed firstly i checked in online ...</td>\n",
       "      <td>1.0</td>\n",
       "      <td>0.0</td>\n",
       "      <td>0.0</td>\n",
       "      <td>0.0</td>\n",
       "      <td>0.0</td>\n",
       "    </tr>\n",
       "    <tr>\n",
       "      <td>3</td>\n",
       "      <td>Hilton London Metropole</td>\n",
       "      <td>Super disappointed!</td>\n",
       "      <td>1</td>\n",
       "      <td>First of all we arrived wanting to park at the...</td>\n",
       "      <td>1.0</td>\n",
       "      <td>0.0</td>\n",
       "      <td>0.0</td>\n",
       "      <td>0.0</td>\n",
       "      <td>0.0</td>\n",
       "    </tr>\n",
       "    <tr>\n",
       "      <td>4</td>\n",
       "      <td>Hilton London Metropole</td>\n",
       "      <td>Dissatisfied Hilton gold number</td>\n",
       "      <td>1</td>\n",
       "      <td>Hello,  I currently staying @ Hilton Metropole...</td>\n",
       "      <td>1.0</td>\n",
       "      <td>0.0</td>\n",
       "      <td>0.0</td>\n",
       "      <td>0.0</td>\n",
       "      <td>0.0</td>\n",
       "    </tr>\n",
       "  </tbody>\n",
       "</table>\n",
       "</div>"
      ],
      "text/plain": [
       "                            hotel_name                   review_summary  \\\n",
       "0  Hotel Hilton London Gatwick Airport                         Awful...   \n",
       "1              Hilton London Metropole                        Terrible    \n",
       "2                 Hilton London Euston   Double deposit taken from bank   \n",
       "3              Hilton London Metropole              Super disappointed!   \n",
       "4              Hilton London Metropole  Dissatisfied Hilton gold number   \n",
       "\n",
       "   score                                             review    0    1    2  \\\n",
       "0      1  Its hard to find words that can describe this ...  1.0  0.0  0.0   \n",
       "1      1  Absolutely terrible. Cracked ceiling, tiny roo...  1.0  0.0  0.0   \n",
       "2      1  Very disappointed firstly i checked in online ...  1.0  0.0  0.0   \n",
       "3      1  First of all we arrived wanting to park at the...  1.0  0.0  0.0   \n",
       "4      1  Hello,  I currently staying @ Hilton Metropole...  1.0  0.0  0.0   \n",
       "\n",
       "     3    4  \n",
       "0  0.0  0.0  \n",
       "1  0.0  0.0  \n",
       "2  0.0  0.0  \n",
       "3  0.0  0.0  \n",
       "4  0.0  0.0  "
      ]
     },
     "execution_count": 4,
     "metadata": {},
     "output_type": "execute_result"
    }
   ],
   "source": [
    "enc = OneHotEncoder(handle_unknown='ignore')\n",
    "\n",
    "enc_df = pd.DataFrame(enc.fit_transform(df[['score']]).toarray())\n",
    "\n",
    "df = df.join(enc_df)\n",
    "df.head()"
   ]
  },
  {
   "cell_type": "code",
   "execution_count": 5,
   "metadata": {
    "Collapsed": "false"
   },
   "outputs": [],
   "source": [
    "df = df.rename(columns={0: \"score_1\", 1:'score_2',2:'score_3',3:'score_4',4:'score_5'})"
   ]
  },
  {
   "cell_type": "code",
   "execution_count": 6,
   "metadata": {
    "Collapsed": "false"
   },
   "outputs": [
    {
     "data": {
      "text/html": [
       "<div>\n",
       "<style scoped>\n",
       "    .dataframe tbody tr th:only-of-type {\n",
       "        vertical-align: middle;\n",
       "    }\n",
       "\n",
       "    .dataframe tbody tr th {\n",
       "        vertical-align: top;\n",
       "    }\n",
       "\n",
       "    .dataframe thead th {\n",
       "        text-align: right;\n",
       "    }\n",
       "</style>\n",
       "<table border=\"1\" class=\"dataframe\">\n",
       "  <thead>\n",
       "    <tr style=\"text-align: right;\">\n",
       "      <th></th>\n",
       "      <th>hotel_name</th>\n",
       "      <th>review_summary</th>\n",
       "      <th>score</th>\n",
       "      <th>review</th>\n",
       "      <th>score_1</th>\n",
       "      <th>score_2</th>\n",
       "      <th>score_3</th>\n",
       "      <th>score_4</th>\n",
       "      <th>score_5</th>\n",
       "    </tr>\n",
       "  </thead>\n",
       "  <tbody>\n",
       "    <tr>\n",
       "      <td>0</td>\n",
       "      <td>Hotel Hilton London Gatwick Airport</td>\n",
       "      <td>Awful...</td>\n",
       "      <td>1</td>\n",
       "      <td>Its hard to find words that can describe this ...</td>\n",
       "      <td>1.0</td>\n",
       "      <td>0.0</td>\n",
       "      <td>0.0</td>\n",
       "      <td>0.0</td>\n",
       "      <td>0.0</td>\n",
       "    </tr>\n",
       "    <tr>\n",
       "      <td>1</td>\n",
       "      <td>Hilton London Metropole</td>\n",
       "      <td>Terrible</td>\n",
       "      <td>1</td>\n",
       "      <td>Absolutely terrible. Cracked ceiling, tiny roo...</td>\n",
       "      <td>1.0</td>\n",
       "      <td>0.0</td>\n",
       "      <td>0.0</td>\n",
       "      <td>0.0</td>\n",
       "      <td>0.0</td>\n",
       "    </tr>\n",
       "    <tr>\n",
       "      <td>2</td>\n",
       "      <td>Hilton London Euston</td>\n",
       "      <td>Double deposit taken from bank</td>\n",
       "      <td>1</td>\n",
       "      <td>Very disappointed firstly i checked in online ...</td>\n",
       "      <td>1.0</td>\n",
       "      <td>0.0</td>\n",
       "      <td>0.0</td>\n",
       "      <td>0.0</td>\n",
       "      <td>0.0</td>\n",
       "    </tr>\n",
       "    <tr>\n",
       "      <td>3</td>\n",
       "      <td>Hilton London Metropole</td>\n",
       "      <td>Super disappointed!</td>\n",
       "      <td>1</td>\n",
       "      <td>First of all we arrived wanting to park at the...</td>\n",
       "      <td>1.0</td>\n",
       "      <td>0.0</td>\n",
       "      <td>0.0</td>\n",
       "      <td>0.0</td>\n",
       "      <td>0.0</td>\n",
       "    </tr>\n",
       "    <tr>\n",
       "      <td>4</td>\n",
       "      <td>Hilton London Metropole</td>\n",
       "      <td>Dissatisfied Hilton gold number</td>\n",
       "      <td>1</td>\n",
       "      <td>Hello,  I currently staying @ Hilton Metropole...</td>\n",
       "      <td>1.0</td>\n",
       "      <td>0.0</td>\n",
       "      <td>0.0</td>\n",
       "      <td>0.0</td>\n",
       "      <td>0.0</td>\n",
       "    </tr>\n",
       "  </tbody>\n",
       "</table>\n",
       "</div>"
      ],
      "text/plain": [
       "                            hotel_name                   review_summary  \\\n",
       "0  Hotel Hilton London Gatwick Airport                         Awful...   \n",
       "1              Hilton London Metropole                        Terrible    \n",
       "2                 Hilton London Euston   Double deposit taken from bank   \n",
       "3              Hilton London Metropole              Super disappointed!   \n",
       "4              Hilton London Metropole  Dissatisfied Hilton gold number   \n",
       "\n",
       "   score                                             review  score_1  score_2  \\\n",
       "0      1  Its hard to find words that can describe this ...      1.0      0.0   \n",
       "1      1  Absolutely terrible. Cracked ceiling, tiny roo...      1.0      0.0   \n",
       "2      1  Very disappointed firstly i checked in online ...      1.0      0.0   \n",
       "3      1  First of all we arrived wanting to park at the...      1.0      0.0   \n",
       "4      1  Hello,  I currently staying @ Hilton Metropole...      1.0      0.0   \n",
       "\n",
       "   score_3  score_4  score_5  \n",
       "0      0.0      0.0      0.0  \n",
       "1      0.0      0.0      0.0  \n",
       "2      0.0      0.0      0.0  \n",
       "3      0.0      0.0      0.0  \n",
       "4      0.0      0.0      0.0  "
      ]
     },
     "execution_count": 6,
     "metadata": {},
     "output_type": "execute_result"
    }
   ],
   "source": [
    "df.head()"
   ]
  },
  {
   "cell_type": "markdown",
   "metadata": {
    "Collapsed": "false"
   },
   "source": [
    "## 5.3 Train Test Split"
   ]
  },
  {
   "cell_type": "code",
   "execution_count": 7,
   "metadata": {
    "Collapsed": "false"
   },
   "outputs": [],
   "source": [
    "x_train, x_test, y_train, y_test = train_test_split(df[['review','review_summary']], \n",
    "                                                    df[['score_1','score_2','score_3','score_4','score_5']], \n",
    "                                                    test_size=.2, \n",
    "                                                    random_state=42)"
   ]
  },
  {
   "cell_type": "code",
   "execution_count": 8,
   "metadata": {
    "Collapsed": "false"
   },
   "outputs": [],
   "source": [
    "y_test.to_csv('Data/6.y_test_ohe.csv',index=False)"
   ]
  },
  {
   "cell_type": "markdown",
   "metadata": {
    "Collapsed": "false"
   },
   "source": [
    "## 5.4 Add Suffix to the Review Summary to Distinguish the Difference"
   ]
  },
  {
   "cell_type": "code",
   "execution_count": 9,
   "metadata": {
    "Collapsed": "false"
   },
   "outputs": [],
   "source": [
    "x_train['review_summary_suffixed'] = x_train['review_summary'].apply(add_sum_suffix)\n",
    "x_test['review_summary_suffixed'] = x_test['review_summary'].apply(add_sum_suffix)"
   ]
  },
  {
   "cell_type": "code",
   "execution_count": 10,
   "metadata": {
    "Collapsed": "false"
   },
   "outputs": [
    {
     "data": {
      "text/html": [
       "<div>\n",
       "<style scoped>\n",
       "    .dataframe tbody tr th:only-of-type {\n",
       "        vertical-align: middle;\n",
       "    }\n",
       "\n",
       "    .dataframe tbody tr th {\n",
       "        vertical-align: top;\n",
       "    }\n",
       "\n",
       "    .dataframe thead th {\n",
       "        text-align: right;\n",
       "    }\n",
       "</style>\n",
       "<table border=\"1\" class=\"dataframe\">\n",
       "  <thead>\n",
       "    <tr style=\"text-align: right;\">\n",
       "      <th></th>\n",
       "      <th>review</th>\n",
       "      <th>review_summary</th>\n",
       "      <th>review_summary_suffixed</th>\n",
       "    </tr>\n",
       "  </thead>\n",
       "  <tbody>\n",
       "    <tr>\n",
       "      <td>9048</td>\n",
       "      <td>From arrival at check in, where we had great s...</td>\n",
       "      <td>Excellent hotel</td>\n",
       "      <td>excellent_sum hotel_sum</td>\n",
       "    </tr>\n",
       "    <tr>\n",
       "      <td>1219</td>\n",
       "      <td>After 3 hours waiting for chosen room booked o...</td>\n",
       "      <td>Don't bother with online check-in</td>\n",
       "      <td>don_sum t_sum bother_sum with_sum online_sum c...</td>\n",
       "    </tr>\n",
       "    <tr>\n",
       "      <td>6901</td>\n",
       "      <td>The hotel is very well located five minutes wa...</td>\n",
       "      <td>Great location, cozy bar, good service</td>\n",
       "      <td>great_sum location_sum cozy_sum bar_sum good_s...</td>\n",
       "    </tr>\n",
       "    <tr>\n",
       "      <td>5466</td>\n",
       "      <td>We stayed here a total of 3 nights in April 20...</td>\n",
       "      <td>London base for land tour with Globus</td>\n",
       "      <td>london_sum base_sum for_sum land_sum tour_sum ...</td>\n",
       "    </tr>\n",
       "    <tr>\n",
       "      <td>6107</td>\n",
       "      <td>We recently stayed at Hilton Gatwick south ter...</td>\n",
       "      <td>Pre and post holiday stays</td>\n",
       "      <td>pre_sum and_sum post_sum holiday_sum stays_sum</td>\n",
       "    </tr>\n",
       "  </tbody>\n",
       "</table>\n",
       "</div>"
      ],
      "text/plain": [
       "                                                 review  \\\n",
       "9048  From arrival at check in, where we had great s...   \n",
       "1219  After 3 hours waiting for chosen room booked o...   \n",
       "6901  The hotel is very well located five minutes wa...   \n",
       "5466  We stayed here a total of 3 nights in April 20...   \n",
       "6107  We recently stayed at Hilton Gatwick south ter...   \n",
       "\n",
       "                              review_summary  \\\n",
       "9048                         Excellent hotel   \n",
       "1219       Don't bother with online check-in   \n",
       "6901  Great location, cozy bar, good service   \n",
       "5466   London base for land tour with Globus   \n",
       "6107              Pre and post holiday stays   \n",
       "\n",
       "                                review_summary_suffixed  \n",
       "9048                           excellent_sum hotel_sum   \n",
       "1219  don_sum t_sum bother_sum with_sum online_sum c...  \n",
       "6901  great_sum location_sum cozy_sum bar_sum good_s...  \n",
       "5466  london_sum base_sum for_sum land_sum tour_sum ...  \n",
       "6107    pre_sum and_sum post_sum holiday_sum stays_sum   "
      ]
     },
     "execution_count": 10,
     "metadata": {},
     "output_type": "execute_result"
    }
   ],
   "source": [
    "x_train.head()"
   ]
  },
  {
   "cell_type": "markdown",
   "metadata": {
    "Collapsed": "false"
   },
   "source": [
    "## 5.5 Removing Punctuation and Tokenizing Review Column"
   ]
  },
  {
   "cell_type": "code",
   "execution_count": 11,
   "metadata": {
    "Collapsed": "false"
   },
   "outputs": [],
   "source": [
    "x_train['review_cleaned'] = x_train['review'].apply(text_cleanup)\n",
    "x_test['review_cleaned'] = x_test['review'].apply(text_cleanup)"
   ]
  },
  {
   "cell_type": "code",
   "execution_count": 12,
   "metadata": {
    "Collapsed": "false"
   },
   "outputs": [
    {
     "data": {
      "text/html": [
       "<div>\n",
       "<style scoped>\n",
       "    .dataframe tbody tr th:only-of-type {\n",
       "        vertical-align: middle;\n",
       "    }\n",
       "\n",
       "    .dataframe tbody tr th {\n",
       "        vertical-align: top;\n",
       "    }\n",
       "\n",
       "    .dataframe thead th {\n",
       "        text-align: right;\n",
       "    }\n",
       "</style>\n",
       "<table border=\"1\" class=\"dataframe\">\n",
       "  <thead>\n",
       "    <tr style=\"text-align: right;\">\n",
       "      <th></th>\n",
       "      <th>review</th>\n",
       "      <th>review_summary</th>\n",
       "      <th>review_summary_suffixed</th>\n",
       "      <th>review_cleaned</th>\n",
       "    </tr>\n",
       "  </thead>\n",
       "  <tbody>\n",
       "    <tr>\n",
       "      <td>9048</td>\n",
       "      <td>From arrival at check in, where we had great s...</td>\n",
       "      <td>Excellent hotel</td>\n",
       "      <td>excellent_sum hotel_sum</td>\n",
       "      <td>from arrival at check in where we had great se...</td>\n",
       "    </tr>\n",
       "    <tr>\n",
       "      <td>1219</td>\n",
       "      <td>After 3 hours waiting for chosen room booked o...</td>\n",
       "      <td>Don't bother with online check-in</td>\n",
       "      <td>don_sum t_sum bother_sum with_sum online_sum c...</td>\n",
       "      <td>after hours waiting for chosen room booked onl...</td>\n",
       "    </tr>\n",
       "    <tr>\n",
       "      <td>6901</td>\n",
       "      <td>The hotel is very well located five minutes wa...</td>\n",
       "      <td>Great location, cozy bar, good service</td>\n",
       "      <td>great_sum location_sum cozy_sum bar_sum good_s...</td>\n",
       "      <td>the hotel is very well located five minutes wa...</td>\n",
       "    </tr>\n",
       "    <tr>\n",
       "      <td>5466</td>\n",
       "      <td>We stayed here a total of 3 nights in April 20...</td>\n",
       "      <td>London base for land tour with Globus</td>\n",
       "      <td>london_sum base_sum for_sum land_sum tour_sum ...</td>\n",
       "      <td>we stayed here a total of nights in april the ...</td>\n",
       "    </tr>\n",
       "    <tr>\n",
       "      <td>6107</td>\n",
       "      <td>We recently stayed at Hilton Gatwick south ter...</td>\n",
       "      <td>Pre and post holiday stays</td>\n",
       "      <td>pre_sum and_sum post_sum holiday_sum stays_sum</td>\n",
       "      <td>we recently stayed at hilton gatwick south ter...</td>\n",
       "    </tr>\n",
       "  </tbody>\n",
       "</table>\n",
       "</div>"
      ],
      "text/plain": [
       "                                                 review  \\\n",
       "9048  From arrival at check in, where we had great s...   \n",
       "1219  After 3 hours waiting for chosen room booked o...   \n",
       "6901  The hotel is very well located five minutes wa...   \n",
       "5466  We stayed here a total of 3 nights in April 20...   \n",
       "6107  We recently stayed at Hilton Gatwick south ter...   \n",
       "\n",
       "                              review_summary  \\\n",
       "9048                         Excellent hotel   \n",
       "1219       Don't bother with online check-in   \n",
       "6901  Great location, cozy bar, good service   \n",
       "5466   London base for land tour with Globus   \n",
       "6107              Pre and post holiday stays   \n",
       "\n",
       "                                review_summary_suffixed  \\\n",
       "9048                           excellent_sum hotel_sum    \n",
       "1219  don_sum t_sum bother_sum with_sum online_sum c...   \n",
       "6901  great_sum location_sum cozy_sum bar_sum good_s...   \n",
       "5466  london_sum base_sum for_sum land_sum tour_sum ...   \n",
       "6107    pre_sum and_sum post_sum holiday_sum stays_sum    \n",
       "\n",
       "                                         review_cleaned  \n",
       "9048  from arrival at check in where we had great se...  \n",
       "1219  after hours waiting for chosen room booked onl...  \n",
       "6901  the hotel is very well located five minutes wa...  \n",
       "5466  we stayed here a total of nights in april the ...  \n",
       "6107  we recently stayed at hilton gatwick south ter...  "
      ]
     },
     "execution_count": 12,
     "metadata": {},
     "output_type": "execute_result"
    }
   ],
   "source": [
    "x_train.head()"
   ]
  },
  {
   "cell_type": "markdown",
   "metadata": {
    "Collapsed": "false"
   },
   "source": [
    "## 5.6 Creating a Dictionary With Words That Appear in Reviews and an Index"
   ]
  },
  {
   "cell_type": "code",
   "execution_count": 13,
   "metadata": {
    "Collapsed": "false"
   },
   "outputs": [],
   "source": [
    "flat_review = \" \".join(x_train['review_cleaned'].values)\n",
    "flat_review = flat_review.lower().split()"
   ]
  },
  {
   "cell_type": "code",
   "execution_count": 14,
   "metadata": {
    "Collapsed": "false"
   },
   "outputs": [
    {
     "data": {
      "text/plain": [
       "733061"
      ]
     },
     "execution_count": 14,
     "metadata": {},
     "output_type": "execute_result"
    }
   ],
   "source": [
    "len(flat_review)"
   ]
  },
  {
   "cell_type": "code",
   "execution_count": 15,
   "metadata": {
    "Collapsed": "false"
   },
   "outputs": [],
   "source": [
    "flat_review_summary = \" \".join(x_train['review_summary_suffixed'].values)\n",
    "flat_review_summary = flat_review_summary.lower().split()"
   ]
  },
  {
   "cell_type": "code",
   "execution_count": 16,
   "metadata": {
    "Collapsed": "false"
   },
   "outputs": [],
   "source": [
    "unique_list = []\n",
    "for word in flat_review:\n",
    "    if word not in unique_list:\n",
    "        unique_list.append(word)\n",
    "for word in flat_review_summary:\n",
    "    if word not in unique_list:\n",
    "        unique_list.append(word)"
   ]
  },
  {
   "cell_type": "code",
   "execution_count": 17,
   "metadata": {
    "Collapsed": "false"
   },
   "outputs": [
    {
     "data": {
      "text/plain": [
       "17313"
      ]
     },
     "execution_count": 17,
     "metadata": {},
     "output_type": "execute_result"
    }
   ],
   "source": [
    "len(unique_list)"
   ]
  },
  {
   "cell_type": "code",
   "execution_count": 18,
   "metadata": {
    "Collapsed": "false"
   },
   "outputs": [],
   "source": [
    "word_index_dict = {}\n",
    "for i in range(0,len(unique_list)):\n",
    "    word_index_dict[unique_list[i]] = i\n",
    "    "
   ]
  },
  {
   "cell_type": "code",
   "execution_count": 19,
   "metadata": {
    "Collapsed": "false"
   },
   "outputs": [],
   "source": [
    "word_index_dict = {k:(v+4) for k,v in word_index_dict.items()}\n",
    "word_index_dict['<PAD>'] = 0\n",
    "word_index_dict['<START>'] = 1\n",
    "word_index_dict['<UNK>'] = 2\n",
    "word_index_dict['<UNUSED>'] = 3"
   ]
  },
  {
   "cell_type": "markdown",
   "metadata": {
    "Collapsed": "false"
   },
   "source": [
    "## 5.7 Indexing Words in Reviews Using Dictionary"
   ]
  },
  {
   "cell_type": "code",
   "execution_count": 20,
   "metadata": {
    "Collapsed": "false"
   },
   "outputs": [],
   "source": [
    "def index_review_words(text):\n",
    "    review_word_list = []\n",
    "    for word in text.lower().split():\n",
    "        if word in word_index_dict.keys():\n",
    "            review_word_list.append(word_index_dict[word])\n",
    "        else:\n",
    "            review_word_list.append(word_index_dict['<UNK>'])\n",
    "\n",
    "    return review_word_list "
   ]
  },
  {
   "cell_type": "code",
   "execution_count": 21,
   "metadata": {
    "Collapsed": "false"
   },
   "outputs": [],
   "source": [
    "x_train['preprocessed_review'] = x_train['review_cleaned'].apply(index_review_words)\n",
    "x_test['preprocessed_review'] = x_test['review_cleaned'].apply(index_review_words)"
   ]
  },
  {
   "cell_type": "code",
   "execution_count": 22,
   "metadata": {
    "Collapsed": "false"
   },
   "outputs": [],
   "source": [
    "x_train['preprocessed_review_summary'] = x_train['review_summary_suffixed'].apply(index_review_words)\n",
    "x_test['preprocessed_review_summary'] = x_test['review_summary_suffixed'].apply(index_review_words)"
   ]
  },
  {
   "cell_type": "code",
   "execution_count": 23,
   "metadata": {
    "Collapsed": "false"
   },
   "outputs": [
    {
     "data": {
      "text/html": [
       "<div>\n",
       "<style scoped>\n",
       "    .dataframe tbody tr th:only-of-type {\n",
       "        vertical-align: middle;\n",
       "    }\n",
       "\n",
       "    .dataframe tbody tr th {\n",
       "        vertical-align: top;\n",
       "    }\n",
       "\n",
       "    .dataframe thead th {\n",
       "        text-align: right;\n",
       "    }\n",
       "</style>\n",
       "<table border=\"1\" class=\"dataframe\">\n",
       "  <thead>\n",
       "    <tr style=\"text-align: right;\">\n",
       "      <th></th>\n",
       "      <th>review</th>\n",
       "      <th>review_summary</th>\n",
       "      <th>review_summary_suffixed</th>\n",
       "      <th>review_cleaned</th>\n",
       "      <th>preprocessed_review</th>\n",
       "      <th>preprocessed_review_summary</th>\n",
       "    </tr>\n",
       "  </thead>\n",
       "  <tbody>\n",
       "    <tr>\n",
       "      <td>9048</td>\n",
       "      <td>From arrival at check in, where we had great s...</td>\n",
       "      <td>Excellent hotel</td>\n",
       "      <td>excellent_sum hotel_sum</td>\n",
       "      <td>from arrival at check in where we had great se...</td>\n",
       "      <td>[4, 5, 6, 7, 8, 9, 10, 11, 12, 13, 14, 15, 16,...</td>\n",
       "      <td>[14416, 14417]</td>\n",
       "    </tr>\n",
       "    <tr>\n",
       "      <td>1219</td>\n",
       "      <td>After 3 hours waiting for chosen room booked o...</td>\n",
       "      <td>Don't bother with online check-in</td>\n",
       "      <td>don_sum t_sum bother_sum with_sum online_sum c...</td>\n",
       "      <td>after hours waiting for chosen room booked onl...</td>\n",
       "      <td>[61, 62, 63, 64, 65, 42, 66, 67, 68, 69, 39, 7...</td>\n",
       "      <td>[14418, 14419, 14420, 14421, 14422, 14423, 14424]</td>\n",
       "    </tr>\n",
       "    <tr>\n",
       "      <td>6901</td>\n",
       "      <td>The hotel is very well located five minutes wa...</td>\n",
       "      <td>Great location, cozy bar, good service</td>\n",
       "      <td>great_sum location_sum cozy_sum bar_sum good_s...</td>\n",
       "      <td>the hotel is very well located five minutes wa...</td>\n",
       "      <td>[33, 60, 111, 19, 112, 113, 114, 115, 116, 4, ...</td>\n",
       "      <td>[14425, 14426, 14427, 14428, 14429, 14430]</td>\n",
       "    </tr>\n",
       "    <tr>\n",
       "      <td>5466</td>\n",
       "      <td>We stayed here a total of 3 nights in April 20...</td>\n",
       "      <td>London base for land tour with Globus</td>\n",
       "      <td>london_sum base_sum for_sum land_sum tour_sum ...</td>\n",
       "      <td>we stayed here a total of nights in april the ...</td>\n",
       "      <td>[10, 144, 145, 22, 146, 25, 147, 8, 148, 33, 7...</td>\n",
       "      <td>[14431, 14432, 14433, 14434, 14435, 14421, 14436]</td>\n",
       "    </tr>\n",
       "    <tr>\n",
       "      <td>6107</td>\n",
       "      <td>We recently stayed at Hilton Gatwick south ter...</td>\n",
       "      <td>Pre and post holiday stays</td>\n",
       "      <td>pre_sum and_sum post_sum holiday_sum stays_sum</td>\n",
       "      <td>we recently stayed at hilton gatwick south ter...</td>\n",
       "      <td>[10, 172, 144, 6, 173, 174, 175, 176, 33, 49, ...</td>\n",
       "      <td>[14437, 14438, 14439, 14440, 14441]</td>\n",
       "    </tr>\n",
       "  </tbody>\n",
       "</table>\n",
       "</div>"
      ],
      "text/plain": [
       "                                                 review  \\\n",
       "9048  From arrival at check in, where we had great s...   \n",
       "1219  After 3 hours waiting for chosen room booked o...   \n",
       "6901  The hotel is very well located five minutes wa...   \n",
       "5466  We stayed here a total of 3 nights in April 20...   \n",
       "6107  We recently stayed at Hilton Gatwick south ter...   \n",
       "\n",
       "                              review_summary  \\\n",
       "9048                         Excellent hotel   \n",
       "1219       Don't bother with online check-in   \n",
       "6901  Great location, cozy bar, good service   \n",
       "5466   London base for land tour with Globus   \n",
       "6107              Pre and post holiday stays   \n",
       "\n",
       "                                review_summary_suffixed  \\\n",
       "9048                           excellent_sum hotel_sum    \n",
       "1219  don_sum t_sum bother_sum with_sum online_sum c...   \n",
       "6901  great_sum location_sum cozy_sum bar_sum good_s...   \n",
       "5466  london_sum base_sum for_sum land_sum tour_sum ...   \n",
       "6107    pre_sum and_sum post_sum holiday_sum stays_sum    \n",
       "\n",
       "                                         review_cleaned  \\\n",
       "9048  from arrival at check in where we had great se...   \n",
       "1219  after hours waiting for chosen room booked onl...   \n",
       "6901  the hotel is very well located five minutes wa...   \n",
       "5466  we stayed here a total of nights in april the ...   \n",
       "6107  we recently stayed at hilton gatwick south ter...   \n",
       "\n",
       "                                    preprocessed_review  \\\n",
       "9048  [4, 5, 6, 7, 8, 9, 10, 11, 12, 13, 14, 15, 16,...   \n",
       "1219  [61, 62, 63, 64, 65, 42, 66, 67, 68, 69, 39, 7...   \n",
       "6901  [33, 60, 111, 19, 112, 113, 114, 115, 116, 4, ...   \n",
       "5466  [10, 144, 145, 22, 146, 25, 147, 8, 148, 33, 7...   \n",
       "6107  [10, 172, 144, 6, 173, 174, 175, 176, 33, 49, ...   \n",
       "\n",
       "                            preprocessed_review_summary  \n",
       "9048                                     [14416, 14417]  \n",
       "1219  [14418, 14419, 14420, 14421, 14422, 14423, 14424]  \n",
       "6901         [14425, 14426, 14427, 14428, 14429, 14430]  \n",
       "5466  [14431, 14432, 14433, 14434, 14435, 14421, 14436]  \n",
       "6107                [14437, 14438, 14439, 14440, 14441]  "
      ]
     },
     "execution_count": 23,
     "metadata": {},
     "output_type": "execute_result"
    }
   ],
   "source": [
    "x_train.head()"
   ]
  },
  {
   "cell_type": "markdown",
   "metadata": {
    "Collapsed": "false"
   },
   "source": [
    "## 5.8 Combining Indexed Review Summary and Indexed Review Into a Single Column Called All Preprocessed Review"
   ]
  },
  {
   "cell_type": "code",
   "execution_count": 24,
   "metadata": {
    "Collapsed": "false"
   },
   "outputs": [],
   "source": [
    "x_train['all_preprocessed_review'] = x_train['preprocessed_review'] + x_train['preprocessed_review_summary']\n",
    "x_test['all_preprocessed_review'] = x_test['preprocessed_review'] + x_test['preprocessed_review_summary']"
   ]
  },
  {
   "cell_type": "markdown",
   "metadata": {
    "Collapsed": "false"
   },
   "source": [
    "## 5.9 Modelling"
   ]
  },
  {
   "cell_type": "markdown",
   "metadata": {
    "Collapsed": "false"
   },
   "source": [
    "### 5.9.1 Add Padding to Reviews and Capping Reviews to Length 250 Words"
   ]
  },
  {
   "cell_type": "code",
   "execution_count": 25,
   "metadata": {
    "Collapsed": "false"
   },
   "outputs": [],
   "source": [
    "x_train = sequence.pad_sequences(x_train['all_preprocessed_review'],value=word_index_dict['<PAD>'],padding='post',maxlen=250)\n",
    "x_test = sequence.pad_sequences(x_test['all_preprocessed_review'],value=word_index_dict['<PAD>'],padding='post',maxlen=250)"
   ]
  },
  {
   "cell_type": "markdown",
   "metadata": {
    "Collapsed": "false"
   },
   "source": [
    "### 5.9.2 Saving Neural Network Preprocessed x Data"
   ]
  },
  {
   "cell_type": "code",
   "execution_count": 26,
   "metadata": {
    "Collapsed": "false"
   },
   "outputs": [],
   "source": [
    "np.save('Data/6.x_test',x_test)"
   ]
  },
  {
   "cell_type": "markdown",
   "metadata": {
    "Collapsed": "false"
   },
   "source": [
    "### 5.9.3 Creating and Training Neural Network Model"
   ]
  },
  {
   "cell_type": "code",
   "execution_count": 27,
   "metadata": {
    "Collapsed": "false"
   },
   "outputs": [],
   "source": [
    "model = Sequential()\n",
    "model.add(Embedding(17317,16))\n",
    "model.add(GlobalAveragePooling1D())\n",
    "model.add(Dense(16,activation='relu'))\n",
    "model.add(Dense(5,activation='sigmoid'))"
   ]
  },
  {
   "cell_type": "code",
   "execution_count": 28,
   "metadata": {
    "Collapsed": "false"
   },
   "outputs": [],
   "source": [
    "model.compile(optimizer='adam',loss='categorical_crossentropy',metrics=['accuracy'])"
   ]
  },
  {
   "cell_type": "code",
   "execution_count": 29,
   "metadata": {
    "Collapsed": "false"
   },
   "outputs": [],
   "source": [
    "x_train, x_val, y_train, y_val = train_test_split(x_train,y_train,test_size=.2,random_state=42)"
   ]
  },
  {
   "cell_type": "code",
   "execution_count": 30,
   "metadata": {
    "Collapsed": "false"
   },
   "outputs": [
    {
     "name": "stderr",
     "output_type": "stream",
     "text": [
      "C:\\Users\\candy\\Anaconda3\\lib\\site-packages\\tensorflow_core\\python\\framework\\indexed_slices.py:433: UserWarning: Converting sparse IndexedSlices to a dense Tensor of unknown shape. This may consume a large amount of memory.\n",
      "  \"Converting sparse IndexedSlices to a dense Tensor of unknown shape. \"\n"
     ]
    }
   ],
   "source": [
    "fitModel = model.fit(x_train,y_train,epochs=60,batch_size=250,validation_data=(x_val,y_val),verbose=0)"
   ]
  },
  {
   "cell_type": "markdown",
   "metadata": {
    "Collapsed": "false"
   },
   "source": [
    "## 5.10 Testing Model"
   ]
  },
  {
   "cell_type": "code",
   "execution_count": 31,
   "metadata": {
    "Collapsed": "false"
   },
   "outputs": [
    {
     "name": "stdout",
     "output_type": "stream",
     "text": [
      "1505/1505 [==============================] - 0s 11us/step\n"
     ]
    },
    {
     "data": {
      "text/plain": [
       "[1.003471023458183, 0.5568106174468994]"
      ]
     },
     "execution_count": 31,
     "metadata": {},
     "output_type": "execute_result"
    }
   ],
   "source": [
    "model.evaluate(x_val,y_val)"
   ]
  },
  {
   "cell_type": "code",
   "execution_count": 32,
   "metadata": {
    "Collapsed": "false"
   },
   "outputs": [
    {
     "name": "stdout",
     "output_type": "stream",
     "text": [
      "1881/1881 [==============================] - 0s 11us/step\n"
     ]
    },
    {
     "data": {
      "text/plain": [
       "[0.9799792462368712, 0.5709728598594666]"
      ]
     },
     "execution_count": 32,
     "metadata": {},
     "output_type": "execute_result"
    }
   ],
   "source": [
    "model.evaluate(x_test,y_test)"
   ]
  },
  {
   "cell_type": "markdown",
   "metadata": {
    "Collapsed": "false"
   },
   "source": [
    "## 5.11 Test Confusion Matrix"
   ]
  },
  {
   "cell_type": "markdown",
   "metadata": {
    "Collapsed": "false"
   },
   "source": [
    "## 5.11.1 Reverse Encode Target Into One Column for Confusion Matrix"
   ]
  },
  {
   "cell_type": "code",
   "execution_count": 33,
   "metadata": {
    "Collapsed": "false"
   },
   "outputs": [],
   "source": [
    "reverse_encode(y_test)"
   ]
  },
  {
   "cell_type": "code",
   "execution_count": 34,
   "metadata": {
    "Collapsed": "false"
   },
   "outputs": [],
   "source": [
    "reverse_encode(y_val)"
   ]
  },
  {
   "cell_type": "code",
   "execution_count": 35,
   "metadata": {
    "Collapsed": "false"
   },
   "outputs": [],
   "source": [
    "y_test_predicted = add_one_argmax_score(np.argmax(model.predict(x_test),axis=1))"
   ]
  },
  {
   "cell_type": "markdown",
   "metadata": {
    "Collapsed": "false"
   },
   "source": [
    "### 5.11.2 Saving Neural Network Preprocessed y Data"
   ]
  },
  {
   "cell_type": "code",
   "execution_count": 36,
   "metadata": {
    "Collapsed": "false"
   },
   "outputs": [],
   "source": [
    "y_test.to_csv('Data/6.y_test_nn_df.csv',index=False)\n",
    "np.save('Data/6.y_test_predicted_array',y_test_predicted)"
   ]
  },
  {
   "cell_type": "markdown",
   "metadata": {
    "Collapsed": "false"
   },
   "source": [
    "### 5.11.3 Creating Confusion Matrix for Test Data"
   ]
  },
  {
   "cell_type": "code",
   "execution_count": 37,
   "metadata": {
    "Collapsed": "false"
   },
   "outputs": [
    {
     "data": {
      "image/png": "[encoded data removed]",
      "text/plain": [
       "<Figure size 648x648 with 1 Axes>"
      ]
     },
     "metadata": {
      "needs_background": "light"
     },
     "output_type": "display_data"
    }
   ],
   "source": [
    "test_cm = confusion_matrix(y_test['score'], y_test_predicted)\n",
    "conf_matrix(test_cm)"
   ]
  },
  {
   "cell_type": "markdown",
   "metadata": {
    "Collapsed": "false"
   },
   "source": [
    "## 5.12 Saving Model With Pickle"
   ]
  },
  {
   "cell_type": "code",
   "execution_count": 38,
   "metadata": {
    "Collapsed": "false"
   },
   "outputs": [],
   "source": [
    "pickle.dump(model, open('Models/Neural_Network.pkl', 'wb'))"
   ]
  }
 ],
 "metadata": {
  "kernelspec": {
   "display_name": "Python 3",
   "language": "python",
   "name": "python3"
  },
  "language_info": {
   "codemirror_mode": {
    "name": "ipython",
    "version": 3
   },
   "file_extension": ".py",
   "mimetype": "text/x-python",
   "name": "python",
   "nbconvert_exporter": "python",
   "pygments_lexer": "ipython3",
   "version": "3.7.4"
  }
 },
 "nbformat": 4,
 "nbformat_minor": 4
}
