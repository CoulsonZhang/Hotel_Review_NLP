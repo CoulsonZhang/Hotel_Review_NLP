{
 "cells": [
  {
   "cell_type": "markdown",
   "metadata": {
    "Collapsed": "false"
   },
   "source": [
    "# 5. Deep Learning Approach"
   ]
  },
  {
   "cell_type": "markdown",
   "metadata": {
    "Collapsed": "false"
   },
   "source": [
    "## 5.1 Imports"
   ]
  },
  {
   "cell_type": "code",
   "execution_count": 1,
   "metadata": {
    "Collapsed": "false"
   },
   "outputs": [
    {
     "name": "stderr",
     "output_type": "stream",
     "text": [
      "Using TensorFlow backend.\n",
      "C:\\Users\\candy\\Anaconda3\\lib\\site-packages\\sklearn\\utils\\deprecation.py:144: FutureWarning: The sklearn.metrics.classification module is  deprecated in version 0.22 and will be removed in version 0.24. The corresponding classes / functions should instead be imported from sklearn.metrics. Anything that cannot be imported from sklearn.metrics is now part of the private API.\n",
      "  warnings.warn(message, FutureWarning)\n"
     ]
    }
   ],
   "source": [
    "import pandas as pd\n",
    "import numpy as np\n",
    "import seaborn as sns\n",
    "import matplotlib.pyplot as plt\n",
    "\n",
    "from sklearn.model_selection import train_test_split, StratifiedKFold\n",
    "from sklearn.preprocessing import OneHotEncoder\n",
    "from sklearn.metrics import confusion_matrix\n",
    "\n",
    "from tensorflow import keras\n",
    "from keras.preprocessing import text, sequence\n",
    "from keras.models import Sequential\n",
    "from keras.layers import Dense, Dropout, Activation, Embedding, LSTM, Conv1D, Flatten, MaxPooling1D, GlobalAveragePooling1D\n",
    "\n",
    "from nltk.tokenize import RegexpTokenizer"
   ]
  },
  {
   "cell_type": "code",
   "execution_count": null,
   "metadata": {
    "Collapsed": "false"
   },
   "outputs": [],
   "source": [
    "sns.set_context('poster')"
   ]
  },
  {
   "cell_type": "code",
   "execution_count": 2,
   "metadata": {
    "Collapsed": "false"
   },
   "outputs": [],
   "source": [
    "df = pd.read_csv('Data/2.hotel_reviews_structured.csv')"
   ]
  },
  {
   "cell_type": "markdown",
   "metadata": {
    "Collapsed": "false"
   },
   "source": [
    "## 5.2 One Hot Encoding Scores Column"
   ]
  },
  {
   "cell_type": "code",
   "execution_count": 4,
   "metadata": {
    "Collapsed": "false"
   },
   "outputs": [
    {
     "data": {
      "text/html": [
       "<div>\n",
       "<style scoped>\n",
       "    .dataframe tbody tr th:only-of-type {\n",
       "        vertical-align: middle;\n",
       "    }\n",
       "\n",
       "    .dataframe tbody tr th {\n",
       "        vertical-align: top;\n",
       "    }\n",
       "\n",
       "    .dataframe thead th {\n",
       "        text-align: right;\n",
       "    }\n",
       "</style>\n",
       "<table border=\"1\" class=\"dataframe\">\n",
       "  <thead>\n",
       "    <tr style=\"text-align: right;\">\n",
       "      <th></th>\n",
       "      <th>hotel_name</th>\n",
       "      <th>review_summary</th>\n",
       "      <th>score</th>\n",
       "      <th>review</th>\n",
       "      <th>0</th>\n",
       "      <th>1</th>\n",
       "      <th>2</th>\n",
       "      <th>3</th>\n",
       "      <th>4</th>\n",
       "    </tr>\n",
       "  </thead>\n",
       "  <tbody>\n",
       "    <tr>\n",
       "      <td>0</td>\n",
       "      <td>Hotel Hilton London Gatwick Airport</td>\n",
       "      <td>Awful...</td>\n",
       "      <td>1</td>\n",
       "      <td>Its hard to find words that can describe this ...</td>\n",
       "      <td>1.0</td>\n",
       "      <td>0.0</td>\n",
       "      <td>0.0</td>\n",
       "      <td>0.0</td>\n",
       "      <td>0.0</td>\n",
       "    </tr>\n",
       "    <tr>\n",
       "      <td>1</td>\n",
       "      <td>Hilton London Metropole</td>\n",
       "      <td>Terrible</td>\n",
       "      <td>1</td>\n",
       "      <td>Absolutely terrible. Cracked ceiling, tiny roo...</td>\n",
       "      <td>1.0</td>\n",
       "      <td>0.0</td>\n",
       "      <td>0.0</td>\n",
       "      <td>0.0</td>\n",
       "      <td>0.0</td>\n",
       "    </tr>\n",
       "    <tr>\n",
       "      <td>2</td>\n",
       "      <td>Hilton London Euston</td>\n",
       "      <td>Double deposit taken from bank</td>\n",
       "      <td>1</td>\n",
       "      <td>Very disappointed firstly i checked in online ...</td>\n",
       "      <td>1.0</td>\n",
       "      <td>0.0</td>\n",
       "      <td>0.0</td>\n",
       "      <td>0.0</td>\n",
       "      <td>0.0</td>\n",
       "    </tr>\n",
       "    <tr>\n",
       "      <td>3</td>\n",
       "      <td>Hilton London Metropole</td>\n",
       "      <td>Super disappointed!</td>\n",
       "      <td>1</td>\n",
       "      <td>First of all we arrived wanting to park at the...</td>\n",
       "      <td>1.0</td>\n",
       "      <td>0.0</td>\n",
       "      <td>0.0</td>\n",
       "      <td>0.0</td>\n",
       "      <td>0.0</td>\n",
       "    </tr>\n",
       "    <tr>\n",
       "      <td>4</td>\n",
       "      <td>Hilton London Metropole</td>\n",
       "      <td>Dissatisfied Hilton gold number</td>\n",
       "      <td>1</td>\n",
       "      <td>Hello,  I currently staying @ Hilton Metropole...</td>\n",
       "      <td>1.0</td>\n",
       "      <td>0.0</td>\n",
       "      <td>0.0</td>\n",
       "      <td>0.0</td>\n",
       "      <td>0.0</td>\n",
       "    </tr>\n",
       "  </tbody>\n",
       "</table>\n",
       "</div>"
      ],
      "text/plain": [
       "                            hotel_name                   review_summary  \\\n",
       "0  Hotel Hilton London Gatwick Airport                         Awful...   \n",
       "1              Hilton London Metropole                        Terrible    \n",
       "2                 Hilton London Euston   Double deposit taken from bank   \n",
       "3              Hilton London Metropole              Super disappointed!   \n",
       "4              Hilton London Metropole  Dissatisfied Hilton gold number   \n",
       "\n",
       "   score                                             review    0    1    2  \\\n",
       "0      1  Its hard to find words that can describe this ...  1.0  0.0  0.0   \n",
       "1      1  Absolutely terrible. Cracked ceiling, tiny roo...  1.0  0.0  0.0   \n",
       "2      1  Very disappointed firstly i checked in online ...  1.0  0.0  0.0   \n",
       "3      1  First of all we arrived wanting to park at the...  1.0  0.0  0.0   \n",
       "4      1  Hello,  I currently staying @ Hilton Metropole...  1.0  0.0  0.0   \n",
       "\n",
       "     3    4  \n",
       "0  0.0  0.0  \n",
       "1  0.0  0.0  \n",
       "2  0.0  0.0  \n",
       "3  0.0  0.0  \n",
       "4  0.0  0.0  "
      ]
     },
     "execution_count": 4,
     "metadata": {},
     "output_type": "execute_result"
    }
   ],
   "source": [
    "enc = OneHotEncoder(handle_unknown='ignore')\n",
    "\n",
    "enc_df = pd.DataFrame(enc.fit_transform(df[['score']]).toarray())\n",
    "\n",
    "df = df.join(enc_df)\n",
    "df.head()"
   ]
  },
  {
   "cell_type": "code",
   "execution_count": 5,
   "metadata": {
    "Collapsed": "false"
   },
   "outputs": [],
   "source": [
    "df = df.rename(columns={0: \"score_1\", 1:'score_2',2:'score_3',3:'score_4',4:'score_5'})"
   ]
  },
  {
   "cell_type": "code",
   "execution_count": 6,
   "metadata": {
    "Collapsed": "false"
   },
   "outputs": [
    {
     "data": {
      "text/html": [
       "<div>\n",
       "<style scoped>\n",
       "    .dataframe tbody tr th:only-of-type {\n",
       "        vertical-align: middle;\n",
       "    }\n",
       "\n",
       "    .dataframe tbody tr th {\n",
       "        vertical-align: top;\n",
       "    }\n",
       "\n",
       "    .dataframe thead th {\n",
       "        text-align: right;\n",
       "    }\n",
       "</style>\n",
       "<table border=\"1\" class=\"dataframe\">\n",
       "  <thead>\n",
       "    <tr style=\"text-align: right;\">\n",
       "      <th></th>\n",
       "      <th>hotel_name</th>\n",
       "      <th>review_summary</th>\n",
       "      <th>score</th>\n",
       "      <th>review</th>\n",
       "      <th>score_1</th>\n",
       "      <th>score_2</th>\n",
       "      <th>score_3</th>\n",
       "      <th>score_4</th>\n",
       "      <th>score_5</th>\n",
       "    </tr>\n",
       "  </thead>\n",
       "  <tbody>\n",
       "    <tr>\n",
       "      <td>0</td>\n",
       "      <td>Hotel Hilton London Gatwick Airport</td>\n",
       "      <td>Awful...</td>\n",
       "      <td>1</td>\n",
       "      <td>Its hard to find words that can describe this ...</td>\n",
       "      <td>1.0</td>\n",
       "      <td>0.0</td>\n",
       "      <td>0.0</td>\n",
       "      <td>0.0</td>\n",
       "      <td>0.0</td>\n",
       "    </tr>\n",
       "    <tr>\n",
       "      <td>1</td>\n",
       "      <td>Hilton London Metropole</td>\n",
       "      <td>Terrible</td>\n",
       "      <td>1</td>\n",
       "      <td>Absolutely terrible. Cracked ceiling, tiny roo...</td>\n",
       "      <td>1.0</td>\n",
       "      <td>0.0</td>\n",
       "      <td>0.0</td>\n",
       "      <td>0.0</td>\n",
       "      <td>0.0</td>\n",
       "    </tr>\n",
       "    <tr>\n",
       "      <td>2</td>\n",
       "      <td>Hilton London Euston</td>\n",
       "      <td>Double deposit taken from bank</td>\n",
       "      <td>1</td>\n",
       "      <td>Very disappointed firstly i checked in online ...</td>\n",
       "      <td>1.0</td>\n",
       "      <td>0.0</td>\n",
       "      <td>0.0</td>\n",
       "      <td>0.0</td>\n",
       "      <td>0.0</td>\n",
       "    </tr>\n",
       "    <tr>\n",
       "      <td>3</td>\n",
       "      <td>Hilton London Metropole</td>\n",
       "      <td>Super disappointed!</td>\n",
       "      <td>1</td>\n",
       "      <td>First of all we arrived wanting to park at the...</td>\n",
       "      <td>1.0</td>\n",
       "      <td>0.0</td>\n",
       "      <td>0.0</td>\n",
       "      <td>0.0</td>\n",
       "      <td>0.0</td>\n",
       "    </tr>\n",
       "    <tr>\n",
       "      <td>4</td>\n",
       "      <td>Hilton London Metropole</td>\n",
       "      <td>Dissatisfied Hilton gold number</td>\n",
       "      <td>1</td>\n",
       "      <td>Hello,  I currently staying @ Hilton Metropole...</td>\n",
       "      <td>1.0</td>\n",
       "      <td>0.0</td>\n",
       "      <td>0.0</td>\n",
       "      <td>0.0</td>\n",
       "      <td>0.0</td>\n",
       "    </tr>\n",
       "  </tbody>\n",
       "</table>\n",
       "</div>"
      ],
      "text/plain": [
       "                            hotel_name                   review_summary  \\\n",
       "0  Hotel Hilton London Gatwick Airport                         Awful...   \n",
       "1              Hilton London Metropole                        Terrible    \n",
       "2                 Hilton London Euston   Double deposit taken from bank   \n",
       "3              Hilton London Metropole              Super disappointed!   \n",
       "4              Hilton London Metropole  Dissatisfied Hilton gold number   \n",
       "\n",
       "   score                                             review  score_1  score_2  \\\n",
       "0      1  Its hard to find words that can describe this ...      1.0      0.0   \n",
       "1      1  Absolutely terrible. Cracked ceiling, tiny roo...      1.0      0.0   \n",
       "2      1  Very disappointed firstly i checked in online ...      1.0      0.0   \n",
       "3      1  First of all we arrived wanting to park at the...      1.0      0.0   \n",
       "4      1  Hello,  I currently staying @ Hilton Metropole...      1.0      0.0   \n",
       "\n",
       "   score_3  score_4  score_5  \n",
       "0      0.0      0.0      0.0  \n",
       "1      0.0      0.0      0.0  \n",
       "2      0.0      0.0      0.0  \n",
       "3      0.0      0.0      0.0  \n",
       "4      0.0      0.0      0.0  "
      ]
     },
     "execution_count": 6,
     "metadata": {},
     "output_type": "execute_result"
    }
   ],
   "source": [
    "df.head()"
   ]
  },
  {
   "cell_type": "markdown",
   "metadata": {
    "Collapsed": "false"
   },
   "source": [
    "## 5.3 Train Test Split"
   ]
  },
  {
   "cell_type": "code",
   "execution_count": 7,
   "metadata": {
    "Collapsed": "false"
   },
   "outputs": [],
   "source": [
    "x_train, x_test, y_train, y_test = train_test_split(df[['review','review_summary']], \n",
    "                                                    df[['score_1','score_2','score_3','score_4','score_5']], \n",
    "                                                    test_size=.2, \n",
    "                                                    random_state=42)"
   ]
  },
  {
   "cell_type": "code",
   "execution_count": null,
   "metadata": {
    "Collapsed": "false"
   },
   "outputs": [],
   "source": []
  },
  {
   "cell_type": "code",
   "execution_count": 8,
   "metadata": {
    "Collapsed": "false"
   },
   "outputs": [],
   "source": [
    "tokenizer = RegexpTokenizer(r'[a-zA-Z]+')"
   ]
  },
  {
   "cell_type": "code",
   "execution_count": 9,
   "metadata": {
    "Collapsed": "false"
   },
   "outputs": [],
   "source": [
    "def add_sum_suffix(text):\n",
    "    token_list = tokenizer.tokenize(text.lower())\n",
    "    new_text = ''\n",
    "    for word in token_list:\n",
    "        word = word + '_sum'\n",
    "        new_text += word + ' '\n",
    "    return new_text"
   ]
  },
  {
   "cell_type": "code",
   "execution_count": 10,
   "metadata": {
    "Collapsed": "false"
   },
   "outputs": [],
   "source": [
    "x_train['review_summary_suffixed'] = x_train['review_summary'].apply(add_sum_suffix)\n",
    "x_test['review_summary_suffixed'] = x_test['review_summary'].apply(add_sum_suffix)"
   ]
  },
  {
   "cell_type": "code",
   "execution_count": 11,
   "metadata": {
    "Collapsed": "false"
   },
   "outputs": [
    {
     "data": {
      "text/html": [
       "<div>\n",
       "<style scoped>\n",
       "    .dataframe tbody tr th:only-of-type {\n",
       "        vertical-align: middle;\n",
       "    }\n",
       "\n",
       "    .dataframe tbody tr th {\n",
       "        vertical-align: top;\n",
       "    }\n",
       "\n",
       "    .dataframe thead th {\n",
       "        text-align: right;\n",
       "    }\n",
       "</style>\n",
       "<table border=\"1\" class=\"dataframe\">\n",
       "  <thead>\n",
       "    <tr style=\"text-align: right;\">\n",
       "      <th></th>\n",
       "      <th>review</th>\n",
       "      <th>review_summary</th>\n",
       "      <th>review_summary_suffixed</th>\n",
       "    </tr>\n",
       "  </thead>\n",
       "  <tbody>\n",
       "    <tr>\n",
       "      <td>9048</td>\n",
       "      <td>From arrival at check in, where we had great s...</td>\n",
       "      <td>Excellent hotel</td>\n",
       "      <td>excellent_sum hotel_sum</td>\n",
       "    </tr>\n",
       "    <tr>\n",
       "      <td>1219</td>\n",
       "      <td>After 3 hours waiting for chosen room booked o...</td>\n",
       "      <td>Don't bother with online check-in</td>\n",
       "      <td>don_sum t_sum bother_sum with_sum online_sum c...</td>\n",
       "    </tr>\n",
       "    <tr>\n",
       "      <td>6901</td>\n",
       "      <td>The hotel is very well located five minutes wa...</td>\n",
       "      <td>Great location, cozy bar, good service</td>\n",
       "      <td>great_sum location_sum cozy_sum bar_sum good_s...</td>\n",
       "    </tr>\n",
       "    <tr>\n",
       "      <td>5466</td>\n",
       "      <td>We stayed here a total of 3 nights in April 20...</td>\n",
       "      <td>London base for land tour with Globus</td>\n",
       "      <td>london_sum base_sum for_sum land_sum tour_sum ...</td>\n",
       "    </tr>\n",
       "    <tr>\n",
       "      <td>6107</td>\n",
       "      <td>We recently stayed at Hilton Gatwick south ter...</td>\n",
       "      <td>Pre and post holiday stays</td>\n",
       "      <td>pre_sum and_sum post_sum holiday_sum stays_sum</td>\n",
       "    </tr>\n",
       "  </tbody>\n",
       "</table>\n",
       "</div>"
      ],
      "text/plain": [
       "                                                 review  \\\n",
       "9048  From arrival at check in, where we had great s...   \n",
       "1219  After 3 hours waiting for chosen room booked o...   \n",
       "6901  The hotel is very well located five minutes wa...   \n",
       "5466  We stayed here a total of 3 nights in April 20...   \n",
       "6107  We recently stayed at Hilton Gatwick south ter...   \n",
       "\n",
       "                              review_summary  \\\n",
       "9048                         Excellent hotel   \n",
       "1219       Don't bother with online check-in   \n",
       "6901  Great location, cozy bar, good service   \n",
       "5466   London base for land tour with Globus   \n",
       "6107              Pre and post holiday stays   \n",
       "\n",
       "                                review_summary_suffixed  \n",
       "9048                           excellent_sum hotel_sum   \n",
       "1219  don_sum t_sum bother_sum with_sum online_sum c...  \n",
       "6901  great_sum location_sum cozy_sum bar_sum good_s...  \n",
       "5466  london_sum base_sum for_sum land_sum tour_sum ...  \n",
       "6107    pre_sum and_sum post_sum holiday_sum stays_sum   "
      ]
     },
     "execution_count": 11,
     "metadata": {},
     "output_type": "execute_result"
    }
   ],
   "source": [
    "x_train.head()"
   ]
  },
  {
   "cell_type": "code",
   "execution_count": 12,
   "metadata": {
    "Collapsed": "false"
   },
   "outputs": [],
   "source": [
    "def text_cleanup(text):\n",
    "    token_list = tokenizer.tokenize(text.lower())\n",
    "    new_text = ''\n",
    "    for word in token_list:\n",
    "        new_text += word + ' '\n",
    "    return new_text"
   ]
  },
  {
   "cell_type": "code",
   "execution_count": 13,
   "metadata": {
    "Collapsed": "false"
   },
   "outputs": [],
   "source": [
    "x_train['review_cleaned'] = x_train['review'].apply(text_cleanup)\n",
    "x_test['review_cleaned'] = x_test['review'].apply(text_cleanup)"
   ]
  },
  {
   "cell_type": "code",
   "execution_count": 14,
   "metadata": {
    "Collapsed": "false"
   },
   "outputs": [
    {
     "data": {
      "text/html": [
       "<div>\n",
       "<style scoped>\n",
       "    .dataframe tbody tr th:only-of-type {\n",
       "        vertical-align: middle;\n",
       "    }\n",
       "\n",
       "    .dataframe tbody tr th {\n",
       "        vertical-align: top;\n",
       "    }\n",
       "\n",
       "    .dataframe thead th {\n",
       "        text-align: right;\n",
       "    }\n",
       "</style>\n",
       "<table border=\"1\" class=\"dataframe\">\n",
       "  <thead>\n",
       "    <tr style=\"text-align: right;\">\n",
       "      <th></th>\n",
       "      <th>review</th>\n",
       "      <th>review_summary</th>\n",
       "      <th>review_summary_suffixed</th>\n",
       "      <th>review_cleaned</th>\n",
       "    </tr>\n",
       "  </thead>\n",
       "  <tbody>\n",
       "    <tr>\n",
       "      <td>9048</td>\n",
       "      <td>From arrival at check in, where we had great s...</td>\n",
       "      <td>Excellent hotel</td>\n",
       "      <td>excellent_sum hotel_sum</td>\n",
       "      <td>from arrival at check in where we had great se...</td>\n",
       "    </tr>\n",
       "    <tr>\n",
       "      <td>1219</td>\n",
       "      <td>After 3 hours waiting for chosen room booked o...</td>\n",
       "      <td>Don't bother with online check-in</td>\n",
       "      <td>don_sum t_sum bother_sum with_sum online_sum c...</td>\n",
       "      <td>after hours waiting for chosen room booked onl...</td>\n",
       "    </tr>\n",
       "    <tr>\n",
       "      <td>6901</td>\n",
       "      <td>The hotel is very well located five minutes wa...</td>\n",
       "      <td>Great location, cozy bar, good service</td>\n",
       "      <td>great_sum location_sum cozy_sum bar_sum good_s...</td>\n",
       "      <td>the hotel is very well located five minutes wa...</td>\n",
       "    </tr>\n",
       "    <tr>\n",
       "      <td>5466</td>\n",
       "      <td>We stayed here a total of 3 nights in April 20...</td>\n",
       "      <td>London base for land tour with Globus</td>\n",
       "      <td>london_sum base_sum for_sum land_sum tour_sum ...</td>\n",
       "      <td>we stayed here a total of nights in april the ...</td>\n",
       "    </tr>\n",
       "    <tr>\n",
       "      <td>6107</td>\n",
       "      <td>We recently stayed at Hilton Gatwick south ter...</td>\n",
       "      <td>Pre and post holiday stays</td>\n",
       "      <td>pre_sum and_sum post_sum holiday_sum stays_sum</td>\n",
       "      <td>we recently stayed at hilton gatwick south ter...</td>\n",
       "    </tr>\n",
       "  </tbody>\n",
       "</table>\n",
       "</div>"
      ],
      "text/plain": [
       "                                                 review  \\\n",
       "9048  From arrival at check in, where we had great s...   \n",
       "1219  After 3 hours waiting for chosen room booked o...   \n",
       "6901  The hotel is very well located five minutes wa...   \n",
       "5466  We stayed here a total of 3 nights in April 20...   \n",
       "6107  We recently stayed at Hilton Gatwick south ter...   \n",
       "\n",
       "                              review_summary  \\\n",
       "9048                         Excellent hotel   \n",
       "1219       Don't bother with online check-in   \n",
       "6901  Great location, cozy bar, good service   \n",
       "5466   London base for land tour with Globus   \n",
       "6107              Pre and post holiday stays   \n",
       "\n",
       "                                review_summary_suffixed  \\\n",
       "9048                           excellent_sum hotel_sum    \n",
       "1219  don_sum t_sum bother_sum with_sum online_sum c...   \n",
       "6901  great_sum location_sum cozy_sum bar_sum good_s...   \n",
       "5466  london_sum base_sum for_sum land_sum tour_sum ...   \n",
       "6107    pre_sum and_sum post_sum holiday_sum stays_sum    \n",
       "\n",
       "                                         review_cleaned  \n",
       "9048  from arrival at check in where we had great se...  \n",
       "1219  after hours waiting for chosen room booked onl...  \n",
       "6901  the hotel is very well located five minutes wa...  \n",
       "5466  we stayed here a total of nights in april the ...  \n",
       "6107  we recently stayed at hilton gatwick south ter...  "
      ]
     },
     "execution_count": 14,
     "metadata": {},
     "output_type": "execute_result"
    }
   ],
   "source": [
    "x_train.head()"
   ]
  },
  {
   "cell_type": "code",
   "execution_count": 15,
   "metadata": {
    "Collapsed": "false"
   },
   "outputs": [],
   "source": [
    "flat_review = \" \".join(x_train['review_cleaned'].values)\n",
    "flat_review = flat_review.lower().split()"
   ]
  },
  {
   "cell_type": "code",
   "execution_count": 16,
   "metadata": {
    "Collapsed": "false"
   },
   "outputs": [
    {
     "data": {
      "text/plain": [
       "733061"
      ]
     },
     "execution_count": 16,
     "metadata": {},
     "output_type": "execute_result"
    }
   ],
   "source": [
    "len(flat_review)"
   ]
  },
  {
   "cell_type": "code",
   "execution_count": 17,
   "metadata": {
    "Collapsed": "false"
   },
   "outputs": [],
   "source": [
    "flat_review_summary = \" \".join(x_train['review_summary_suffixed'].values)\n",
    "flat_review_summary = flat_review_summary.lower().split()"
   ]
  },
  {
   "cell_type": "code",
   "execution_count": 18,
   "metadata": {
    "Collapsed": "false"
   },
   "outputs": [],
   "source": [
    "unique_list = []\n",
    "for word in flat_review:\n",
    "    if word not in unique_list:\n",
    "        unique_list.append(word)\n",
    "for word in flat_review_summary:\n",
    "    if word not in unique_list:\n",
    "        unique_list.append(word)"
   ]
  },
  {
   "cell_type": "code",
   "execution_count": 19,
   "metadata": {
    "Collapsed": "false"
   },
   "outputs": [
    {
     "data": {
      "text/plain": [
       "17313"
      ]
     },
     "execution_count": 19,
     "metadata": {},
     "output_type": "execute_result"
    }
   ],
   "source": [
    "len(unique_list)"
   ]
  },
  {
   "cell_type": "code",
   "execution_count": 20,
   "metadata": {
    "Collapsed": "false"
   },
   "outputs": [],
   "source": [
    "word_index_dict = {}\n",
    "for i in range(0,len(unique_list)):\n",
    "    word_index_dict[unique_list[i]] = i\n",
    "    "
   ]
  },
  {
   "cell_type": "code",
   "execution_count": 21,
   "metadata": {
    "Collapsed": "false"
   },
   "outputs": [],
   "source": [
    "word_index_dict = {k:(v+4) for k,v in word_index_dict.items()}\n",
    "word_index_dict['<PAD>'] = 0\n",
    "word_index_dict['<START>'] = 1\n",
    "word_index_dict['<UNK>'] = 2\n",
    "word_index_dict['<UNUSED>'] = 3"
   ]
  },
  {
   "cell_type": "code",
   "execution_count": 22,
   "metadata": {
    "Collapsed": "false"
   },
   "outputs": [],
   "source": [
    "def index_review_words(text):\n",
    "    review_word_list = []\n",
    "    for word in text.lower().split():\n",
    "        if word in word_index_dict.keys():\n",
    "            review_word_list.append(word_index_dict[word])\n",
    "        else:\n",
    "            review_word_list.append(word_index_dict['<UNK>'])\n",
    "\n",
    "    return review_word_list "
   ]
  },
  {
   "cell_type": "code",
   "execution_count": 23,
   "metadata": {
    "Collapsed": "false"
   },
   "outputs": [
    {
     "data": {
      "text/plain": [
       "[188, 36, 306, 2]"
      ]
     },
     "execution_count": 23,
     "metadata": {},
     "output_type": "execute_result"
    }
   ],
   "source": [
    "index_review_words('my name its ahilan!')"
   ]
  },
  {
   "cell_type": "code",
   "execution_count": 24,
   "metadata": {
    "Collapsed": "false"
   },
   "outputs": [
    {
     "data": {
      "text/plain": [
       "17317"
      ]
     },
     "execution_count": 24,
     "metadata": {},
     "output_type": "execute_result"
    }
   ],
   "source": [
    "len(word_index_dict)"
   ]
  },
  {
   "cell_type": "code",
   "execution_count": 25,
   "metadata": {
    "Collapsed": "false"
   },
   "outputs": [],
   "source": [
    "x_train['preprocessed_review'] = x_train['review_cleaned'].apply(index_review_words)\n",
    "x_test['preprocessed_review'] = x_test['review_cleaned'].apply(index_review_words)"
   ]
  },
  {
   "cell_type": "code",
   "execution_count": 26,
   "metadata": {
    "Collapsed": "false"
   },
   "outputs": [],
   "source": [
    "x_train['preprocessed_review_summary'] = x_train['review_summary_suffixed'].apply(index_review_words)\n",
    "x_test['preprocessed_review_summary'] = x_test['review_summary_suffixed'].apply(index_review_words)"
   ]
  },
  {
   "cell_type": "code",
   "execution_count": 27,
   "metadata": {
    "Collapsed": "false"
   },
   "outputs": [
    {
     "data": {
      "text/html": [
       "<div>\n",
       "<style scoped>\n",
       "    .dataframe tbody tr th:only-of-type {\n",
       "        vertical-align: middle;\n",
       "    }\n",
       "\n",
       "    .dataframe tbody tr th {\n",
       "        vertical-align: top;\n",
       "    }\n",
       "\n",
       "    .dataframe thead th {\n",
       "        text-align: right;\n",
       "    }\n",
       "</style>\n",
       "<table border=\"1\" class=\"dataframe\">\n",
       "  <thead>\n",
       "    <tr style=\"text-align: right;\">\n",
       "      <th></th>\n",
       "      <th>review</th>\n",
       "      <th>review_summary</th>\n",
       "      <th>review_summary_suffixed</th>\n",
       "      <th>review_cleaned</th>\n",
       "      <th>preprocessed_review</th>\n",
       "      <th>preprocessed_review_summary</th>\n",
       "    </tr>\n",
       "  </thead>\n",
       "  <tbody>\n",
       "    <tr>\n",
       "      <td>9048</td>\n",
       "      <td>From arrival at check in, where we had great s...</td>\n",
       "      <td>Excellent hotel</td>\n",
       "      <td>excellent_sum hotel_sum</td>\n",
       "      <td>from arrival at check in where we had great se...</td>\n",
       "      <td>[4, 5, 6, 7, 8, 9, 10, 11, 12, 13, 14, 15, 16,...</td>\n",
       "      <td>[14416, 14417]</td>\n",
       "    </tr>\n",
       "    <tr>\n",
       "      <td>1219</td>\n",
       "      <td>After 3 hours waiting for chosen room booked o...</td>\n",
       "      <td>Don't bother with online check-in</td>\n",
       "      <td>don_sum t_sum bother_sum with_sum online_sum c...</td>\n",
       "      <td>after hours waiting for chosen room booked onl...</td>\n",
       "      <td>[61, 62, 63, 64, 65, 42, 66, 67, 68, 69, 39, 7...</td>\n",
       "      <td>[14418, 14419, 14420, 14421, 14422, 14423, 14424]</td>\n",
       "    </tr>\n",
       "    <tr>\n",
       "      <td>6901</td>\n",
       "      <td>The hotel is very well located five minutes wa...</td>\n",
       "      <td>Great location, cozy bar, good service</td>\n",
       "      <td>great_sum location_sum cozy_sum bar_sum good_s...</td>\n",
       "      <td>the hotel is very well located five minutes wa...</td>\n",
       "      <td>[33, 60, 111, 19, 112, 113, 114, 115, 116, 4, ...</td>\n",
       "      <td>[14425, 14426, 14427, 14428, 14429, 14430]</td>\n",
       "    </tr>\n",
       "    <tr>\n",
       "      <td>5466</td>\n",
       "      <td>We stayed here a total of 3 nights in April 20...</td>\n",
       "      <td>London base for land tour with Globus</td>\n",
       "      <td>london_sum base_sum for_sum land_sum tour_sum ...</td>\n",
       "      <td>we stayed here a total of nights in april the ...</td>\n",
       "      <td>[10, 144, 145, 22, 146, 25, 147, 8, 148, 33, 7...</td>\n",
       "      <td>[14431, 14432, 14433, 14434, 14435, 14421, 14436]</td>\n",
       "    </tr>\n",
       "    <tr>\n",
       "      <td>6107</td>\n",
       "      <td>We recently stayed at Hilton Gatwick south ter...</td>\n",
       "      <td>Pre and post holiday stays</td>\n",
       "      <td>pre_sum and_sum post_sum holiday_sum stays_sum</td>\n",
       "      <td>we recently stayed at hilton gatwick south ter...</td>\n",
       "      <td>[10, 172, 144, 6, 173, 174, 175, 176, 33, 49, ...</td>\n",
       "      <td>[14437, 14438, 14439, 14440, 14441]</td>\n",
       "    </tr>\n",
       "  </tbody>\n",
       "</table>\n",
       "</div>"
      ],
      "text/plain": [
       "                                                 review  \\\n",
       "9048  From arrival at check in, where we had great s...   \n",
       "1219  After 3 hours waiting for chosen room booked o...   \n",
       "6901  The hotel is very well located five minutes wa...   \n",
       "5466  We stayed here a total of 3 nights in April 20...   \n",
       "6107  We recently stayed at Hilton Gatwick south ter...   \n",
       "\n",
       "                              review_summary  \\\n",
       "9048                         Excellent hotel   \n",
       "1219       Don't bother with online check-in   \n",
       "6901  Great location, cozy bar, good service   \n",
       "5466   London base for land tour with Globus   \n",
       "6107              Pre and post holiday stays   \n",
       "\n",
       "                                review_summary_suffixed  \\\n",
       "9048                           excellent_sum hotel_sum    \n",
       "1219  don_sum t_sum bother_sum with_sum online_sum c...   \n",
       "6901  great_sum location_sum cozy_sum bar_sum good_s...   \n",
       "5466  london_sum base_sum for_sum land_sum tour_sum ...   \n",
       "6107    pre_sum and_sum post_sum holiday_sum stays_sum    \n",
       "\n",
       "                                         review_cleaned  \\\n",
       "9048  from arrival at check in where we had great se...   \n",
       "1219  after hours waiting for chosen room booked onl...   \n",
       "6901  the hotel is very well located five minutes wa...   \n",
       "5466  we stayed here a total of nights in april the ...   \n",
       "6107  we recently stayed at hilton gatwick south ter...   \n",
       "\n",
       "                                    preprocessed_review  \\\n",
       "9048  [4, 5, 6, 7, 8, 9, 10, 11, 12, 13, 14, 15, 16,...   \n",
       "1219  [61, 62, 63, 64, 65, 42, 66, 67, 68, 69, 39, 7...   \n",
       "6901  [33, 60, 111, 19, 112, 113, 114, 115, 116, 4, ...   \n",
       "5466  [10, 144, 145, 22, 146, 25, 147, 8, 148, 33, 7...   \n",
       "6107  [10, 172, 144, 6, 173, 174, 175, 176, 33, 49, ...   \n",
       "\n",
       "                            preprocessed_review_summary  \n",
       "9048                                     [14416, 14417]  \n",
       "1219  [14418, 14419, 14420, 14421, 14422, 14423, 14424]  \n",
       "6901         [14425, 14426, 14427, 14428, 14429, 14430]  \n",
       "5466  [14431, 14432, 14433, 14434, 14435, 14421, 14436]  \n",
       "6107                [14437, 14438, 14439, 14440, 14441]  "
      ]
     },
     "execution_count": 27,
     "metadata": {},
     "output_type": "execute_result"
    }
   ],
   "source": [
    "x_train.head()"
   ]
  },
  {
   "cell_type": "code",
   "execution_count": 28,
   "metadata": {
    "Collapsed": "false"
   },
   "outputs": [],
   "source": [
    "x_train['all_preprocessed_review'] = x_train['preprocessed_review'] + x_train['preprocessed_review_summary']\n",
    "x_test['all_preprocessed_review'] = x_test['preprocessed_review'] + x_test['preprocessed_review_summary']"
   ]
  },
  {
   "cell_type": "code",
   "execution_count": 29,
   "metadata": {
    "Collapsed": "false"
   },
   "outputs": [],
   "source": [
    "x_train = sequence.pad_sequences(x_train['all_preprocessed_review'],value=word_index_dict['<PAD>'],padding='post',maxlen=250)\n",
    "x_test = sequence.pad_sequences(x_test['all_preprocessed_review'],value=word_index_dict['<PAD>'],padding='post',maxlen=250)"
   ]
  },
  {
   "cell_type": "code",
   "execution_count": 30,
   "metadata": {
    "Collapsed": "false"
   },
   "outputs": [],
   "source": [
    "model = Sequential()\n",
    "model.add(Embedding(17317,16))\n",
    "model.add(GlobalAveragePooling1D())\n",
    "model.add(Dense(16,activation='relu'))\n",
    "model.add(Dense(5,activation='sigmoid'))"
   ]
  },
  {
   "cell_type": "code",
   "execution_count": 31,
   "metadata": {
    "Collapsed": "false"
   },
   "outputs": [],
   "source": [
    "model.compile(optimizer='adam',loss='categorical_crossentropy',metrics=['accuracy'])"
   ]
  },
  {
   "cell_type": "code",
   "execution_count": 32,
   "metadata": {
    "Collapsed": "false"
   },
   "outputs": [],
   "source": [
    "x_train, x_val, y_train, y_val = train_test_split(x_train,y_train,test_size=.2,random_state=42)"
   ]
  },
  {
   "cell_type": "code",
   "execution_count": 33,
   "metadata": {
    "Collapsed": "false"
   },
   "outputs": [
    {
     "name": "stderr",
     "output_type": "stream",
     "text": [
      "C:\\Users\\candy\\Anaconda3\\lib\\site-packages\\tensorflow_core\\python\\framework\\indexed_slices.py:433: UserWarning: Converting sparse IndexedSlices to a dense Tensor of unknown shape. This may consume a large amount of memory.\n",
      "  \"Converting sparse IndexedSlices to a dense Tensor of unknown shape. \"\n"
     ]
    },
    {
     "name": "stdout",
     "output_type": "stream",
     "text": [
      "Train on 6019 samples, validate on 1505 samples\n",
      "Epoch 1/60\n",
      "6019/6019 [==============================] - 0s 44us/step - loss: 1.6093 - accuracy: 0.1995 - val_loss: 1.6092 - val_accuracy: 0.1907\n",
      "Epoch 2/60\n",
      "6019/6019 [==============================] - 0s 29us/step - loss: 1.6083 - accuracy: 0.2549 - val_loss: 1.6080 - val_accuracy: 0.2551\n",
      "Epoch 3/60\n",
      "6019/6019 [==============================] - 0s 28us/step - loss: 1.6066 - accuracy: 0.2889 - val_loss: 1.6056 - val_accuracy: 0.2817\n",
      "Epoch 4/60\n",
      "6019/6019 [==============================] - 0s 28us/step - loss: 1.6024 - accuracy: 0.2863 - val_loss: 1.5992 - val_accuracy: 0.2831\n",
      "Epoch 5/60\n",
      "6019/6019 [==============================] - 0s 28us/step - loss: 1.5940 - accuracy: 0.2811 - val_loss: 1.5885 - val_accuracy: 0.2831\n",
      "Epoch 6/60\n",
      "6019/6019 [==============================] - 0s 28us/step - loss: 1.5805 - accuracy: 0.2856 - val_loss: 1.5716 - val_accuracy: 0.2877\n",
      "Epoch 7/60\n",
      "6019/6019 [==============================] - 0s 28us/step - loss: 1.5611 - accuracy: 0.2902 - val_loss: 1.5484 - val_accuracy: 0.2910\n",
      "Epoch 8/60\n",
      "6019/6019 [==============================] - 0s 28us/step - loss: 1.5345 - accuracy: 0.3005 - val_loss: 1.5178 - val_accuracy: 0.3023\n",
      "Epoch 9/60\n",
      "6019/6019 [==============================] - 0s 28us/step - loss: 1.5003 - accuracy: 0.3145 - val_loss: 1.4813 - val_accuracy: 0.3169\n",
      "Epoch 10/60\n",
      "6019/6019 [==============================] - 0s 28us/step - loss: 1.4598 - accuracy: 0.3366 - val_loss: 1.4399 - val_accuracy: 0.3269\n",
      "Epoch 11/60\n",
      "6019/6019 [==============================] - 0s 28us/step - loss: 1.4127 - accuracy: 0.3604 - val_loss: 1.3932 - val_accuracy: 0.3435\n",
      "Epoch 12/60\n",
      "6019/6019 [==============================] - 0s 28us/step - loss: 1.3622 - accuracy: 0.3708 - val_loss: 1.3469 - val_accuracy: 0.3462\n",
      "Epoch 13/60\n",
      "6019/6019 [==============================] - 0s 28us/step - loss: 1.3117 - accuracy: 0.3775 - val_loss: 1.3039 - val_accuracy: 0.3661\n",
      "Epoch 14/60\n",
      "6019/6019 [==============================] - 0s 29us/step - loss: 1.2669 - accuracy: 0.3869 - val_loss: 1.2707 - val_accuracy: 0.3821\n",
      "Epoch 15/60\n",
      "6019/6019 [==============================] - 0s 27us/step - loss: 1.2243 - accuracy: 0.3994 - val_loss: 1.2314 - val_accuracy: 0.3914\n",
      "Epoch 16/60\n",
      "6019/6019 [==============================] - 0s 27us/step - loss: 1.1869 - accuracy: 0.4223 - val_loss: 1.2038 - val_accuracy: 0.4053\n",
      "Epoch 17/60\n",
      "6019/6019 [==============================] - 0s 27us/step - loss: 1.1568 - accuracy: 0.4403 - val_loss: 1.1816 - val_accuracy: 0.4213\n",
      "Epoch 18/60\n",
      "6019/6019 [==============================] - 0s 27us/step - loss: 1.1298 - accuracy: 0.4416 - val_loss: 1.1661 - val_accuracy: 0.4372\n",
      "Epoch 19/60\n",
      "6019/6019 [==============================] - 0s 27us/step - loss: 1.1075 - accuracy: 0.4811 - val_loss: 1.1498 - val_accuracy: 0.4545\n",
      "Epoch 20/60\n",
      "6019/6019 [==============================] - 0s 28us/step - loss: 1.0856 - accuracy: 0.4913 - val_loss: 1.1350 - val_accuracy: 0.4319\n",
      "Epoch 21/60\n",
      "6019/6019 [==============================] - 0s 27us/step - loss: 1.0657 - accuracy: 0.4727 - val_loss: 1.1226 - val_accuracy: 0.4492\n",
      "Epoch 22/60\n",
      "6019/6019 [==============================] - 0s 27us/step - loss: 1.0474 - accuracy: 0.4998 - val_loss: 1.1136 - val_accuracy: 0.4664\n",
      "Epoch 23/60\n",
      "6019/6019 [==============================] - 0s 29us/step - loss: 1.0302 - accuracy: 0.5411 - val_loss: 1.1046 - val_accuracy: 0.4777\n",
      "Epoch 24/60\n",
      "6019/6019 [==============================] - 0s 27us/step - loss: 1.0169 - accuracy: 0.5581 - val_loss: 1.0976 - val_accuracy: 0.4917\n",
      "Epoch 25/60\n",
      "6019/6019 [==============================] - 0s 27us/step - loss: 1.0015 - accuracy: 0.5514 - val_loss: 1.0887 - val_accuracy: 0.5023\n",
      "Epoch 26/60\n",
      "6019/6019 [==============================] - 0s 27us/step - loss: 0.9848 - accuracy: 0.5808 - val_loss: 1.0890 - val_accuracy: 0.4983\n",
      "Epoch 27/60\n",
      "6019/6019 [==============================] - 0s 27us/step - loss: 0.9726 - accuracy: 0.5745 - val_loss: 1.0764 - val_accuracy: 0.5116\n",
      "Epoch 28/60\n",
      "6019/6019 [==============================] - 0s 27us/step - loss: 0.9572 - accuracy: 0.5895 - val_loss: 1.0700 - val_accuracy: 0.5136\n",
      "Epoch 29/60\n",
      "6019/6019 [==============================] - 0s 27us/step - loss: 0.9465 - accuracy: 0.5974 - val_loss: 1.0648 - val_accuracy: 0.5236\n",
      "Epoch 30/60\n",
      "6019/6019 [==============================] - 0s 27us/step - loss: 0.9322 - accuracy: 0.6099 - val_loss: 1.0595 - val_accuracy: 0.5223\n",
      "Epoch 31/60\n",
      "6019/6019 [==============================] - 0s 27us/step - loss: 0.9203 - accuracy: 0.6112 - val_loss: 1.0557 - val_accuracy: 0.5196\n",
      "Epoch 32/60\n",
      "6019/6019 [==============================] - 0s 27us/step - loss: 0.9078 - accuracy: 0.6179 - val_loss: 1.0509 - val_accuracy: 0.5183\n",
      "Epoch 33/60\n",
      "6019/6019 [==============================] - 0s 27us/step - loss: 0.8965 - accuracy: 0.6275 - val_loss: 1.0470 - val_accuracy: 0.5183\n",
      "Epoch 34/60\n",
      "6019/6019 [==============================] - 0s 27us/step - loss: 0.8847 - accuracy: 0.6225 - val_loss: 1.0441 - val_accuracy: 0.5296\n",
      "Epoch 35/60\n",
      "6019/6019 [==============================] - 0s 27us/step - loss: 0.8745 - accuracy: 0.6355 - val_loss: 1.0399 - val_accuracy: 0.5196\n",
      "Epoch 36/60\n",
      "6019/6019 [==============================] - 0s 27us/step - loss: 0.8631 - accuracy: 0.6325 - val_loss: 1.0363 - val_accuracy: 0.5309\n",
      "Epoch 37/60\n",
      "6019/6019 [==============================] - 0s 27us/step - loss: 0.8536 - accuracy: 0.6463 - val_loss: 1.0338 - val_accuracy: 0.5276\n",
      "Epoch 38/60\n",
      "6019/6019 [==============================] - 0s 27us/step - loss: 0.8430 - accuracy: 0.6466 - val_loss: 1.0332 - val_accuracy: 0.5236\n",
      "Epoch 39/60\n",
      "6019/6019 [==============================] - 0s 28us/step - loss: 0.8324 - accuracy: 0.6553 - val_loss: 1.0321 - val_accuracy: 0.5269\n",
      "Epoch 40/60\n",
      "6019/6019 [==============================] - 0s 27us/step - loss: 0.8230 - accuracy: 0.6581 - val_loss: 1.0257 - val_accuracy: 0.5296\n",
      "Epoch 41/60\n",
      "6019/6019 [==============================] - 0s 28us/step - loss: 0.8127 - accuracy: 0.6664 - val_loss: 1.0265 - val_accuracy: 0.5322\n",
      "Epoch 42/60\n",
      "6019/6019 [==============================] - 0s 27us/step - loss: 0.8029 - accuracy: 0.6681 - val_loss: 1.0242 - val_accuracy: 0.5375\n",
      "Epoch 43/60\n",
      "6019/6019 [==============================] - 0s 27us/step - loss: 0.7928 - accuracy: 0.6810 - val_loss: 1.0225 - val_accuracy: 0.5349\n",
      "Epoch 44/60\n",
      "6019/6019 [==============================] - 0s 27us/step - loss: 0.7836 - accuracy: 0.6840 - val_loss: 1.0192 - val_accuracy: 0.5369\n",
      "Epoch 45/60\n",
      "6019/6019 [==============================] - 0s 27us/step - loss: 0.7742 - accuracy: 0.6948 - val_loss: 1.0176 - val_accuracy: 0.5322\n",
      "Epoch 46/60\n",
      "6019/6019 [==============================] - 0s 27us/step - loss: 0.7657 - accuracy: 0.6921 - val_loss: 1.0158 - val_accuracy: 0.5442\n",
      "Epoch 47/60\n",
      "6019/6019 [==============================] - 0s 27us/step - loss: 0.7557 - accuracy: 0.7039 - val_loss: 1.0148 - val_accuracy: 0.5402\n",
      "Epoch 48/60\n",
      "6019/6019 [==============================] - 0s 28us/step - loss: 0.7478 - accuracy: 0.7044 - val_loss: 1.0130 - val_accuracy: 0.5389\n",
      "Epoch 49/60\n",
      "6019/6019 [==============================] - 0s 27us/step - loss: 0.7396 - accuracy: 0.7182 - val_loss: 1.0153 - val_accuracy: 0.5355\n",
      "Epoch 50/60\n",
      "6019/6019 [==============================] - 0s 28us/step - loss: 0.7294 - accuracy: 0.7212 - val_loss: 1.0132 - val_accuracy: 0.5382\n",
      "Epoch 51/60\n",
      "6019/6019 [==============================] - 0s 28us/step - loss: 0.7218 - accuracy: 0.7297 - val_loss: 1.0108 - val_accuracy: 0.5422\n",
      "Epoch 52/60\n",
      "6019/6019 [==============================] - 0s 27us/step - loss: 0.7137 - accuracy: 0.7212 - val_loss: 1.0119 - val_accuracy: 0.5355\n",
      "Epoch 53/60\n",
      "6019/6019 [==============================] - 0s 27us/step - loss: 0.7051 - accuracy: 0.7333 - val_loss: 1.0103 - val_accuracy: 0.5362\n",
      "Epoch 54/60\n",
      "6019/6019 [==============================] - 0s 27us/step - loss: 0.6970 - accuracy: 0.7358 - val_loss: 1.0087 - val_accuracy: 0.5442\n",
      "Epoch 55/60\n",
      "6019/6019 [==============================] - 0s 27us/step - loss: 0.6882 - accuracy: 0.7372 - val_loss: 1.0069 - val_accuracy: 0.5488\n",
      "Epoch 56/60\n",
      "6019/6019 [==============================] - 0s 27us/step - loss: 0.6796 - accuracy: 0.7440 - val_loss: 1.0084 - val_accuracy: 0.5409\n",
      "Epoch 57/60\n",
      "6019/6019 [==============================] - 0s 27us/step - loss: 0.6723 - accuracy: 0.7515 - val_loss: 1.0115 - val_accuracy: 0.5382\n",
      "Epoch 58/60\n",
      "6019/6019 [==============================] - 0s 27us/step - loss: 0.6643 - accuracy: 0.7531 - val_loss: 1.0107 - val_accuracy: 0.5409\n",
      "Epoch 59/60\n",
      "6019/6019 [==============================] - 0s 27us/step - loss: 0.6563 - accuracy: 0.7581 - val_loss: 1.0153 - val_accuracy: 0.5402\n",
      "Epoch 60/60\n",
      "6019/6019 [==============================] - 0s 27us/step - loss: 0.6493 - accuracy: 0.7618 - val_loss: 1.0107 - val_accuracy: 0.5435\n"
     ]
    }
   ],
   "source": [
    "fitModel = model.fit(x_train,y_train,epochs=60,batch_size=250,validation_data=(x_val,y_val),verbose=1)"
   ]
  },
  {
   "cell_type": "code",
   "execution_count": 34,
   "metadata": {
    "Collapsed": "false"
   },
   "outputs": [
    {
     "name": "stdout",
     "output_type": "stream",
     "text": [
      "1505/1505 [==============================] - 0s 11us/step\n"
     ]
    },
    {
     "data": {
      "text/plain": [
       "[1.0107281426654702, 0.5435215830802917]"
      ]
     },
     "execution_count": 34,
     "metadata": {},
     "output_type": "execute_result"
    }
   ],
   "source": [
    "model.evaluate(x_val,y_val)"
   ]
  },
  {
   "cell_type": "code",
   "execution_count": 35,
   "metadata": {
    "Collapsed": "false"
   },
   "outputs": [
    {
     "name": "stdout",
     "output_type": "stream",
     "text": [
      "1881/1881 [==============================] - 0s 11us/step\n"
     ]
    },
    {
     "data": {
      "text/plain": [
       "[0.9902665629975026, 0.5645933151245117]"
      ]
     },
     "execution_count": 35,
     "metadata": {},
     "output_type": "execute_result"
    }
   ],
   "source": [
    "model.evaluate(x_test,y_test)"
   ]
  },
  {
   "cell_type": "code",
   "execution_count": 36,
   "metadata": {
    "Collapsed": "false"
   },
   "outputs": [],
   "source": [
    "def reverse_encode(y_df):\n",
    "    y_df['score'] = (y_df.iloc[:, 0:] == 1).idxmax(1)['score'] = (y_df.iloc[:, 0:] == 1).idxmax(1)\n",
    "    for i in range(0,len(y_df)):\n",
    "        if y_df.iloc[i,-1] == 'score_1':\n",
    "            y_df.iloc[i,-1] = 1\n",
    "        elif y_df.iloc[i,-1] == 'score_2':\n",
    "            y_df.iloc[i,-1] = 2\n",
    "        elif y_df.iloc[i,-1]== 'score_3':\n",
    "            y_df.iloc[i,-1] = 3\n",
    "        elif y_df.iloc[i,-1]== 'score_4':\n",
    "            y_df.iloc[i,-1] = 4\n",
    "        elif y_df.iloc[i,-1] == 'score_5':\n",
    "            y_df.iloc[i,-1]= 5\n",
    "            "
   ]
  },
  {
   "cell_type": "code",
   "execution_count": 37,
   "metadata": {
    "Collapsed": "false"
   },
   "outputs": [],
   "source": [
    "reverse_encode(y_test)"
   ]
  },
  {
   "cell_type": "code",
   "execution_count": 38,
   "metadata": {
    "Collapsed": "false"
   },
   "outputs": [],
   "source": [
    "reverse_encode(y_val)"
   ]
  },
  {
   "cell_type": "code",
   "execution_count": 63,
   "metadata": {
    "Collapsed": "false"
   },
   "outputs": [
    {
     "data": {
      "text/plain": [
       "2"
      ]
     },
     "execution_count": 63,
     "metadata": {},
     "output_type": "execute_result"
    }
   ],
   "source": [
    "pd.DataFrame(np.argmax(model.predict(x_val),axis=1))[0].unique()[1]"
   ]
  },
  {
   "cell_type": "code",
   "execution_count": 70,
   "metadata": {
    "Collapsed": "false"
   },
   "outputs": [
    {
     "data": {
      "text/plain": [
       "array([4, 4, 2, ..., 2, 2, 0], dtype=int64)"
      ]
     },
     "execution_count": 70,
     "metadata": {},
     "output_type": "execute_result"
    }
   ],
   "source": [
    "np.argmax(model.predict(x_val),axis=1)"
   ]
  },
  {
   "cell_type": "code",
   "execution_count": 68,
   "metadata": {
    "Collapsed": "false"
   },
   "outputs": [],
   "source": [
    "def add_one_argmax_score(x):\n",
    "    x = x+1\n",
    "    return x"
   ]
  },
  {
   "cell_type": "code",
   "execution_count": 71,
   "metadata": {
    "Collapsed": "false"
   },
   "outputs": [],
   "source": [
    "y_val_predicted = add_one_argmax_score(np.argmax(model.predict(x_val),axis=1))"
   ]
  },
  {
   "cell_type": "code",
   "execution_count": 77,
   "metadata": {
    "Collapsed": "false"
   },
   "outputs": [],
   "source": [
    "y_test_predicted = add_one_argmax_score(np.argmax(model.predict(x_test),axis=1))"
   ]
  },
  {
   "cell_type": "code",
   "execution_count": 74,
   "metadata": {
    "Collapsed": "false"
   },
   "outputs": [],
   "source": [
    "val_cm = confusion_matrix(y_val['score'], y_val_predicted)"
   ]
  },
  {
   "cell_type": "code",
   "execution_count": 78,
   "metadata": {
    "Collapsed": "false"
   },
   "outputs": [],
   "source": [
    "test_cm = confusion_matrix(y_test['score'], y_test_predicted)"
   ]
  },
  {
   "cell_type": "code",
   "execution_count": 79,
   "metadata": {
    "Collapsed": "false"
   },
   "outputs": [],
   "source": [
    "def conf_matrix(cm):\n",
    "    plt.figure(figsize=(9,9))\n",
    "    ax = sns.heatmap(cm,\n",
    "                     annot= True, \n",
    "                     fmt = '.4g', \n",
    "                     cbar=0,\n",
    "                     xticklabels=[1,2,3,4,5],\n",
    "                     yticklabels=[1,2,3,4,5])\n",
    "    ax.set(xlabel='Predicted', ylabel='True')\n",
    "    plt.show()"
   ]
  },
  {
   "cell_type": "code",
   "execution_count": 76,
   "metadata": {
    "Collapsed": "false"
   },
   "outputs": [
    {
     "data": {
      "image/png": "[encoded data removed]",
      "text/plain": [
       "<Figure size 648x648 with 1 Axes>"
      ]
     },
     "metadata": {
      "needs_background": "light"
     },
     "output_type": "display_data"
    }
   ],
   "source": [
    "conf_matrix(val_cm)"
   ]
  },
  {
   "cell_type": "code",
   "execution_count": 80,
   "metadata": {
    "Collapsed": "false"
   },
   "outputs": [
    {
     "data": {
      "image/png": "[encoded data removed]",
      "text/plain": [
       "<Figure size 648x648 with 1 Axes>"
      ]
     },
     "metadata": {
      "needs_background": "light"
     },
     "output_type": "display_data"
    }
   ],
   "source": [
    "conf_matrix(test_cm)"
   ]
  }
 ],
 "metadata": {
  "kernelspec": {
   "display_name": "Python 3",
   "language": "python",
   "name": "python3"
  },
  "language_info": {
   "codemirror_mode": {
    "name": "ipython",
    "version": 3
   },
   "file_extension": ".py",
   "mimetype": "text/x-python",
   "name": "python",
   "nbconvert_exporter": "python",
   "pygments_lexer": "ipython3",
   "version": "3.6.6"
  }
 },
 "nbformat": 4,
 "nbformat_minor": 4
}
